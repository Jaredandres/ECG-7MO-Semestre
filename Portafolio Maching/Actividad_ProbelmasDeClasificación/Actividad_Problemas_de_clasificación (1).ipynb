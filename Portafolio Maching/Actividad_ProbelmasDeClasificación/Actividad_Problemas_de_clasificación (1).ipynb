{
  "nbformat": 4,
  "nbformat_minor": 0,
  "metadata": {
    "colab": {
      "provenance": [],
      "collapsed_sections": [
        "rSqyz-44PEPP",
        "Dc1nvLqDPGPr"
      ]
    },
    "kernelspec": {
      "name": "python3",
      "display_name": "Python 3"
    },
    "language_info": {
      "name": "python"
    }
  },
  "cells": [
    {
      "cell_type": "markdown",
      "source": [
        "# **Ejercicio 1 (50 puntos)**\n",
        "\n",
        "En este ejercicio trabajarás con el conjunto de datos que se te asignó de acuerdo al último número de tu matrícula (ver las notas del ejercicio). En estos archivos se tienen datos procesados de un experimento de psicología en el que se mide la respuesta cerebral cuando un sujeto presta atención a un estímulo visual que aparece de manera repentina y cuando no presta atención a dicho estímulo visual. Los datos están en archivos de texto, los cuales se cargan con la función `loadtxt` de numpy. La primera columna corresponde a la clase (1 o 2). La clase 1 representa cuando el sujeto está prestando atención, y la clase 2 cuando no lo hace. La segunda columna se ignora, mientras que el resto de las columnas indican las variables que se calcularon de la respuesta cerebral medida con la técnica de Electroencefalografía para cada caso.\n",
        "\n",
        "Para tu conjunto de datos:\n",
        "\n",
        "1. **Determina si es necesario balancear los datos.**  \n",
        "   * En caso de que sea afirmativo, en todo este ejercicio tendrás que utilizar alguna estrategia para mitigar el problema de tener una muestra desbalanceada.\n",
        "\n",
        "2. **Evalúa al menos 8 modelos de clasificación distintos utilizando validación cruzada,**  \n",
        "   * Determina cuál de ellos es el más efectivo.\n",
        "\n",
        "3. **Implementa desde cero el método de regresión logística,**  \n",
        "   * Evalúalo con el conjunto de datos.\n",
        "\n",
        "4. **Con alguno de los clasificadores que probaste en los pasos anteriores,**  \n",
        "   * Determina el número óptimo de características utilizando un método tipo Filter.\n",
        "\n",
        "5. **Repite el paso anterior, pero para un método de selección de características secuencial.**\n",
        "\n",
        "6. **Repite el paso 4, pero para un método de selección de características recursivo.**\n",
        "\n",
        "7. **Escoge alguna de las técnicas de selección de características que probaste con anterioridad,**  \n",
        "   * Con el número óptimo de características encontrado, prepara tu modelo para producción haciendo lo siguiente:\n",
        "     * Aplica el método de selección de características con todos los datos.\n",
        "     * Ajusta el modelo con las características encontradas.\n",
        "\n",
        "8. **Contesta las siguientes preguntas:**\n",
        "   * ¿Qué pasa si no se considera el problema de tener datos desbalanceados para este caso? ¿Por qué?\n",
        "   * De todos los clasificadores, ¿cuál o cuáles consideras que son adecuados para los datos? ¿Qué propiedades tienen dichos modelos que los hacen apropiados para los datos? Argumenta tu respuesta.\n",
        "   * ¿Es posible reducir la dimensionalidad del problema sin perder rendimiento en el modelo? ¿Por qué?\n",
        "   * ¿Qué método de selección de características consideras el más adecuado para este caso? ¿Por qué?\n",
        "   * Si quisieras mejorar el rendimiento de tus modelos, ¿qué más se podría hacer?\n"
      ],
      "metadata": {
        "id": "SlJ-KUGBet9d"
      }
    },
    {
      "cell_type": "code",
      "source": [
        "import pandas as pd\n",
        "import numpy as np\n",
        "import matplotlib.pyplot as plt\n",
        "from sklearn.model_selection import KFold\n",
        "from sklearn.metrics import accuracy_score\n",
        "from sklearn.svm import SVC\n",
        "from sklearn.neighbors import KNeighborsClassifier\n",
        "from sklearn.linear_model import LogisticRegression\n",
        "from sklearn.tree import DecisionTreeClassifier\n",
        "from sklearn.ensemble import RandomForestClassifier, GradientBoostingClassifier, AdaBoostClassifier\n",
        "from sklearn.naive_bayes import GaussianNB\n",
        "from imblearn.over_sampling import SMOTE\n",
        "from imblearn.under_sampling import RandomUnderSampler\n",
        "from sklearn.preprocessing import StandardScaler\n",
        "from sklearn.metrics import confusion_matrix, classification_report\n",
        "\n",
        "\n"
      ],
      "metadata": {
        "id": "-d6SKftCF1R3"
      },
      "execution_count": 3,
      "outputs": []
    },
    {
      "cell_type": "markdown",
      "source": [
        "#1"
      ],
      "metadata": {
        "id": "UhBuLHr6-nM_"
      }
    },
    {
      "cell_type": "code",
      "source": [
        "import numpy as np\n",
        "usecols = [0] + list(range(2, 128))\n",
        "\n",
        "\n",
        "data = np.loadtxt('sample_data/P1_3.txt', delimiter='\\t',usecols=usecols)\n",
        "\n",
        "\n",
        "y = data[:, 0]\n",
        "X = data[:, 1:]\n"
      ],
      "metadata": {
        "id": "l4mCJKjkTd7Z"
      },
      "execution_count": 2,
      "outputs": []
    },
    {
      "cell_type": "code",
      "source": [
        "print(X)"
      ],
      "metadata": {
        "colab": {
          "base_uri": "https://localhost:8080/"
        },
        "id": "T3jYfPmXSCcl",
        "outputId": "175f4a6d-5687-4f07-db26-10436f8e41ff"
      },
      "execution_count": 4,
      "outputs": [
        {
          "output_type": "stream",
          "name": "stdout",
          "text": [
            "[[ 0.3925073   0.67657019  0.60180412 ...  0.35619094  0.12323151\n",
            "   0.1014433 ]\n",
            " [-1.31487611 -0.73287418  0.41422541 ... -1.08830147 -1.09911094\n",
            "   0.04776736]\n",
            " [-1.09345032 -0.68931183  0.07082691 ... -0.46893925  0.24300413\n",
            "   0.06215462]\n",
            " ...\n",
            " [-0.72853565 -0.78422092  0.02350863 ...  1.20104421  0.79270147\n",
            "   1.16211666]\n",
            " [ 1.77147543  0.83735529  0.18184615 ... -1.03458252 -1.49554304\n",
            "  -0.86413404]\n",
            " [ 0.47996947 -0.54432989 -0.75249618 ...  0.06798049 -0.57390381\n",
            "  -1.00163938]]\n"
          ]
        }
      ]
    },
    {
      "cell_type": "markdown",
      "source": [
        "#Balanceo y prueba de 8 modelos"
      ],
      "metadata": {
        "id": "xoX39N6iYufw"
      }
    },
    {
      "cell_type": "code",
      "source": [
        "from collections import Counter\n",
        "\n",
        "clases, conteo = np.unique(y, return_counts=True)\n",
        "class_counts = Counter(y)\n",
        "\n",
        "print('Distribución de clases:', class_counts)\n",
        "\n",
        "for clase, count in zip(clases, conteo):\n",
        "    print(f\"Clase {int(clase)}: {count} Ejemplos\")"
      ],
      "metadata": {
        "colab": {
          "base_uri": "https://localhost:8080/"
        },
        "id": "XnvukuTS_r_H",
        "outputId": "149b7e97-2512-4883-b41a-c95112cbc946"
      },
      "execution_count": 5,
      "outputs": [
        {
          "output_type": "stream",
          "name": "stdout",
          "text": [
            "Distribución de clases: Counter({2.0: 1496, 1.0: 298})\n",
            "Clase 1: 298 Ejemplos\n",
            "Clase 2: 1496 Ejemplos\n"
          ]
        }
      ]
    },
    {
      "cell_type": "code",
      "source": [
        "n_folds = 5\n",
        "kf = KFold(n_splits=n_folds, shuffle=True, random_state=42)\n",
        "\n",
        "\n",
        "models = {\n",
        "    'Random Forest': RandomForestClassifier(random_state=42),\n",
        "    'SVM': SVC(random_state=42),\n",
        "    'K-Nearest Neighbors': KNeighborsClassifier(),\n",
        "    'Logistic Regression': LogisticRegression(random_state=42),\n",
        "    'Decision Tree': DecisionTreeClassifier(random_state=42),\n",
        "    'Naive Bayes': GaussianNB(),\n",
        "    'Gradient Boosting': GradientBoostingClassifier(random_state=42),\n",
        "    'AdaBoost': AdaBoostClassifier(random_state=42)\n",
        "}\n",
        "\n",
        "\n",
        "results = {}\n",
        "\n",
        "\n",
        "for model_name, model in models.items():\n",
        "    print(f\"Evaluando modelo: {model_name}\")\n",
        "\n",
        "    accuracy_total = 0\n",
        "\n",
        "\n",
        "    for train_index, test_index in kf.split(X):\n",
        "        X_train, X_test = X[train_index], X[test_index]\n",
        "        y_train, y_test = y[train_index], y[test_index]\n",
        "\n",
        "\n",
        "        undersample = RandomUnderSampler(sampling_strategy={2: 298}, random_state=42)\n",
        "        X_res, y_res = undersample.fit_resample(X_train, y_train)\n",
        "\n",
        "\n",
        "        model.fit(X_res, y_res)\n",
        "\n",
        "\n",
        "        y_pred = model.predict(X_test)\n",
        "        accuracy = accuracy_score(y_test, y_pred)\n",
        "        accuracy_total += accuracy\n",
        "\n",
        "\n",
        "    accuracy_avg = accuracy_total / n_folds\n",
        "    results[model_name] = accuracy_avg\n",
        "    print(f\"Precisión promedio para {model_name}: {accuracy_avg:.4f}\\n\")\n",
        "\n",
        "\n",
        "best_model_name = max(results, key=results.get)\n",
        "print(f\"\\nEl modelo más efectivo es: {best_model_name} con una precisión promedio de {results[best_model_name]:.4f}\")"
      ],
      "metadata": {
        "colab": {
          "base_uri": "https://localhost:8080/"
        },
        "id": "p7aHa77OInJk",
        "outputId": "946f5dd3-202a-4f0f-efca-a99a80cf1b5f"
      },
      "execution_count": 13,
      "outputs": [
        {
          "output_type": "stream",
          "name": "stdout",
          "text": [
            "Evaluando modelo: Random Forest\n",
            "Precisión promedio para Random Forest: 0.8579\n",
            "\n",
            "Evaluando modelo: SVM\n",
            "Precisión promedio para SVM: 0.8735\n",
            "\n",
            "Evaluando modelo: K-Nearest Neighbors\n",
            "Precisión promedio para K-Nearest Neighbors: 0.7575\n",
            "\n",
            "Evaluando modelo: Logistic Regression\n",
            "Precisión promedio para Logistic Regression: 0.8618\n",
            "\n",
            "Evaluando modelo: Decision Tree\n",
            "Precisión promedio para Decision Tree: 0.7380\n",
            "\n",
            "Evaluando modelo: Naive Bayes\n",
            "Precisión promedio para Naive Bayes: 0.8484\n",
            "\n",
            "Evaluando modelo: Gradient Boosting\n",
            "Precisión promedio para Gradient Boosting: 0.8462\n",
            "\n",
            "Evaluando modelo: AdaBoost\n",
            "Precisión promedio para AdaBoost: 0.8300\n",
            "\n",
            "\n",
            "El modelo más efectivo es: SVM con una precisión promedio de 0.8735\n"
          ]
        }
      ]
    },
    {
      "cell_type": "markdown",
      "source": [
        "#Regresion logistica\n"
      ],
      "metadata": {
        "id": "M1IX15RHKgot"
      }
    },
    {
      "cell_type": "code",
      "source": [
        "def sigmoid(z):\n",
        "    return 1 / (1 + np.exp(-z))\n",
        "\n",
        "def cost_function(theta, X, y):\n",
        "    m = len(y)\n",
        "    h = sigmoid(np.dot(X, theta))\n",
        "    epsilon = 1e-5\n",
        "    cost = (-1 / m) * (np.dot(y, np.log(h + epsilon)) + np.dot(1 - y, np.log(1 - h + epsilon)))\n",
        "    return cost\n",
        "\n",
        "def gradient(theta, X, y):\n",
        "    m = len(y)\n",
        "    h = sigmoid(np.dot(X, theta))\n",
        "    grad = (1 / m) * np.dot(X.T, (h - y))\n",
        "    return grad\n",
        "\n",
        "def train_logistic_regression(X, y, num_classes, alpha=0.01, num_iters=1000):\n",
        "    m, n = X.shape\n",
        "    X = np.hstack([np.ones((m, 1)), X])\n",
        "    all_theta = np.zeros((n + 1, num_classes))\n",
        "\n",
        "    for c in range(num_classes):\n",
        "        y_c = (y == c + 1).astype(int)\n",
        "        theta = np.zeros(n + 1)\n",
        "        for _ in range(num_iters):\n",
        "            theta -= alpha * gradient(theta, X, y_c)\n",
        "        all_theta[:, c] = theta\n",
        "\n",
        "    return all_theta\n",
        "\n",
        "def predict(X, all_theta):\n",
        "    m = X.shape[0]\n",
        "    X = np.hstack([np.ones((m, 1)), X])\n",
        "    predictions = sigmoid(np.dot(X, all_theta))\n",
        "    return np.argmax(predictions, axis=1) + 1\n",
        "\n",
        "\n",
        "\n",
        "X_res_scaled = StandardScaler().fit_transform(X_res)\n",
        "\n",
        "\n",
        "num_classes = 2\n",
        "theta = train_logistic_regression(X_res_scaled, y_res, num_classes)\n",
        "\n",
        "\n",
        "y_pred = predict(X_res_scaled, theta)\n",
        "\n",
        "\n",
        "accuracy = np.mean(y_res == y_pred)\n",
        "conf_matrix = confusion_matrix(y_res, y_pred)\n",
        "class_report = classification_report(y_res, y_pred)\n",
        "\n",
        "print(f\"Precisión del modelo: {accuracy:.4f}\")\n",
        "print(\"Matriz de confusión:\")\n",
        "print(conf_matrix)\n",
        "print(\"Reporte de clasificación:\")\n",
        "print(class_report)\n"
      ],
      "metadata": {
        "colab": {
          "base_uri": "https://localhost:8080/"
        },
        "id": "P_33t_6NH47S",
        "outputId": "c9c0b1b4-967f-4fa1-b361-5445a2246c46"
      },
      "execution_count": 14,
      "outputs": [
        {
          "output_type": "stream",
          "name": "stdout",
          "text": [
            "Precisión del modelo: 0.9109\n",
            "Matriz de confusión:\n",
            "[[221  20]\n",
            " [ 28 270]]\n",
            "Reporte de clasificación:\n",
            "              precision    recall  f1-score   support\n",
            "\n",
            "         1.0       0.89      0.92      0.90       241\n",
            "         2.0       0.93      0.91      0.92       298\n",
            "\n",
            "    accuracy                           0.91       539\n",
            "   macro avg       0.91      0.91      0.91       539\n",
            "weighted avg       0.91      0.91      0.91       539\n",
            "\n"
          ]
        }
      ]
    },
    {
      "cell_type": "markdown",
      "source": [
        "# Filter\n"
      ],
      "metadata": {
        "id": "jVhaFt_nOy82"
      }
    },
    {
      "cell_type": "code",
      "source": [
        "import numpy as np\n",
        "import matplotlib.pyplot as plt\n",
        "from sklearn.feature_selection import SelectKBest, f_classif\n",
        "from sklearn.model_selection import train_test_split\n",
        "from sklearn.ensemble import RandomForestClassifier\n",
        "from sklearn.metrics import accuracy_score\n",
        "\n",
        "\n",
        "X_train, X_test, y_train, y_test = train_test_split(X_res, y_res, test_size=0.2, random_state=42)\n",
        "\n",
        "\n",
        "num_features = []\n",
        "accuracies = []\n",
        "\n",
        "\n",
        "for k in range(1, X_train.shape[1] + 1):\n",
        "    selector = SelectKBest(score_func=f_classif, k=k)\n",
        "    X_train_selected = selector.fit_transform(X_train, y_train)\n",
        "    X_test_selected = selector.transform(X_test)\n",
        "\n",
        "    clf = RandomForestClassifier(random_state=42)\n",
        "    clf.fit(X_train_selected, y_train)\n",
        "\n",
        "    y_pred = clf.predict(X_test_selected)\n",
        "    accuracy = accuracy_score(y_test, y_pred)\n",
        "\n",
        "    num_features.append(k)\n",
        "    accuracies.append(accuracy)\n",
        "\n",
        "plt.figure(figsize=(10, 6))\n",
        "plt.plot(num_features, accuracies, marker='o', linestyle='-', color='b')\n",
        "plt.title('Precisión del Modelo vs. Número de Características')\n",
        "plt.xlabel('Número de Características')\n",
        "plt.ylabel('Precisión')\n",
        "plt.grid(True)\n",
        "plt.xticks(np.arange(0, X_train.shape[1] + 1, step=5))\n",
        "plt.yticks(np.arange(0, 1.1, step=0.1))\n",
        "plt.show()\n",
        "\n",
        "\n",
        "optimal_k = num_features[np.argmax(accuracies)]\n",
        "print(f\"Número óptimo de características: {optimal_k}\")\n",
        "print(f\"Mejor precisión obtenida: {max(accuracies):.4f}\")\n"
      ],
      "metadata": {
        "colab": {
          "base_uri": "https://localhost:8080/",
          "height": 601
        },
        "id": "cNXsriWnO0ln",
        "outputId": "edb5f154-fe76-4922-854f-5c62c375b9cc"
      },
      "execution_count": 15,
      "outputs": [
        {
          "output_type": "display_data",
          "data": {
            "text/plain": [
              "<Figure size 1000x600 with 1 Axes>"
            ],
            "image/png": "[encoded data removed]"
          },
          "metadata": {}
        },
        {
          "output_type": "stream",
          "name": "stdout",
          "text": [
            "Número óptimo de características: 47\n",
            "Mejor precisión obtenida: 0.9259\n"
          ]
        }
      ]
    },
    {
      "cell_type": "markdown",
      "source": [
        "## **Mucho tiempo de ejecución para el recursivo y secuencial!!!**"
      ],
      "metadata": {
        "id": "BnQOZp_JQ2rQ"
      }
    },
    {
      "cell_type": "markdown",
      "source": [
        "#Secuancial\n"
      ],
      "metadata": {
        "id": "BArtCUUrbsOy"
      }
    },
    {
      "cell_type": "code",
      "source": [
        "import numpy as np\n",
        "import matplotlib.pyplot as plt\n",
        "\n",
        "from sklearn.model_selection import StratifiedKFold\n",
        "from sklearn.svm import SVC\n",
        "from sklearn.metrics import classification_report, accuracy_score\n",
        "from sklearn.feature_selection import SequentialFeatureSelector\n",
        "\n",
        "print(\"----- Selección de características usando el 50% de los predictores -----\")\n",
        "\n",
        "\n",
        "clf = SVC(kernel='linear')\n",
        "fselection = SequentialFeatureSelector(clf, n_features_to_select=0.5)\n",
        "fselection.fit(X, y)\n",
        "\n",
        "print(\"Características seleccionadas: \", fselection.get_feature_names_out())\n",
        "\n",
        "\n",
        "X_transformed = fselection.transform(X)\n",
        "clf.fit(X_transformed, y)\n",
        "\n",
        "\n",
        "cv_y_test = []\n",
        "cv_y_pred = []\n",
        "\n",
        "kf = StratifiedKFold(n_splits=5, shuffle=True)\n",
        "\n",
        "for train_index, test_index in kf.split(X, y):\n",
        "\n",
        "\n",
        "    X_train = X[train_index, :]\n",
        "    y_train = y[train_index]\n",
        "\n",
        "    clf_cv = SVC(kernel='linear')\n",
        "\n",
        "    fselection_cv = SequentialFeatureSelector(clf_cv, n_features_to_select=0.5)\n",
        "    fselection_cv.fit(X_train, y_train)\n",
        "    X_train = fselection_cv.transform(X_train)\n",
        "\n",
        "    clf_cv.fit(X_train, y_train)\n",
        "\n",
        "    # Fase de prueba\n",
        "    X_test = fselection_cv.transform(X[test_index, :])\n",
        "    y_test = y[test_index]\n",
        "    y_pred = clf_cv.predict(X_test)\n",
        "\n",
        "    cv_y_test.append(y_test)\n",
        "    cv_y_pred.append(y_pred)\n",
        "\n",
        "print(classification_report(np.concatenate(cv_y_test), np.concatenate(cv_y_pred)))\n",
        "\n",
        "#------------------------------------------------------------------------------------------------------------------\n",
        "# Encontrar el número óptimo de características usando validación cruzada\n",
        "#------------------------------------------------------------------------------------------------------------------\n",
        "\n",
        "print(\"----- Selección óptima del número de características -----\")\n",
        "\n",
        "n_feats = [1, 2, 3, 4, 5, 6, 7, 8, 9]\n",
        "\n",
        "acc_nfeat = []\n",
        "\n",
        "for n_feat in n_feats:\n",
        "    print('---- n características =', n_feat)\n",
        "\n",
        "    acc_cv = []\n",
        "\n",
        "    kf = StratifiedKFold(n_splits=5, shuffle=True)\n",
        "\n",
        "    for train_index, test_index in kf.split(X, y):\n",
        "\n",
        "        # Fase de entrenamiento\n",
        "        X_train = X[train_index, :]\n",
        "        y_train = y[train_index]\n",
        "\n",
        "        clf_cv = SVC(kernel='linear')\n",
        "\n",
        "        fselection_cv = SequentialFeatureSelector(clf_cv, n_features_to_select=n_feat)\n",
        "        fselection_cv.fit(X_train, y_train)\n",
        "        X_train = fselection_cv.transform(X_train)\n",
        "\n",
        "        clf_cv.fit(X_train, y_train)\n",
        "\n",
        "        # Fase de prueba\n",
        "        X_test = fselection_cv.transform(X[test_index, :])\n",
        "        y_test = y[test_index]\n",
        "        y_pred = clf_cv.predict(X_test)\n",
        "\n",
        "        acc_i = accuracy_score(y_test, y_pred)\n",
        "        acc_cv.append(acc_i)\n",
        "\n",
        "    acc = np.average(acc_cv)\n",
        "    acc_nfeat.append(acc)\n",
        "\n",
        "    print('ACC:', acc)\n",
        "\n",
        "opt_index = np.argmax(acc_nfeat)\n",
        "opt_features = n_feats[opt_index]\n",
        "print(\"Número óptimo de características: \", opt_features)\n",
        "\n",
        "plt.plot(n_feats, acc_nfeat)\n",
        "plt.xlabel(\"Características\")\n",
        "plt.ylabel(\"Precisión\")\n",
        "\n",
        "plt.show()\n",
        "\n",
        "# Ajustar el modelo con el número óptimo de características\n",
        "clf = SVC(kernel='linear')\n",
        "fselection = SequentialFeatureSelector(clf, n_features_to_select=opt_features)\n",
        "fselection.fit(X, y)\n",
        "\n",
        "print(\"Características seleccionadas: \", fselection.get_feature_names_out())\n",
        "\n",
        "X_transformed = fselection.transform(X)\n",
        "clf.fit(X_transformed, y)"
      ],
      "metadata": {
        "colab": {
          "base_uri": "https://localhost:8080/",
          "height": 391
        },
        "id": "QWI2qAtQGXOe",
        "outputId": "737bfc28-545c-4bd1-fc7f-c5ef426bac6e"
      },
      "execution_count": null,
      "outputs": [
        {
          "output_type": "stream",
          "name": "stdout",
          "text": [
            "----- Selección de características usando el 50% de los predictores -----\n"
          ]
        },
        {
          "output_type": "error",
          "ename": "KeyboardInterrupt",
          "evalue": "",
          "traceback": [
            "\u001b[0;31m---------------------------------------------------------------------------\u001b[0m",
            "\u001b[0;31mKeyboardInterrupt\u001b[0m                         Traceback (most recent call last)",
            "\u001b[0;32m<ipython-input-14-4ad8580a9e4e>\u001b[0m in \u001b[0;36m<cell line: 14>\u001b[0;34m()\u001b[0m\n\u001b[1;32m     12\u001b[0m \u001b[0mclf\u001b[0m \u001b[0;34m=\u001b[0m \u001b[0mSVC\u001b[0m\u001b[0;34m(\u001b[0m\u001b[0mkernel\u001b[0m\u001b[0;34m=\u001b[0m\u001b[0;34m'linear'\u001b[0m\u001b[0;34m)\u001b[0m\u001b[0;34m\u001b[0m\u001b[0;34m\u001b[0m\u001b[0m\n\u001b[1;32m     13\u001b[0m \u001b[0mfselection\u001b[0m \u001b[0;34m=\u001b[0m \u001b[0mSequentialFeatureSelector\u001b[0m\u001b[0;34m(\u001b[0m\u001b[0mclf\u001b[0m\u001b[0;34m,\u001b[0m \u001b[0mn_features_to_select\u001b[0m\u001b[0;34m=\u001b[0m\u001b[0;36m0.5\u001b[0m\u001b[0;34m)\u001b[0m\u001b[0;34m\u001b[0m\u001b[0;34m\u001b[0m\u001b[0m\n\u001b[0;32m---> 14\u001b[0;31m \u001b[0mfselection\u001b[0m\u001b[0;34m.\u001b[0m\u001b[0mfit\u001b[0m\u001b[0;34m(\u001b[0m\u001b[0mX\u001b[0m\u001b[0;34m,\u001b[0m \u001b[0my\u001b[0m\u001b[0;34m)\u001b[0m\u001b[0;34m\u001b[0m\u001b[0;34m\u001b[0m\u001b[0m\n\u001b[0m\u001b[1;32m     15\u001b[0m \u001b[0;34m\u001b[0m\u001b[0m\n\u001b[1;32m     16\u001b[0m \u001b[0mprint\u001b[0m\u001b[0;34m(\u001b[0m\u001b[0;34m\"Características seleccionadas: \"\u001b[0m\u001b[0;34m,\u001b[0m \u001b[0mfselection\u001b[0m\u001b[0;34m.\u001b[0m\u001b[0mget_feature_names_out\u001b[0m\u001b[0;34m(\u001b[0m\u001b[0;34m)\u001b[0m\u001b[0;34m)\u001b[0m\u001b[0;34m\u001b[0m\u001b[0;34m\u001b[0m\u001b[0m\n",
            "\u001b[0;32m/usr/local/lib/python3.10/dist-packages/sklearn/base.py\u001b[0m in \u001b[0;36mwrapper\u001b[0;34m(estimator, *args, **kwargs)\u001b[0m\n\u001b[1;32m   1150\u001b[0m                 )\n\u001b[1;32m   1151\u001b[0m             ):\n\u001b[0;32m-> 1152\u001b[0;31m                 \u001b[0;32mreturn\u001b[0m \u001b[0mfit_method\u001b[0m\u001b[0;34m(\u001b[0m\u001b[0mestimator\u001b[0m\u001b[0;34m,\u001b[0m \u001b[0;34m*\u001b[0m\u001b[0margs\u001b[0m\u001b[0;34m,\u001b[0m \u001b[0;34m**\u001b[0m\u001b[0mkwargs\u001b[0m\u001b[0;34m)\u001b[0m\u001b[0;34m\u001b[0m\u001b[0;34m\u001b[0m\u001b[0m\n\u001b[0m\u001b[1;32m   1153\u001b[0m \u001b[0;34m\u001b[0m\u001b[0m\n\u001b[1;32m   1154\u001b[0m         \u001b[0;32mreturn\u001b[0m \u001b[0mwrapper\u001b[0m\u001b[0;34m\u001b[0m\u001b[0;34m\u001b[0m\u001b[0m\n",
            "\u001b[0;32m/usr/local/lib/python3.10/dist-packages/sklearn/feature_selection/_sequential.py\u001b[0m in \u001b[0;36mfit\u001b[0;34m(self, X, y)\u001b[0m\n\u001b[1;32m    246\u001b[0m         \u001b[0mis_auto_select\u001b[0m \u001b[0;34m=\u001b[0m \u001b[0mself\u001b[0m\u001b[0;34m.\u001b[0m\u001b[0mtol\u001b[0m \u001b[0;32mis\u001b[0m \u001b[0;32mnot\u001b[0m \u001b[0;32mNone\u001b[0m \u001b[0;32mand\u001b[0m \u001b[0mself\u001b[0m\u001b[0;34m.\u001b[0m\u001b[0mn_features_to_select\u001b[0m \u001b[0;34m==\u001b[0m \u001b[0;34m\"auto\"\u001b[0m\u001b[0;34m\u001b[0m\u001b[0;34m\u001b[0m\u001b[0m\n\u001b[1;32m    247\u001b[0m         \u001b[0;32mfor\u001b[0m \u001b[0m_\u001b[0m \u001b[0;32min\u001b[0m \u001b[0mrange\u001b[0m\u001b[0;34m(\u001b[0m\u001b[0mn_iterations\u001b[0m\u001b[0;34m)\u001b[0m\u001b[0;34m:\u001b[0m\u001b[0;34m\u001b[0m\u001b[0;34m\u001b[0m\u001b[0m\n\u001b[0;32m--> 248\u001b[0;31m             new_feature_idx, new_score = self._get_best_new_feature_score(\n\u001b[0m\u001b[1;32m    249\u001b[0m                 \u001b[0mcloned_estimator\u001b[0m\u001b[0;34m,\u001b[0m \u001b[0mX\u001b[0m\u001b[0;34m,\u001b[0m \u001b[0my\u001b[0m\u001b[0;34m,\u001b[0m \u001b[0mcv\u001b[0m\u001b[0;34m,\u001b[0m \u001b[0mcurrent_mask\u001b[0m\u001b[0;34m\u001b[0m\u001b[0;34m\u001b[0m\u001b[0m\n\u001b[1;32m    250\u001b[0m             )\n",
            "\u001b[0;32m/usr/local/lib/python3.10/dist-packages/sklearn/feature_selection/_sequential.py\u001b[0m in \u001b[0;36m_get_best_new_feature_score\u001b[0;34m(self, estimator, X, y, cv, current_mask)\u001b[0m\n\u001b[1;32m    277\u001b[0m                 \u001b[0mcandidate_mask\u001b[0m \u001b[0;34m=\u001b[0m \u001b[0;34m~\u001b[0m\u001b[0mcandidate_mask\u001b[0m\u001b[0;34m\u001b[0m\u001b[0;34m\u001b[0m\u001b[0m\n\u001b[1;32m    278\u001b[0m             \u001b[0mX_new\u001b[0m \u001b[0;34m=\u001b[0m \u001b[0mX\u001b[0m\u001b[0;34m[\u001b[0m\u001b[0;34m:\u001b[0m\u001b[0;34m,\u001b[0m \u001b[0mcandidate_mask\u001b[0m\u001b[0;34m]\u001b[0m\u001b[0;34m\u001b[0m\u001b[0;34m\u001b[0m\u001b[0m\n\u001b[0;32m--> 279\u001b[0;31m             scores[feature_idx] = cross_val_score(\n\u001b[0m\u001b[1;32m    280\u001b[0m                 \u001b[0mestimator\u001b[0m\u001b[0;34m,\u001b[0m\u001b[0;34m\u001b[0m\u001b[0;34m\u001b[0m\u001b[0m\n\u001b[1;32m    281\u001b[0m                 \u001b[0mX_new\u001b[0m\u001b[0;34m,\u001b[0m\u001b[0;34m\u001b[0m\u001b[0;34m\u001b[0m\u001b[0m\n",
            "\u001b[0;32m/usr/local/lib/python3.10/dist-packages/sklearn/model_selection/_validation.py\u001b[0m in \u001b[0;36mcross_val_score\u001b[0;34m(estimator, X, y, groups, scoring, cv, n_jobs, verbose, fit_params, pre_dispatch, error_score)\u001b[0m\n\u001b[1;32m    560\u001b[0m     \u001b[0mscorer\u001b[0m \u001b[0;34m=\u001b[0m \u001b[0mcheck_scoring\u001b[0m\u001b[0;34m(\u001b[0m\u001b[0mestimator\u001b[0m\u001b[0;34m,\u001b[0m \u001b[0mscoring\u001b[0m\u001b[0;34m=\u001b[0m\u001b[0mscoring\u001b[0m\u001b[0;34m)\u001b[0m\u001b[0;34m\u001b[0m\u001b[0;34m\u001b[0m\u001b[0m\n\u001b[1;32m    561\u001b[0m \u001b[0;34m\u001b[0m\u001b[0m\n\u001b[0;32m--> 562\u001b[0;31m     cv_results = cross_validate(\n\u001b[0m\u001b[1;32m    563\u001b[0m         \u001b[0mestimator\u001b[0m\u001b[0;34m=\u001b[0m\u001b[0mestimator\u001b[0m\u001b[0;34m,\u001b[0m\u001b[0;34m\u001b[0m\u001b[0;34m\u001b[0m\u001b[0m\n\u001b[1;32m    564\u001b[0m         \u001b[0mX\u001b[0m\u001b[0;34m=\u001b[0m\u001b[0mX\u001b[0m\u001b[0;34m,\u001b[0m\u001b[0;34m\u001b[0m\u001b[0;34m\u001b[0m\u001b[0m\n",
            "\u001b[0;32m/usr/local/lib/python3.10/dist-packages/sklearn/utils/_param_validation.py\u001b[0m in \u001b[0;36mwrapper\u001b[0;34m(*args, **kwargs)\u001b[0m\n\u001b[1;32m    212\u001b[0m                     )\n\u001b[1;32m    213\u001b[0m                 ):\n\u001b[0;32m--> 214\u001b[0;31m                     \u001b[0;32mreturn\u001b[0m \u001b[0mfunc\u001b[0m\u001b[0;34m(\u001b[0m\u001b[0;34m*\u001b[0m\u001b[0margs\u001b[0m\u001b[0;34m,\u001b[0m \u001b[0;34m**\u001b[0m\u001b[0mkwargs\u001b[0m\u001b[0;34m)\u001b[0m\u001b[0;34m\u001b[0m\u001b[0;34m\u001b[0m\u001b[0m\n\u001b[0m\u001b[1;32m    215\u001b[0m             \u001b[0;32mexcept\u001b[0m \u001b[0mInvalidParameterError\u001b[0m \u001b[0;32mas\u001b[0m \u001b[0me\u001b[0m\u001b[0;34m:\u001b[0m\u001b[0;34m\u001b[0m\u001b[0;34m\u001b[0m\u001b[0m\n\u001b[1;32m    216\u001b[0m                 \u001b[0;31m# When the function is just a wrapper around an estimator, we allow\u001b[0m\u001b[0;34m\u001b[0m\u001b[0;34m\u001b[0m\u001b[0m\n",
            "\u001b[0;32m/usr/local/lib/python3.10/dist-packages/sklearn/model_selection/_validation.py\u001b[0m in \u001b[0;36mcross_validate\u001b[0;34m(estimator, X, y, groups, scoring, cv, n_jobs, verbose, fit_params, pre_dispatch, return_train_score, return_estimator, return_indices, error_score)\u001b[0m\n\u001b[1;32m    307\u001b[0m     \u001b[0;31m# independent, and that it is pickle-able.\u001b[0m\u001b[0;34m\u001b[0m\u001b[0;34m\u001b[0m\u001b[0m\n\u001b[1;32m    308\u001b[0m     \u001b[0mparallel\u001b[0m \u001b[0;34m=\u001b[0m \u001b[0mParallel\u001b[0m\u001b[0;34m(\u001b[0m\u001b[0mn_jobs\u001b[0m\u001b[0;34m=\u001b[0m\u001b[0mn_jobs\u001b[0m\u001b[0;34m,\u001b[0m \u001b[0mverbose\u001b[0m\u001b[0;34m=\u001b[0m\u001b[0mverbose\u001b[0m\u001b[0;34m,\u001b[0m \u001b[0mpre_dispatch\u001b[0m\u001b[0;34m=\u001b[0m\u001b[0mpre_dispatch\u001b[0m\u001b[0;34m)\u001b[0m\u001b[0;34m\u001b[0m\u001b[0;34m\u001b[0m\u001b[0m\n\u001b[0;32m--> 309\u001b[0;31m     results = parallel(\n\u001b[0m\u001b[1;32m    310\u001b[0m         delayed(_fit_and_score)(\n\u001b[1;32m    311\u001b[0m             \u001b[0mclone\u001b[0m\u001b[0;34m(\u001b[0m\u001b[0mestimator\u001b[0m\u001b[0;34m)\u001b[0m\u001b[0;34m,\u001b[0m\u001b[0;34m\u001b[0m\u001b[0;34m\u001b[0m\u001b[0m\n",
            "\u001b[0;32m/usr/local/lib/python3.10/dist-packages/sklearn/utils/parallel.py\u001b[0m in \u001b[0;36m__call__\u001b[0;34m(self, iterable)\u001b[0m\n\u001b[1;32m     63\u001b[0m             \u001b[0;32mfor\u001b[0m \u001b[0mdelayed_func\u001b[0m\u001b[0;34m,\u001b[0m \u001b[0margs\u001b[0m\u001b[0;34m,\u001b[0m \u001b[0mkwargs\u001b[0m \u001b[0;32min\u001b[0m \u001b[0miterable\u001b[0m\u001b[0;34m\u001b[0m\u001b[0;34m\u001b[0m\u001b[0m\n\u001b[1;32m     64\u001b[0m         )\n\u001b[0;32m---> 65\u001b[0;31m         \u001b[0;32mreturn\u001b[0m \u001b[0msuper\u001b[0m\u001b[0;34m(\u001b[0m\u001b[0;34m)\u001b[0m\u001b[0;34m.\u001b[0m\u001b[0m__call__\u001b[0m\u001b[0;34m(\u001b[0m\u001b[0miterable_with_config\u001b[0m\u001b[0;34m)\u001b[0m\u001b[0;34m\u001b[0m\u001b[0;34m\u001b[0m\u001b[0m\n\u001b[0m\u001b[1;32m     66\u001b[0m \u001b[0;34m\u001b[0m\u001b[0m\n\u001b[1;32m     67\u001b[0m \u001b[0;34m\u001b[0m\u001b[0m\n",
            "\u001b[0;32m/usr/local/lib/python3.10/dist-packages/joblib/parallel.py\u001b[0m in \u001b[0;36m__call__\u001b[0;34m(self, iterable)\u001b[0m\n\u001b[1;32m   1916\u001b[0m             \u001b[0moutput\u001b[0m \u001b[0;34m=\u001b[0m \u001b[0mself\u001b[0m\u001b[0;34m.\u001b[0m\u001b[0m_get_sequential_output\u001b[0m\u001b[0;34m(\u001b[0m\u001b[0miterable\u001b[0m\u001b[0;34m)\u001b[0m\u001b[0;34m\u001b[0m\u001b[0;34m\u001b[0m\u001b[0m\n\u001b[1;32m   1917\u001b[0m             \u001b[0mnext\u001b[0m\u001b[0;34m(\u001b[0m\u001b[0moutput\u001b[0m\u001b[0;34m)\u001b[0m\u001b[0;34m\u001b[0m\u001b[0;34m\u001b[0m\u001b[0m\n\u001b[0;32m-> 1918\u001b[0;31m             \u001b[0;32mreturn\u001b[0m \u001b[0moutput\u001b[0m \u001b[0;32mif\u001b[0m \u001b[0mself\u001b[0m\u001b[0;34m.\u001b[0m\u001b[0mreturn_generator\u001b[0m \u001b[0;32melse\u001b[0m \u001b[0mlist\u001b[0m\u001b[0;34m(\u001b[0m\u001b[0moutput\u001b[0m\u001b[0;34m)\u001b[0m\u001b[0;34m\u001b[0m\u001b[0;34m\u001b[0m\u001b[0m\n\u001b[0m\u001b[1;32m   1919\u001b[0m \u001b[0;34m\u001b[0m\u001b[0m\n\u001b[1;32m   1920\u001b[0m         \u001b[0;31m# Let's create an ID that uniquely identifies the current call. If the\u001b[0m\u001b[0;34m\u001b[0m\u001b[0;34m\u001b[0m\u001b[0m\n",
            "\u001b[0;32m/usr/local/lib/python3.10/dist-packages/joblib/parallel.py\u001b[0m in \u001b[0;36m_get_sequential_output\u001b[0;34m(self, iterable)\u001b[0m\n\u001b[1;32m   1845\u001b[0m                 \u001b[0mself\u001b[0m\u001b[0;34m.\u001b[0m\u001b[0mn_dispatched_batches\u001b[0m \u001b[0;34m+=\u001b[0m \u001b[0;36m1\u001b[0m\u001b[0;34m\u001b[0m\u001b[0;34m\u001b[0m\u001b[0m\n\u001b[1;32m   1846\u001b[0m                 \u001b[0mself\u001b[0m\u001b[0;34m.\u001b[0m\u001b[0mn_dispatched_tasks\u001b[0m \u001b[0;34m+=\u001b[0m \u001b[0;36m1\u001b[0m\u001b[0;34m\u001b[0m\u001b[0;34m\u001b[0m\u001b[0m\n\u001b[0;32m-> 1847\u001b[0;31m                 \u001b[0mres\u001b[0m \u001b[0;34m=\u001b[0m \u001b[0mfunc\u001b[0m\u001b[0;34m(\u001b[0m\u001b[0;34m*\u001b[0m\u001b[0margs\u001b[0m\u001b[0;34m,\u001b[0m \u001b[0;34m**\u001b[0m\u001b[0mkwargs\u001b[0m\u001b[0;34m)\u001b[0m\u001b[0;34m\u001b[0m\u001b[0;34m\u001b[0m\u001b[0m\n\u001b[0m\u001b[1;32m   1848\u001b[0m                 \u001b[0mself\u001b[0m\u001b[0;34m.\u001b[0m\u001b[0mn_completed_tasks\u001b[0m \u001b[0;34m+=\u001b[0m \u001b[0;36m1\u001b[0m\u001b[0;34m\u001b[0m\u001b[0;34m\u001b[0m\u001b[0m\n\u001b[1;32m   1849\u001b[0m                 \u001b[0mself\u001b[0m\u001b[0;34m.\u001b[0m\u001b[0mprint_progress\u001b[0m\u001b[0;34m(\u001b[0m\u001b[0;34m)\u001b[0m\u001b[0;34m\u001b[0m\u001b[0;34m\u001b[0m\u001b[0m\n",
            "\u001b[0;32m/usr/local/lib/python3.10/dist-packages/sklearn/utils/parallel.py\u001b[0m in \u001b[0;36m__call__\u001b[0;34m(self, *args, **kwargs)\u001b[0m\n\u001b[1;32m    125\u001b[0m             \u001b[0mconfig\u001b[0m \u001b[0;34m=\u001b[0m \u001b[0;34m{\u001b[0m\u001b[0;34m}\u001b[0m\u001b[0;34m\u001b[0m\u001b[0;34m\u001b[0m\u001b[0m\n\u001b[1;32m    126\u001b[0m         \u001b[0;32mwith\u001b[0m \u001b[0mconfig_context\u001b[0m\u001b[0;34m(\u001b[0m\u001b[0;34m**\u001b[0m\u001b[0mconfig\u001b[0m\u001b[0;34m)\u001b[0m\u001b[0;34m:\u001b[0m\u001b[0;34m\u001b[0m\u001b[0;34m\u001b[0m\u001b[0m\n\u001b[0;32m--> 127\u001b[0;31m             \u001b[0;32mreturn\u001b[0m \u001b[0mself\u001b[0m\u001b[0;34m.\u001b[0m\u001b[0mfunction\u001b[0m\u001b[0;34m(\u001b[0m\u001b[0;34m*\u001b[0m\u001b[0margs\u001b[0m\u001b[0;34m,\u001b[0m \u001b[0;34m**\u001b[0m\u001b[0mkwargs\u001b[0m\u001b[0;34m)\u001b[0m\u001b[0;34m\u001b[0m\u001b[0;34m\u001b[0m\u001b[0m\n\u001b[0m",
            "\u001b[0;32m/usr/local/lib/python3.10/dist-packages/sklearn/model_selection/_validation.py\u001b[0m in \u001b[0;36m_fit_and_score\u001b[0;34m(estimator, X, y, scorer, train, test, verbose, parameters, fit_params, return_train_score, return_parameters, return_n_test_samples, return_times, return_estimator, split_progress, candidate_progress, error_score)\u001b[0m\n\u001b[1;32m    727\u001b[0m             \u001b[0mestimator\u001b[0m\u001b[0;34m.\u001b[0m\u001b[0mfit\u001b[0m\u001b[0;34m(\u001b[0m\u001b[0mX_train\u001b[0m\u001b[0;34m,\u001b[0m \u001b[0;34m**\u001b[0m\u001b[0mfit_params\u001b[0m\u001b[0;34m)\u001b[0m\u001b[0;34m\u001b[0m\u001b[0;34m\u001b[0m\u001b[0m\n\u001b[1;32m    728\u001b[0m         \u001b[0;32melse\u001b[0m\u001b[0;34m:\u001b[0m\u001b[0;34m\u001b[0m\u001b[0;34m\u001b[0m\u001b[0m\n\u001b[0;32m--> 729\u001b[0;31m             \u001b[0mestimator\u001b[0m\u001b[0;34m.\u001b[0m\u001b[0mfit\u001b[0m\u001b[0;34m(\u001b[0m\u001b[0mX_train\u001b[0m\u001b[0;34m,\u001b[0m \u001b[0my_train\u001b[0m\u001b[0;34m,\u001b[0m \u001b[0;34m**\u001b[0m\u001b[0mfit_params\u001b[0m\u001b[0;34m)\u001b[0m\u001b[0;34m\u001b[0m\u001b[0;34m\u001b[0m\u001b[0m\n\u001b[0m\u001b[1;32m    730\u001b[0m \u001b[0;34m\u001b[0m\u001b[0m\n\u001b[1;32m    731\u001b[0m     \u001b[0;32mexcept\u001b[0m \u001b[0mException\u001b[0m\u001b[0;34m:\u001b[0m\u001b[0;34m\u001b[0m\u001b[0;34m\u001b[0m\u001b[0m\n",
            "\u001b[0;32m/usr/local/lib/python3.10/dist-packages/sklearn/base.py\u001b[0m in \u001b[0;36mwrapper\u001b[0;34m(estimator, *args, **kwargs)\u001b[0m\n\u001b[1;32m   1150\u001b[0m                 )\n\u001b[1;32m   1151\u001b[0m             ):\n\u001b[0;32m-> 1152\u001b[0;31m                 \u001b[0;32mreturn\u001b[0m \u001b[0mfit_method\u001b[0m\u001b[0;34m(\u001b[0m\u001b[0mestimator\u001b[0m\u001b[0;34m,\u001b[0m \u001b[0;34m*\u001b[0m\u001b[0margs\u001b[0m\u001b[0;34m,\u001b[0m \u001b[0;34m**\u001b[0m\u001b[0mkwargs\u001b[0m\u001b[0;34m)\u001b[0m\u001b[0;34m\u001b[0m\u001b[0;34m\u001b[0m\u001b[0m\n\u001b[0m\u001b[1;32m   1153\u001b[0m \u001b[0;34m\u001b[0m\u001b[0m\n\u001b[1;32m   1154\u001b[0m         \u001b[0;32mreturn\u001b[0m \u001b[0mwrapper\u001b[0m\u001b[0;34m\u001b[0m\u001b[0;34m\u001b[0m\u001b[0m\n",
            "\u001b[0;32m/usr/local/lib/python3.10/dist-packages/sklearn/svm/_base.py\u001b[0m in \u001b[0;36mfit\u001b[0;34m(self, X, y, sample_weight)\u001b[0m\n\u001b[1;32m    248\u001b[0m \u001b[0;34m\u001b[0m\u001b[0m\n\u001b[1;32m    249\u001b[0m         \u001b[0mseed\u001b[0m \u001b[0;34m=\u001b[0m \u001b[0mrnd\u001b[0m\u001b[0;34m.\u001b[0m\u001b[0mrandint\u001b[0m\u001b[0;34m(\u001b[0m\u001b[0mnp\u001b[0m\u001b[0;34m.\u001b[0m\u001b[0miinfo\u001b[0m\u001b[0;34m(\u001b[0m\u001b[0;34m\"i\"\u001b[0m\u001b[0;34m)\u001b[0m\u001b[0;34m.\u001b[0m\u001b[0mmax\u001b[0m\u001b[0;34m)\u001b[0m\u001b[0;34m\u001b[0m\u001b[0;34m\u001b[0m\u001b[0m\n\u001b[0;32m--> 250\u001b[0;31m         \u001b[0mfit\u001b[0m\u001b[0;34m(\u001b[0m\u001b[0mX\u001b[0m\u001b[0;34m,\u001b[0m \u001b[0my\u001b[0m\u001b[0;34m,\u001b[0m \u001b[0msample_weight\u001b[0m\u001b[0;34m,\u001b[0m \u001b[0msolver_type\u001b[0m\u001b[0;34m,\u001b[0m \u001b[0mkernel\u001b[0m\u001b[0;34m,\u001b[0m \u001b[0mrandom_seed\u001b[0m\u001b[0;34m=\u001b[0m\u001b[0mseed\u001b[0m\u001b[0;34m)\u001b[0m\u001b[0;34m\u001b[0m\u001b[0;34m\u001b[0m\u001b[0m\n\u001b[0m\u001b[1;32m    251\u001b[0m         \u001b[0;31m# see comment on the other call to np.iinfo in this file\u001b[0m\u001b[0;34m\u001b[0m\u001b[0;34m\u001b[0m\u001b[0m\n\u001b[1;32m    252\u001b[0m \u001b[0;34m\u001b[0m\u001b[0m\n",
            "\u001b[0;32m/usr/local/lib/python3.10/dist-packages/sklearn/svm/_base.py\u001b[0m in \u001b[0;36m_dense_fit\u001b[0;34m(self, X, y, sample_weight, solver_type, kernel, random_seed)\u001b[0m\n\u001b[1;32m    327\u001b[0m             \u001b[0mself\u001b[0m\u001b[0;34m.\u001b[0m\u001b[0mfit_status_\u001b[0m\u001b[0;34m,\u001b[0m\u001b[0;34m\u001b[0m\u001b[0;34m\u001b[0m\u001b[0m\n\u001b[1;32m    328\u001b[0m             \u001b[0mself\u001b[0m\u001b[0;34m.\u001b[0m\u001b[0m_num_iter\u001b[0m\u001b[0;34m,\u001b[0m\u001b[0;34m\u001b[0m\u001b[0;34m\u001b[0m\u001b[0m\n\u001b[0;32m--> 329\u001b[0;31m         \u001b[0;34m)\u001b[0m \u001b[0;34m=\u001b[0m \u001b[0mlibsvm\u001b[0m\u001b[0;34m.\u001b[0m\u001b[0mfit\u001b[0m\u001b[0;34m(\u001b[0m\u001b[0;34m\u001b[0m\u001b[0;34m\u001b[0m\u001b[0m\n\u001b[0m\u001b[1;32m    330\u001b[0m             \u001b[0mX\u001b[0m\u001b[0;34m,\u001b[0m\u001b[0;34m\u001b[0m\u001b[0;34m\u001b[0m\u001b[0m\n\u001b[1;32m    331\u001b[0m             \u001b[0my\u001b[0m\u001b[0;34m,\u001b[0m\u001b[0;34m\u001b[0m\u001b[0;34m\u001b[0m\u001b[0m\n",
            "\u001b[0;31mKeyboardInterrupt\u001b[0m: "
          ]
        }
      ]
    },
    {
      "cell_type": "markdown",
      "source": [
        "# Recursivo"
      ],
      "metadata": {
        "id": "wFcrJaDqbjHR"
      }
    },
    {
      "cell_type": "code",
      "source": [
        "import numpy as np\n",
        "import matplotlib.pyplot as plt\n",
        "from sklearn.model_selection import StratifiedKFold\n",
        "from sklearn.svm import SVC\n",
        "from sklearn.metrics import classification_report, accuracy_score\n",
        "from sklearn.feature_selection import RFE\n",
        "\n",
        "print(\"----- Feature selection using 50% of predictors -----\")\n",
        "\n",
        "# Select features\n",
        "clf = SVC(kernel='linear')\n",
        "fselection = RFE(clf, n_features_to_select=int(X_res.shape[1] * 0.5))\n",
        "fselection.fit(X_res, y_res)\n",
        "\n",
        "print(\"Selected features: \", fselection.get_support(indices=True))\n",
        "\n",
        "# Fit model using the new dataset\n",
        "X_transformed = fselection.transform(X_res)\n",
        "clf.fit(X_transformed, y_res)\n",
        "\n",
        "# Evaluate model using cross validation\n",
        "cv_y_test = []\n",
        "cv_y_pred = []\n",
        "\n",
        "kf = StratifiedKFold(n_splits=5, shuffle=True)\n",
        "\n",
        "for train_index, test_index in kf.split(X_res, y_res):\n",
        "\n",
        "    # Training phase\n",
        "    X_train = X_res[train_index, :]\n",
        "    y_train = y_res[train_index]\n",
        "\n",
        "    clf_cv = SVC(kernel='linear')\n",
        "\n",
        "    fselection_cv = RFE(clf_cv, n_features_to_select=int(X_res.shape[1] * 0.5))\n",
        "    fselection_cv.fit(X_train, y_train)\n",
        "    X_train = fselection_cv.transform(X_train)\n",
        "\n",
        "    clf_cv.fit(X_train, y_train)\n",
        "\n",
        "    # Test phase\n",
        "    X_test = fselection_cv.transform(X_res[test_index, :])\n",
        "    y_test = y_res[test_index]\n",
        "    y_pred = clf_cv.predict(X_test)\n",
        "\n",
        "    cv_y_test.append(y_test)\n",
        "    cv_y_pred.append(y_pred)\n",
        "\n",
        "print(classification_report(np.concatenate(cv_y_test), np.concatenate(cv_y_pred)))\n",
        "\n",
        "#------------------------------------------------------------------------------------------------------------------\n",
        "# Find optimal number of features using cross-validation\n",
        "#------------------------------------------------------------------------------------------------------------------\n",
        "\n",
        "print(\"----- Optimal selection of number of features -----\")\n",
        "\n",
        "n_feats = range(1, X_res.shape[1] + 1)\n",
        "acc_nfeat = []\n",
        "\n",
        "for n_feat in n_feats:\n",
        "    print('---- n features =', n_feat)\n",
        "\n",
        "    acc_cv = []\n",
        "\n",
        "    kf = StratifiedKFold(n_splits=5, shuffle=True)\n",
        "\n",
        "    for train_index, test_index in kf.split(X_res, y_res):\n",
        "\n",
        "        # Training phase\n",
        "        X_train = X_res[train_index, :]\n",
        "        y_train = y_res[train_index]\n",
        "\n",
        "        clf_cv = SVC(kernel='linear')\n",
        "\n",
        "        fselection_cv = RFE(clf_cv, n_features_to_select=n_feat)\n",
        "        fselection_cv.fit(X_train, y_train)\n",
        "        X_train = fselection_cv.transform(X_train)\n",
        "\n",
        "        clf_cv.fit(X_train, y_train)\n",
        "\n",
        "        # Test phase\n",
        "        X_test = fselection_cv.transform(X_res[test_index, :])\n",
        "        y_test = y_res[test_index]\n",
        "        y_pred = clf_cv.predict(X_test)\n",
        "\n",
        "        acc_i = accuracy_score(y_test, y_pred)\n",
        "        acc_cv.append(acc_i)\n",
        "\n",
        "    acc = np.average(acc_cv)\n",
        "    acc_nfeat.append(acc)\n",
        "\n",
        "    print('ACC:', acc)\n",
        "\n",
        "opt_index = np.argmax(acc_nfeat)\n",
        "opt_features = n_feats[opt_index]\n",
        "print(\"Optimal number of features: \", opt_features)\n",
        "\n",
        "plt.plot(n_feats, acc_nfeat)\n",
        "plt.xlabel(\"features\")\n",
        "plt.ylabel(\"Accuracy\")\n",
        "plt.show()\n",
        "\n",
        "# Fit model with optimal number of features\n",
        "clf = SVC(kernel='linear')\n",
        "fselection = RFE(clf, n_features_to_select=opt_features)\n",
        "fselection.fit(X_res, y_res)\n",
        "\n",
        "print(\"Selected features: \", fselection.get_support(indices=True))\n",
        "\n",
        "X_transformed = fselection.transform(X_res)\n",
        "clf.fit(X_transformed, y_res)"
      ],
      "metadata": {
        "id": "Dsy_T6MBaTrf",
        "colab": {
          "base_uri": "https://localhost:8080/",
          "height": 651
        },
        "outputId": "0663a000-439e-4369-a6bb-ae86a064d45c"
      },
      "execution_count": null,
      "outputs": [
        {
          "output_type": "stream",
          "name": "stdout",
          "text": [
            "----- Feature selection using 50% of predictors -----\n",
            "Selected features:  [  1   2   3   4   6   7   8   9  11  12  13  14  15  17  18  21  23  24\n",
            "  26  27  28  29  30  32  39  40  43  48  49  50  51  52  53  54  55  58\n",
            "  60  61  65  66  71  73  75  76  79  86  88  89  94  96  99 100 101 102\n",
            " 104 108 109 110 111 112 113 120 125]\n",
            "              precision    recall  f1-score   support\n",
            "\n",
            "         1.0       0.87      0.90      0.89       600\n",
            "         2.0       0.90      0.87      0.88       600\n",
            "\n",
            "    accuracy                           0.89      1200\n",
            "   macro avg       0.89      0.89      0.89      1200\n",
            "weighted avg       0.89      0.89      0.89      1200\n",
            "\n",
            "----- Optimal selection of number of features -----\n",
            "---- n features = 1\n"
          ]
        },
        {
          "output_type": "error",
          "ename": "KeyboardInterrupt",
          "evalue": "",
          "traceback": [
            "\u001b[0;31m---------------------------------------------------------------------------\u001b[0m",
            "\u001b[0;31mKeyboardInterrupt\u001b[0m                         Traceback (most recent call last)",
            "\u001b[0;32m<ipython-input-16-0b057abd6539>\u001b[0m in \u001b[0;36m<cell line: 60>\u001b[0;34m()\u001b[0m\n\u001b[1;32m     74\u001b[0m \u001b[0;34m\u001b[0m\u001b[0m\n\u001b[1;32m     75\u001b[0m         \u001b[0mfselection_cv\u001b[0m \u001b[0;34m=\u001b[0m \u001b[0mRFE\u001b[0m\u001b[0;34m(\u001b[0m\u001b[0mclf_cv\u001b[0m\u001b[0;34m,\u001b[0m \u001b[0mn_features_to_select\u001b[0m\u001b[0;34m=\u001b[0m\u001b[0mn_feat\u001b[0m\u001b[0;34m)\u001b[0m\u001b[0;34m\u001b[0m\u001b[0;34m\u001b[0m\u001b[0m\n\u001b[0;32m---> 76\u001b[0;31m         \u001b[0mfselection_cv\u001b[0m\u001b[0;34m.\u001b[0m\u001b[0mfit\u001b[0m\u001b[0;34m(\u001b[0m\u001b[0mX_train\u001b[0m\u001b[0;34m,\u001b[0m \u001b[0my_train\u001b[0m\u001b[0;34m)\u001b[0m\u001b[0;34m\u001b[0m\u001b[0;34m\u001b[0m\u001b[0m\n\u001b[0m\u001b[1;32m     77\u001b[0m         \u001b[0mX_train\u001b[0m \u001b[0;34m=\u001b[0m \u001b[0mfselection_cv\u001b[0m\u001b[0;34m.\u001b[0m\u001b[0mtransform\u001b[0m\u001b[0;34m(\u001b[0m\u001b[0mX_train\u001b[0m\u001b[0;34m)\u001b[0m\u001b[0;34m\u001b[0m\u001b[0;34m\u001b[0m\u001b[0m\n\u001b[1;32m     78\u001b[0m \u001b[0;34m\u001b[0m\u001b[0m\n",
            "\u001b[0;32m/usr/local/lib/python3.10/dist-packages/sklearn/base.py\u001b[0m in \u001b[0;36mwrapper\u001b[0;34m(estimator, *args, **kwargs)\u001b[0m\n\u001b[1;32m   1150\u001b[0m                 )\n\u001b[1;32m   1151\u001b[0m             ):\n\u001b[0;32m-> 1152\u001b[0;31m                 \u001b[0;32mreturn\u001b[0m \u001b[0mfit_method\u001b[0m\u001b[0;34m(\u001b[0m\u001b[0mestimator\u001b[0m\u001b[0;34m,\u001b[0m \u001b[0;34m*\u001b[0m\u001b[0margs\u001b[0m\u001b[0;34m,\u001b[0m \u001b[0;34m**\u001b[0m\u001b[0mkwargs\u001b[0m\u001b[0;34m)\u001b[0m\u001b[0;34m\u001b[0m\u001b[0;34m\u001b[0m\u001b[0m\n\u001b[0m\u001b[1;32m   1153\u001b[0m \u001b[0;34m\u001b[0m\u001b[0m\n\u001b[1;32m   1154\u001b[0m         \u001b[0;32mreturn\u001b[0m \u001b[0mwrapper\u001b[0m\u001b[0;34m\u001b[0m\u001b[0;34m\u001b[0m\u001b[0m\n",
            "\u001b[0;32m/usr/local/lib/python3.10/dist-packages/sklearn/feature_selection/_rfe.py\u001b[0m in \u001b[0;36mfit\u001b[0;34m(self, X, y, **fit_params)\u001b[0m\n\u001b[1;32m    247\u001b[0m             \u001b[0mFitted\u001b[0m \u001b[0mestimator\u001b[0m\u001b[0;34m.\u001b[0m\u001b[0;34m\u001b[0m\u001b[0;34m\u001b[0m\u001b[0m\n\u001b[1;32m    248\u001b[0m         \"\"\"\n\u001b[0;32m--> 249\u001b[0;31m         \u001b[0;32mreturn\u001b[0m \u001b[0mself\u001b[0m\u001b[0;34m.\u001b[0m\u001b[0m_fit\u001b[0m\u001b[0;34m(\u001b[0m\u001b[0mX\u001b[0m\u001b[0;34m,\u001b[0m \u001b[0my\u001b[0m\u001b[0;34m,\u001b[0m \u001b[0;34m**\u001b[0m\u001b[0mfit_params\u001b[0m\u001b[0;34m)\u001b[0m\u001b[0;34m\u001b[0m\u001b[0;34m\u001b[0m\u001b[0m\n\u001b[0m\u001b[1;32m    250\u001b[0m \u001b[0;34m\u001b[0m\u001b[0m\n\u001b[1;32m    251\u001b[0m     \u001b[0;32mdef\u001b[0m \u001b[0m_fit\u001b[0m\u001b[0;34m(\u001b[0m\u001b[0mself\u001b[0m\u001b[0;34m,\u001b[0m \u001b[0mX\u001b[0m\u001b[0;34m,\u001b[0m \u001b[0my\u001b[0m\u001b[0;34m,\u001b[0m \u001b[0mstep_score\u001b[0m\u001b[0;34m=\u001b[0m\u001b[0;32mNone\u001b[0m\u001b[0;34m,\u001b[0m \u001b[0;34m**\u001b[0m\u001b[0mfit_params\u001b[0m\u001b[0;34m)\u001b[0m\u001b[0;34m:\u001b[0m\u001b[0;34m\u001b[0m\u001b[0;34m\u001b[0m\u001b[0m\n",
            "\u001b[0;32m/usr/local/lib/python3.10/dist-packages/sklearn/feature_selection/_rfe.py\u001b[0m in \u001b[0;36m_fit\u001b[0;34m(self, X, y, step_score, **fit_params)\u001b[0m\n\u001b[1;32m    295\u001b[0m                 \u001b[0mprint\u001b[0m\u001b[0;34m(\u001b[0m\u001b[0;34m\"Fitting estimator with %d features.\"\u001b[0m \u001b[0;34m%\u001b[0m \u001b[0mnp\u001b[0m\u001b[0;34m.\u001b[0m\u001b[0msum\u001b[0m\u001b[0;34m(\u001b[0m\u001b[0msupport_\u001b[0m\u001b[0;34m)\u001b[0m\u001b[0;34m)\u001b[0m\u001b[0;34m\u001b[0m\u001b[0;34m\u001b[0m\u001b[0m\n\u001b[1;32m    296\u001b[0m \u001b[0;34m\u001b[0m\u001b[0m\n\u001b[0;32m--> 297\u001b[0;31m             \u001b[0mestimator\u001b[0m\u001b[0;34m.\u001b[0m\u001b[0mfit\u001b[0m\u001b[0;34m(\u001b[0m\u001b[0mX\u001b[0m\u001b[0;34m[\u001b[0m\u001b[0;34m:\u001b[0m\u001b[0;34m,\u001b[0m \u001b[0mfeatures\u001b[0m\u001b[0;34m]\u001b[0m\u001b[0;34m,\u001b[0m \u001b[0my\u001b[0m\u001b[0;34m,\u001b[0m \u001b[0;34m**\u001b[0m\u001b[0mfit_params\u001b[0m\u001b[0;34m)\u001b[0m\u001b[0;34m\u001b[0m\u001b[0;34m\u001b[0m\u001b[0m\n\u001b[0m\u001b[1;32m    298\u001b[0m \u001b[0;34m\u001b[0m\u001b[0m\n\u001b[1;32m    299\u001b[0m             \u001b[0;31m# Get importance and rank them\u001b[0m\u001b[0;34m\u001b[0m\u001b[0;34m\u001b[0m\u001b[0m\n",
            "\u001b[0;32m/usr/local/lib/python3.10/dist-packages/sklearn/base.py\u001b[0m in \u001b[0;36mwrapper\u001b[0;34m(estimator, *args, **kwargs)\u001b[0m\n\u001b[1;32m   1150\u001b[0m                 )\n\u001b[1;32m   1151\u001b[0m             ):\n\u001b[0;32m-> 1152\u001b[0;31m                 \u001b[0;32mreturn\u001b[0m \u001b[0mfit_method\u001b[0m\u001b[0;34m(\u001b[0m\u001b[0mestimator\u001b[0m\u001b[0;34m,\u001b[0m \u001b[0;34m*\u001b[0m\u001b[0margs\u001b[0m\u001b[0;34m,\u001b[0m \u001b[0;34m**\u001b[0m\u001b[0mkwargs\u001b[0m\u001b[0;34m)\u001b[0m\u001b[0;34m\u001b[0m\u001b[0;34m\u001b[0m\u001b[0m\n\u001b[0m\u001b[1;32m   1153\u001b[0m \u001b[0;34m\u001b[0m\u001b[0m\n\u001b[1;32m   1154\u001b[0m         \u001b[0;32mreturn\u001b[0m \u001b[0mwrapper\u001b[0m\u001b[0;34m\u001b[0m\u001b[0;34m\u001b[0m\u001b[0m\n",
            "\u001b[0;32m/usr/local/lib/python3.10/dist-packages/sklearn/svm/_base.py\u001b[0m in \u001b[0;36mfit\u001b[0;34m(self, X, y, sample_weight)\u001b[0m\n\u001b[1;32m    248\u001b[0m \u001b[0;34m\u001b[0m\u001b[0m\n\u001b[1;32m    249\u001b[0m         \u001b[0mseed\u001b[0m \u001b[0;34m=\u001b[0m \u001b[0mrnd\u001b[0m\u001b[0;34m.\u001b[0m\u001b[0mrandint\u001b[0m\u001b[0;34m(\u001b[0m\u001b[0mnp\u001b[0m\u001b[0;34m.\u001b[0m\u001b[0miinfo\u001b[0m\u001b[0;34m(\u001b[0m\u001b[0;34m\"i\"\u001b[0m\u001b[0;34m)\u001b[0m\u001b[0;34m.\u001b[0m\u001b[0mmax\u001b[0m\u001b[0;34m)\u001b[0m\u001b[0;34m\u001b[0m\u001b[0;34m\u001b[0m\u001b[0m\n\u001b[0;32m--> 250\u001b[0;31m         \u001b[0mfit\u001b[0m\u001b[0;34m(\u001b[0m\u001b[0mX\u001b[0m\u001b[0;34m,\u001b[0m \u001b[0my\u001b[0m\u001b[0;34m,\u001b[0m \u001b[0msample_weight\u001b[0m\u001b[0;34m,\u001b[0m \u001b[0msolver_type\u001b[0m\u001b[0;34m,\u001b[0m \u001b[0mkernel\u001b[0m\u001b[0;34m,\u001b[0m \u001b[0mrandom_seed\u001b[0m\u001b[0;34m=\u001b[0m\u001b[0mseed\u001b[0m\u001b[0;34m)\u001b[0m\u001b[0;34m\u001b[0m\u001b[0;34m\u001b[0m\u001b[0m\n\u001b[0m\u001b[1;32m    251\u001b[0m         \u001b[0;31m# see comment on the other call to np.iinfo in this file\u001b[0m\u001b[0;34m\u001b[0m\u001b[0;34m\u001b[0m\u001b[0m\n\u001b[1;32m    252\u001b[0m \u001b[0;34m\u001b[0m\u001b[0m\n",
            "\u001b[0;32m/usr/local/lib/python3.10/dist-packages/sklearn/svm/_base.py\u001b[0m in \u001b[0;36m_dense_fit\u001b[0;34m(self, X, y, sample_weight, solver_type, kernel, random_seed)\u001b[0m\n\u001b[1;32m    327\u001b[0m             \u001b[0mself\u001b[0m\u001b[0;34m.\u001b[0m\u001b[0mfit_status_\u001b[0m\u001b[0;34m,\u001b[0m\u001b[0;34m\u001b[0m\u001b[0;34m\u001b[0m\u001b[0m\n\u001b[1;32m    328\u001b[0m             \u001b[0mself\u001b[0m\u001b[0;34m.\u001b[0m\u001b[0m_num_iter\u001b[0m\u001b[0;34m,\u001b[0m\u001b[0;34m\u001b[0m\u001b[0;34m\u001b[0m\u001b[0m\n\u001b[0;32m--> 329\u001b[0;31m         \u001b[0;34m)\u001b[0m \u001b[0;34m=\u001b[0m \u001b[0mlibsvm\u001b[0m\u001b[0;34m.\u001b[0m\u001b[0mfit\u001b[0m\u001b[0;34m(\u001b[0m\u001b[0;34m\u001b[0m\u001b[0;34m\u001b[0m\u001b[0m\n\u001b[0m\u001b[1;32m    330\u001b[0m             \u001b[0mX\u001b[0m\u001b[0;34m,\u001b[0m\u001b[0;34m\u001b[0m\u001b[0;34m\u001b[0m\u001b[0m\n\u001b[1;32m    331\u001b[0m             \u001b[0my\u001b[0m\u001b[0;34m,\u001b[0m\u001b[0;34m\u001b[0m\u001b[0;34m\u001b[0m\u001b[0m\n",
            "\u001b[0;31mKeyboardInterrupt\u001b[0m: "
          ]
        }
      ]
    },
    {
      "cell_type": "markdown",
      "source": [
        "# Preguntas"
      ],
      "metadata": {
        "id": "evZWNCqnU0Dt"
      }
    },
    {
      "cell_type": "markdown",
      "source": [
        "## ¿Qué pasa si no se considera el problema de tener datos desbalanceados para este caso? ¿Por qué?\n"
      ],
      "metadata": {
        "id": "y5SftwPeVCXf"
      }
    },
    {
      "cell_type": "markdown",
      "source": [
        "Si si es un problema, si no consideramos el desbalance tendríamos un sesgo hacia la clase mayoritaria y una precisión engañosa\n",
        "\n",
        "\n",
        "Es bueno balancear los datos, pero tiene que tener cuidado tanto de un sobreajuste por crear datos \"falso\" así como una perdida de información, por eliminar datos importantes."
      ],
      "metadata": {
        "id": "Oy4_of9zVhSE"
      }
    },
    {
      "cell_type": "markdown",
      "source": [
        "## De todos los clasificadores, ¿cuál o cuáles consideras que son adecuados para los datos? ¿Qué propiedades tienen dichos modelos que los hacen apropiados para los datos? Argumenta tu respuesta.\n"
      ],
      "metadata": {
        "id": "VB-7R5MsVGpz"
      }
    },
    {
      "cell_type": "markdown",
      "source": [
        "El clasificador que salió con mejor para nuestros datos, fue el SVM, este tiene una alta capacidad para maximizar el margen entre clases, esto es ideal en lugares donde las clases son linealmente separables, como en nuestro caso donde se espera que la respuesta cerebral difiera con claridad entre estado atento y no atento."
      ],
      "metadata": {
        "id": "2Y5WX28mWXYN"
      }
    },
    {
      "cell_type": "markdown",
      "source": [
        "## ¿Es posible reducir la dimensionalidad del problema sin perder rendimiento en el modelo? ¿Por qué?\n"
      ],
      "metadata": {
        "id": "oAVwJFsfVKvD"
      }
    },
    {
      "cell_type": "markdown",
      "source": [
        "Si, si es posible reducir la dimensionalidad, ya que existen datos que no son igual de relevante que otros, por lo que es posible."
      ],
      "metadata": {
        "id": "rq3PcG0vXptJ"
      }
    },
    {
      "cell_type": "markdown",
      "source": [
        "## ¿Qué método de selección de características consideras el más adecuado para este caso? ¿Por qué?\n"
      ],
      "metadata": {
        "id": "549LzDPUVRcY"
      }
    },
    {
      "cell_type": "markdown",
      "source": [
        "En mi caso, no termina de correr ninguno de los dos, por el poder computacional que requiere, pero puedo decir que Recurive Feature Elimination es una buena opción, ya que este elimina características menos importante de manera iterativa, lo que ayuda a encontrar el subconjunto óptimo."
      ],
      "metadata": {
        "id": "SrZeXKAQYD5Z"
      }
    },
    {
      "cell_type": "markdown",
      "source": [
        "## Si quisieras mejorar el rendimiento de tus modelos, ¿qué más se podría hacer?"
      ],
      "metadata": {
        "id": "cd9fRiMgVTNl"
      }
    },
    {
      "cell_type": "markdown",
      "source": [
        "Podemos realizar una optimización de hiperparametros, esto nos ayudaría a encontrar los hiperparametros óptimos, para que nuestro modelo tenga una mayor precisión."
      ],
      "metadata": {
        "id": "T0UNSJwtYXYL"
      }
    },
    {
      "cell_type": "markdown",
      "source": [
        "# **Ejercicio 2 (50 puntos)**\n",
        "\n",
        "En este ejercicio trabajarás con datos que vienen de un experimento en el que se midió actividad muscular con la técnica de la Electromiografía en el brazo derecho de varios participantes cuando éstos realizaban un movimiento con la mano entre siete posibles (Flexionar hacia arriba, Flexionar hacia abajo, Cerrar la mano, Estirar la mano, Abrir la mano, Coger un objeto, No moverse). Al igual que en el ejercicio anterior, los datos se cargan con la función `loadtxt` de numpy. A su vez, la primera columna corresponde a la clase (1, 2, 3, 4, 5, 6, y 7), la segunda columna se ignora, y el resto de las columnas indican las variables que se calcularon de la respuesta muscular. El archivo de datos con el que trabajarás depende de tu matrícula.\n",
        "\n",
        "Para este conjunto de datos:\n",
        "\n",
        "1. **Determina si es necesario balancear los datos.**  \n",
        "   * En caso de que sea afirmativo, en todo este ejercicio tendrás que utilizar alguna estrategia para mitigar el problema de tener una muestra desbalanceada.\n",
        "\n",
        "2. **Evalúa al menos 8 modelos de clasificación distintos utilizando validación cruzada,**  \n",
        "   * Determina cuál de ellos es el más efectivo.\n",
        "\n",
        "3. **Escoge al menos dos clasificadores que hayas evaluado en el paso anterior e identifica sus hiperparámetros.**  \n",
        "   * Lleva a cabo el proceso de validación cruzada anidada para evaluar los dos modelos con la selección óptima de hiperparámetros.\n",
        "\n",
        "4. **Prepara tus modelos para producción haciendo lo siguiente:**\n",
        "   * Obtén los hiperparámetros óptimos utilizando todo el conjunto de datos con validación cruzada.\n",
        "   * Con los hiperparámetros óptimos, ajusta el modelo con todos los datos.\n",
        "\n",
        "5. **Contesta lo siguiente:**\n",
        "   * ¿Observas un problema en cuanto al balanceo de las clases? ¿Por qué?\n",
        "   * ¿Qué modelo o modelos fueron efectivos para clasificar tus datos? ¿Observas algo especial sobre los modelos? Argumenta tu respuesta.\n",
        "   * ¿Observas alguna mejora importante al optimizar hiperparámetros? ¿Es el resultado que esperabas? Argumenta tu respuesta.\n",
        "   * ¿Qué inconvenientes hay al encontrar hiperparámetros? ¿Por qué?\n"
      ],
      "metadata": {
        "id": "lmfhFyLpfS3f"
      }
    },
    {
      "cell_type": "code",
      "source": [
        "usecols = [0] + list(range(2, 128))\n",
        "\n",
        "\n",
        "data = np.loadtxt('sample_data/M_3.txt', delimiter='\\t',usecols=usecols)\n",
        "\n",
        "\n",
        "y = data[:, 0]\n",
        "X = data[:, 1:]\n"
      ],
      "metadata": {
        "id": "wH8WMJfJeDbU"
      },
      "execution_count": null,
      "outputs": []
    },
    {
      "cell_type": "markdown",
      "source": [
        "#Balanceo"
      ],
      "metadata": {
        "id": "1E6AZcPYgM1Q"
      }
    },
    {
      "cell_type": "code",
      "source": [
        "unique, counts = np.unique(y, return_counts=True)\n",
        "class_distribution = dict(zip(unique, counts))\n",
        "\n",
        "\n",
        "print(\"Distribución de clases:\")\n",
        "for cls, count in class_distribution.items():\n",
        "    print(f\"Clase {int(cls)}: {count} muestras\")\n",
        "\n",
        "\n",
        "plt.bar(class_distribution.keys(), class_distribution.values())\n",
        "plt.xlabel('Clase')\n",
        "plt.ylabel('Número de muestras')\n",
        "plt.title('Distribución de Clases')\n",
        "plt.show()"
      ],
      "metadata": {
        "colab": {
          "base_uri": "https://localhost:8080/",
          "height": 611
        },
        "id": "MOj-qb-xfXJ7",
        "outputId": "29ddc425-d61f-4687-8b06-8c0bce1e7f25"
      },
      "execution_count": null,
      "outputs": [
        {
          "output_type": "stream",
          "name": "stdout",
          "text": [
            "Distribución de clases:\n",
            "Clase 1: 90 muestras\n",
            "Clase 2: 90 muestras\n",
            "Clase 3: 90 muestras\n",
            "Clase 4: 90 muestras\n",
            "Clase 5: 90 muestras\n",
            "Clase 6: 90 muestras\n",
            "Clase 7: 90 muestras\n"
          ]
        },
        {
          "output_type": "display_data",
          "data": {
            "text/plain": [
              "<Figure size 640x480 with 1 Axes>"
            ],
            "image/png": "[encoded data removed]"
          },
          "metadata": {}
        }
      ]
    },
    {
      "cell_type": "markdown",
      "source": [
        "#8 modelos\n"
      ],
      "metadata": {
        "id": "QBqXgKPugYJQ"
      }
    },
    {
      "cell_type": "code",
      "source": [
        "n_folds = 5\n",
        "kf = KFold(n_splits=n_folds, shuffle=True, random_state=42)\n",
        "\n",
        "\n",
        "models = {\n",
        "    'Random Forest': RandomForestClassifier(random_state=42),\n",
        "    'SVM': SVC(random_state=42),\n",
        "    'K-Nearest Neighbors': KNeighborsClassifier(),\n",
        "    'Logistic Regression': LogisticRegression(random_state=42),\n",
        "    'Decision Tree': DecisionTreeClassifier(random_state=42),\n",
        "    'Naive Bayes': GaussianNB(),\n",
        "    'Gradient Boosting': GradientBoostingClassifier(random_state=42),\n",
        "    'AdaBoost': AdaBoostClassifier(random_state=42)\n",
        "}\n",
        "\n",
        "\n",
        "results = {}\n",
        "\n",
        "for model_name, model in models.items():\n",
        "    print(f\"Evaluando modelo: {model_name}\")\n",
        "\n",
        "    accuracy_total = 0\n",
        "\n",
        "    for train_index, test_index in kf.split(X):\n",
        "        X_train, X_test = X[train_index], X[test_index]\n",
        "        y_train, y_test = y[train_index], y[test_index]\n",
        "\n",
        "        model.fit(X_train, y_train)\n",
        "        y_pred = model.predict(X_test)\n",
        "\n",
        "        accuracy = accuracy_score(y_test, y_pred)\n",
        "        accuracy_total += accuracy\n",
        "\n",
        "    accuracy_avg = accuracy_total / n_folds\n",
        "    results[model_name] = accuracy_avg\n",
        "    print(f\"Precisión promedio para {model_name}: {accuracy_avg:.4f}\\n\")\n",
        "\n",
        "\n",
        "best_model_name = max(results, key=results.get)\n",
        "print(f\"\\nEl modelo más efectivo es: {best_model_name} con una precisión promedio de {results[best_model_name]:.4f}\")\n"
      ],
      "metadata": {
        "colab": {
          "base_uri": "https://localhost:8080/"
        },
        "id": "2nVAD_X5gaCP",
        "outputId": "dac393db-06ae-4c7c-af63-6f217eb18cac"
      },
      "execution_count": null,
      "outputs": [
        {
          "output_type": "stream",
          "name": "stdout",
          "text": [
            "Evaluando modelo: Random Forest\n",
            "Precisión promedio para Random Forest: 0.8810\n",
            "\n",
            "Evaluando modelo: SVM\n",
            "Precisión promedio para SVM: 0.8889\n",
            "\n",
            "Evaluando modelo: K-Nearest Neighbors\n",
            "Precisión promedio para K-Nearest Neighbors: 0.8968\n",
            "\n",
            "Evaluando modelo: Logistic Regression\n"
          ]
        },
        {
          "output_type": "stream",
          "name": "stderr",
          "text": [
            "/usr/local/lib/python3.10/dist-packages/sklearn/linear_model/_logistic.py:460: ConvergenceWarning: lbfgs failed to converge (status=1):\n",
            "STOP: TOTAL NO. of ITERATIONS REACHED LIMIT.\n",
            "\n",
            "Increase the number of iterations (max_iter) or scale the data as shown in:\n",
            "    https://scikit-learn.org/stable/modules/preprocessing.html\n",
            "Please also refer to the documentation for alternative solver options:\n",
            "    https://scikit-learn.org/stable/modules/linear_model.html#logistic-regression\n",
            "  n_iter_i = _check_optimize_result(\n",
            "/usr/local/lib/python3.10/dist-packages/sklearn/linear_model/_logistic.py:460: ConvergenceWarning: lbfgs failed to converge (status=1):\n",
            "STOP: TOTAL NO. of ITERATIONS REACHED LIMIT.\n",
            "\n",
            "Increase the number of iterations (max_iter) or scale the data as shown in:\n",
            "    https://scikit-learn.org/stable/modules/preprocessing.html\n",
            "Please also refer to the documentation for alternative solver options:\n",
            "    https://scikit-learn.org/stable/modules/linear_model.html#logistic-regression\n",
            "  n_iter_i = _check_optimize_result(\n",
            "/usr/local/lib/python3.10/dist-packages/sklearn/linear_model/_logistic.py:460: ConvergenceWarning: lbfgs failed to converge (status=1):\n",
            "STOP: TOTAL NO. of ITERATIONS REACHED LIMIT.\n",
            "\n",
            "Increase the number of iterations (max_iter) or scale the data as shown in:\n",
            "    https://scikit-learn.org/stable/modules/preprocessing.html\n",
            "Please also refer to the documentation for alternative solver options:\n",
            "    https://scikit-learn.org/stable/modules/linear_model.html#logistic-regression\n",
            "  n_iter_i = _check_optimize_result(\n",
            "/usr/local/lib/python3.10/dist-packages/sklearn/linear_model/_logistic.py:460: ConvergenceWarning: lbfgs failed to converge (status=1):\n",
            "STOP: TOTAL NO. of ITERATIONS REACHED LIMIT.\n",
            "\n",
            "Increase the number of iterations (max_iter) or scale the data as shown in:\n",
            "    https://scikit-learn.org/stable/modules/preprocessing.html\n",
            "Please also refer to the documentation for alternative solver options:\n",
            "    https://scikit-learn.org/stable/modules/linear_model.html#logistic-regression\n",
            "  n_iter_i = _check_optimize_result(\n",
            "/usr/local/lib/python3.10/dist-packages/sklearn/linear_model/_logistic.py:460: ConvergenceWarning: lbfgs failed to converge (status=1):\n",
            "STOP: TOTAL NO. of ITERATIONS REACHED LIMIT.\n",
            "\n",
            "Increase the number of iterations (max_iter) or scale the data as shown in:\n",
            "    https://scikit-learn.org/stable/modules/preprocessing.html\n",
            "Please also refer to the documentation for alternative solver options:\n",
            "    https://scikit-learn.org/stable/modules/linear_model.html#logistic-regression\n",
            "  n_iter_i = _check_optimize_result(\n"
          ]
        },
        {
          "output_type": "stream",
          "name": "stdout",
          "text": [
            "Precisión promedio para Logistic Regression: 0.8937\n",
            "\n",
            "Evaluando modelo: Decision Tree\n",
            "Precisión promedio para Decision Tree: 0.7794\n",
            "\n",
            "Evaluando modelo: Naive Bayes\n",
            "Precisión promedio para Naive Bayes: 0.8254\n",
            "\n",
            "Evaluando modelo: Gradient Boosting\n",
            "Precisión promedio para Gradient Boosting: 0.8778\n",
            "\n",
            "Evaluando modelo: AdaBoost\n",
            "Precisión promedio para AdaBoost: 0.4302\n",
            "\n",
            "\n",
            "El modelo más efectivo es: K-Nearest Neighbors con una precisión promedio de 0.8968\n"
          ]
        }
      ]
    },
    {
      "cell_type": "markdown",
      "source": [
        "# Parametros"
      ],
      "metadata": {
        "id": "ed1zgB0WnAfh"
      }
    },
    {
      "cell_type": "code",
      "source": [
        "from sklearn.model_selection import GridSearchCV, StratifiedKFold, cross_val_score\n",
        "\n",
        "param_grid_knn = {'n_neighbors': np.arange(1, 140)}\n",
        "param_grid_svm = {'C': np.logspace(-3, 1, 100)}\n",
        "\n",
        "\n",
        "kf = StratifiedKFold(n_splits=5, shuffle=True, random_state=42)\n",
        "\n",
        "print(\"----- KNN classifier - K parameter -----\")\n",
        "\n",
        "knn = KNeighborsClassifier()\n",
        "grid_search_knn = GridSearchCV(knn, param_grid_knn, cv=kf, scoring='accuracy')\n",
        "cross_val_results_knn = cross_val_score(grid_search_knn, X, y, cv=kf, scoring='accuracy')\n",
        "\n",
        "print(f\"Precisión promedio para KNN con validación cruzada anidada: {np.mean(cross_val_results_knn):.4f}\")\n",
        "\n",
        "best_knn_model = grid_search_knn.fit(X, y)\n",
        "opt_k = best_knn_model.best_params_['n_neighbors']\n",
        "print(f\"Optimal k: {opt_k}\")\n",
        "\n",
        "\n",
        "plt.figure(figsize=(10, 5))\n",
        "plt.plot(np.arange(1, 140), best_knn_model.cv_results_['mean_test_score'])\n",
        "plt.xlabel(\"k\")\n",
        "plt.ylabel(\"Accuracy\")\n",
        "plt.title(\"KNN: Accuracy vs. Number of Neighbors\")\n",
        "plt.show()\n",
        "\n",
        "\n",
        "print(\"----- SVM classifier - Regularization parameter -----\")\n",
        "\n",
        "svm = SVC(kernel='linear')\n",
        "grid_search_svm = GridSearchCV(svm, param_grid_svm, cv=kf, scoring='accuracy')\n",
        "cross_val_results_svm = cross_val_score(grid_search_svm, X, y, cv=kf, scoring='accuracy')\n",
        "\n",
        "print(f\"Precisión promedio para SVM con validación cruzada anidada: {np.mean(cross_val_results_svm):.4f}\")\n",
        "\n",
        "\n",
        "best_svm_model = grid_search_svm.fit(X, y)\n",
        "opt_c = best_svm_model.best_params_['C']\n",
        "print(f\"Optimal C: {opt_c}\")\n",
        "\n",
        "\n",
        "plt.figure(figsize=(10, 5))\n",
        "plt.plot(grid_search_svm.cv_results_['param_C'].data, best_svm_model.cv_results_['mean_test_score'])\n",
        "plt.xscale('log')\n",
        "plt.xlabel(\"C\")\n",
        "plt.ylabel(\"Accuracy\")\n",
        "plt.title(\"SVM: Accuracy vs. Regularization Parameter\")\n",
        "plt.show()"
      ],
      "metadata": {
        "colab": {
          "base_uri": "https://localhost:8080/",
          "height": 1000
        },
        "id": "QiLdLg7fmr1N",
        "outputId": "83d2ff48-8a9b-4858-8540-601ad0ee7ad3"
      },
      "execution_count": null,
      "outputs": [
        {
          "output_type": "stream",
          "name": "stdout",
          "text": [
            "----- KNN classifier - K parameter -----\n",
            "Precisión promedio para KNN con validación cruzada anidada: 0.8841\n",
            "Optimal k: 4\n"
          ]
        },
        {
          "output_type": "display_data",
          "data": {
            "text/plain": [
              "<Figure size 1000x500 with 1 Axes>"
            ],
            "image/png": "[encoded data removed]"
          },
          "metadata": {}
        },
        {
          "output_type": "stream",
          "name": "stdout",
          "text": [
            "----- SVM classifier - Regularization parameter -----\n",
            "Precisión promedio para SVM con validación cruzada anidada: 0.9048\n",
            "Optimal C: 0.021544346900318846\n"
          ]
        },
        {
          "output_type": "display_data",
          "data": {
            "text/plain": [
              "<Figure size 1000x500 with 1 Axes>"
            ],
            "image/png": "[encoded data removed]"
          },
          "metadata": {}
        }
      ]
    },
    {
      "cell_type": "markdown",
      "source": [
        "# Producción"
      ],
      "metadata": {
        "id": "re5r5kLunhKu"
      }
    },
    {
      "cell_type": "code",
      "source": [
        "from sklearn.model_selection import GridSearchCV, StratifiedKFold, cross_val_predict\n",
        "from sklearn.neighbors import KNeighborsClassifier\n",
        "from sklearn.metrics import classification_report\n",
        "\n",
        "\n",
        "\n",
        "parameters = {'n_neighbors': np.arange(1, 140)}\n",
        "kf = StratifiedKFold(n_splits=5, shuffle=True, random_state=42)\n",
        "\n",
        "\n",
        "print(\"----- Model evaluation -----\")\n",
        "cv_y_test = []\n",
        "cv_y_pred = []\n",
        "\n",
        "for train_index, test_index in kf.split(X, y):\n",
        "    X_train, X_test = X[train_index], X[test_index]\n",
        "    y_train, y_test = y[train_index], y[test_index]\n",
        "\n",
        "    clf_cv = GridSearchCV(KNeighborsClassifier(), parameters, cv=5)\n",
        "    clf_cv.fit(X_train, y_train)\n",
        "\n",
        "    y_pred = clf_cv.predict(X_test)\n",
        "    cv_y_test.append(y_test)\n",
        "    cv_y_pred.append(y_pred)\n",
        "\n",
        "print(classification_report(np.concatenate(cv_y_test), np.concatenate(cv_y_pred)))\n",
        "\n",
        "\n",
        "print(\"----- Model evaluation with cross_val_predict -----\")\n",
        "clf = GridSearchCV(KNeighborsClassifier(), parameters, cv=5)\n",
        "y_pred = cross_val_predict(clf, X, y, cv=5)\n",
        "print(classification_report(y, y_pred))\n",
        "\n",
        "print(\"----- Production model -----\")\n",
        "clf = GridSearchCV(KNeighborsClassifier(), parameters, cv=5)\n",
        "clf.fit(X, y)\n",
        "print(clf.best_estimator_)\n",
        "\n",
        "\n"
      ],
      "metadata": {
        "colab": {
          "base_uri": "https://localhost:8080/"
        },
        "id": "TpCDT2jJoj58",
        "outputId": "86ca3504-3d41-4c37-ad4e-3e637acd7e1a"
      },
      "execution_count": null,
      "outputs": [
        {
          "output_type": "stream",
          "name": "stdout",
          "text": [
            "----- Model evaluation -----\n",
            "              precision    recall  f1-score   support\n",
            "\n",
            "         1.0       0.81      0.88      0.84        90\n",
            "         2.0       0.80      0.73      0.77        90\n",
            "         3.0       0.94      0.87      0.90        90\n",
            "         4.0       0.98      0.89      0.93        90\n",
            "         5.0       0.93      0.91      0.92        90\n",
            "         6.0       0.76      0.86      0.81        90\n",
            "         7.0       0.94      1.00      0.97        90\n",
            "\n",
            "    accuracy                           0.88       630\n",
            "   macro avg       0.88      0.88      0.88       630\n",
            "weighted avg       0.88      0.88      0.88       630\n",
            "\n",
            "----- Model evaluation with cross_val_predict -----\n",
            "              precision    recall  f1-score   support\n",
            "\n",
            "         1.0       0.77      0.90      0.83        90\n",
            "         2.0       0.77      0.69      0.73        90\n",
            "         3.0       0.92      0.87      0.89        90\n",
            "         4.0       0.98      0.90      0.94        90\n",
            "         5.0       0.95      0.91      0.93        90\n",
            "         6.0       0.74      0.78      0.76        90\n",
            "         7.0       0.94      1.00      0.97        90\n",
            "\n",
            "    accuracy                           0.86       630\n",
            "   macro avg       0.87      0.86      0.86       630\n",
            "weighted avg       0.87      0.86      0.86       630\n",
            "\n",
            "----- Production model -----\n",
            "KNeighborsClassifier(n_neighbors=11)\n"
          ]
        }
      ]
    },
    {
      "cell_type": "code",
      "source": [
        "best_n_neighbors = 11\n",
        "clf_best_knn = KNeighborsClassifier(n_neighbors=best_n_neighbors)\n",
        "clf_best_knn.fit(X, y)\n",
        "\n",
        "\n",
        "y_pred_knn = clf_best_knn.predict(X)\n",
        "\n",
        "\n",
        "print(\"----- Evaluación del modelo KNN -----\")\n",
        "print(\"Mejores hiperparámetros:\", {'n_neighbors': best_n_neighbors})\n",
        "print(\"Precisión en el conjunto completo de datos:\", clf_best_knn.score(X, y))\n",
        "print(\"Reporte de clasificación:\\n\", classification_report(y, y_pred_knn))\n",
        "print(\"Matriz de confusión:\\n\", confusion_matrix(y, y_pred_knn))"
      ],
      "metadata": {
        "colab": {
          "base_uri": "https://localhost:8080/"
        },
        "id": "wNNiAvAmsb3t",
        "outputId": "d86043ff-c647-4147-cf62-1aac5806ef0a"
      },
      "execution_count": null,
      "outputs": [
        {
          "output_type": "stream",
          "name": "stdout",
          "text": [
            "----- Evaluación del modelo KNN -----\n",
            "Mejores hiperparámetros: {'n_neighbors': 11}\n",
            "Precisión en el conjunto completo de datos: 0.9142857142857143\n",
            "Reporte de clasificación:\n",
            "               precision    recall  f1-score   support\n",
            "\n",
            "         1.0       0.85      0.91      0.88        90\n",
            "         2.0       0.85      0.80      0.82        90\n",
            "         3.0       0.98      0.91      0.94        90\n",
            "         4.0       0.98      0.91      0.94        90\n",
            "         5.0       0.97      0.94      0.96        90\n",
            "         6.0       0.86      0.92      0.89        90\n",
            "         7.0       0.94      1.00      0.97        90\n",
            "\n",
            "    accuracy                           0.91       630\n",
            "   macro avg       0.92      0.91      0.91       630\n",
            "weighted avg       0.92      0.91      0.91       630\n",
            "\n",
            "Matriz de confusión:\n",
            " [[82  4  0  2  2  0  0]\n",
            " [ 8 72  1  0  0  9  0]\n",
            " [ 0  0 82  0  0  5  3]\n",
            " [ 1  6  0 82  1  0  0]\n",
            " [ 5  0  0  0 85  0  0]\n",
            " [ 0  3  1  0  0 83  3]\n",
            " [ 0  0  0  0  0  0 90]]\n"
          ]
        }
      ]
    },
    {
      "cell_type": "code",
      "source": [
        "\n",
        "parameters = {'C': np.logspace(-3, 1, 100)}\n",
        "kf = StratifiedKFold(n_splits=5, shuffle=True, random_state=42)\n",
        "\n",
        "\n",
        "print(\"----- Evaluación del modelo -----\")\n",
        "cv_y_test = []\n",
        "cv_y_pred = []\n",
        "\n",
        "for train_index, test_index in kf.split(X, y):\n",
        "    X_train, X_test = X[train_index], X[test_index]\n",
        "    y_train, y_test = y[train_index], y[test_index]\n",
        "\n",
        "    clf_cv = GridSearchCV(SVC(kernel='linear'), parameters, cv=5)\n",
        "    clf_cv.fit(X_train, y_train)\n",
        "\n",
        "    y_pred = clf_cv.predict(X_test)\n",
        "    cv_y_test.append(y_test)\n",
        "    cv_y_pred.append(y_pred)\n",
        "\n",
        "print(classification_report(np.concatenate(cv_y_test), np.concatenate(cv_y_pred)))\n",
        "\n",
        "\n",
        "print(\"----- Evaluación con cross_val_predict -----\")\n",
        "clf = GridSearchCV(SVC(kernel='linear'), parameters, cv=5)\n",
        "y_pred = cross_val_predict(clf, X, y, cv=5)\n",
        "print(classification_report(y, y_pred))\n",
        "\n",
        "print(\"----- Modelo para Producción -----\")\n",
        "clf = GridSearchCV(SVC(kernel='linear'), parameters, cv=5)\n",
        "clf.fit(X, y)\n",
        "print(clf.best_estimator_)\n"
      ],
      "metadata": {
        "colab": {
          "base_uri": "https://localhost:8080/"
        },
        "id": "CUZ3JBhEp9bO",
        "outputId": "a1255fcd-02ba-43e2-8ad2-6555b5a5ff01"
      },
      "execution_count": null,
      "outputs": [
        {
          "output_type": "stream",
          "name": "stdout",
          "text": [
            "----- Evaluación del modelo -----\n",
            "              precision    recall  f1-score   support\n",
            "\n",
            "         1.0       0.90      0.91      0.91        90\n",
            "         2.0       0.81      0.80      0.80        90\n",
            "         3.0       0.94      0.90      0.92        90\n",
            "         4.0       0.99      0.94      0.97        90\n",
            "         5.0       0.93      0.94      0.94        90\n",
            "         6.0       0.80      0.81      0.81        90\n",
            "         7.0       0.94      1.00      0.97        90\n",
            "\n",
            "    accuracy                           0.90       630\n",
            "   macro avg       0.90      0.90      0.90       630\n",
            "weighted avg       0.90      0.90      0.90       630\n",
            "\n",
            "----- Evaluación con cross_val_predict -----\n",
            "              precision    recall  f1-score   support\n",
            "\n",
            "         1.0       0.81      0.91      0.86        90\n",
            "         2.0       0.80      0.74      0.77        90\n",
            "         3.0       0.90      0.86      0.88        90\n",
            "         4.0       0.98      0.94      0.96        90\n",
            "         5.0       0.94      0.90      0.92        90\n",
            "         6.0       0.73      0.73      0.73        90\n",
            "         7.0       0.94      1.00      0.97        90\n",
            "\n",
            "    accuracy                           0.87       630\n",
            "   macro avg       0.87      0.87      0.87       630\n",
            "weighted avg       0.87      0.87      0.87       630\n",
            "\n",
            "----- Modelo para Producción -----\n",
            "SVC(C=0.007054802310718645, kernel='linear')\n"
          ]
        }
      ]
    },
    {
      "cell_type": "code",
      "source": [
        "from sklearn.metrics import classification_report, confusion_matrix\n",
        "\n",
        "\n",
        "best_C = 0.007054802310718645\n",
        "clf_best_svm = SVC(C=best_C, kernel='linear')\n",
        "clf_best_svm.fit(X, y)\n",
        "\n",
        "\n",
        "y_pred_svm = clf_best_svm.predict(X)\n",
        "\n",
        "\n",
        "print(\"----- Evaluación del modelo SVM -----\")\n",
        "print(\"Mejores hiperparámetros:\", {'C': best_C})\n",
        "print(\"Precisión en el conjunto completo de datos:\", clf_best_svm.score(X, y))\n",
        "print(\"Reporte de clasificación:\\n\", classification_report(y, y_pred_svm))\n",
        "print(\"Matriz de confusión:\\n\", confusion_matrix(y, y_pred_svm))\n"
      ],
      "metadata": {
        "colab": {
          "base_uri": "https://localhost:8080/"
        },
        "id": "N-9RxtcCsxTi",
        "outputId": "4ce73f83-dcfa-4495-b03c-0ce7acd92830"
      },
      "execution_count": null,
      "outputs": [
        {
          "output_type": "stream",
          "name": "stdout",
          "text": [
            "----- Evaluación del modelo SVM -----\n",
            "Mejores hiperparámetros: {'C': 0.007054802310718645}\n",
            "Precisión en el conjunto completo de datos: 0.9285714285714286\n",
            "Reporte de clasificación:\n",
            "               precision    recall  f1-score   support\n",
            "\n",
            "         1.0       0.93      0.94      0.94        90\n",
            "         2.0       0.91      0.83      0.87        90\n",
            "         3.0       0.93      0.92      0.93        90\n",
            "         4.0       0.98      0.99      0.98        90\n",
            "         5.0       0.97      0.97      0.97        90\n",
            "         6.0       0.84      0.84      0.84        90\n",
            "         7.0       0.94      1.00      0.97        90\n",
            "\n",
            "    accuracy                           0.93       630\n",
            "   macro avg       0.93      0.93      0.93       630\n",
            "weighted avg       0.93      0.93      0.93       630\n",
            "\n",
            "Matriz de confusión:\n",
            " [[85  2  0  1  2  0  0]\n",
            " [ 3 75  0  1  0 11  0]\n",
            " [ 0  0 83  0  0  4  3]\n",
            " [ 0  0  0 89  1  0  0]\n",
            " [ 1  2  0  0 87  0  0]\n",
            " [ 2  3  6  0  0 76  3]\n",
            " [ 0  0  0  0  0  0 90]]\n"
          ]
        }
      ]
    },
    {
      "cell_type": "markdown",
      "source": [
        "# Preguntas"
      ],
      "metadata": {
        "id": "dDAyvMAqs98-"
      }
    },
    {
      "cell_type": "markdown",
      "source": [
        "## ¿Observas un problema en cuanto al balanceo de las clases? ¿Por qué?\n"
      ],
      "metadata": {
        "id": "6nniSlpUtAxl"
      }
    },
    {
      "cell_type": "markdown",
      "source": [
        "No se presentan problemas en cuanto la balanceo de clases, todas tiene el mismo número de ejemplos.\n",
        "\n",
        "![image.png](data:image/png;base64,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)"
      ],
      "metadata": {
        "id": "gVSBpYtYtwIX"
      }
    },
    {
      "cell_type": "markdown",
      "source": [
        "## ¿Qué modelo o modelos fueron efectivos para clasificar tus datos?  ¿Observas algo especial sobre los modelos? Argumenta tu respuesta.\n"
      ],
      "metadata": {
        "id": "-5to8P8WtER4"
      }
    },
    {
      "cell_type": "markdown",
      "source": [
        "\n",
        "![image.png](data:image/png;base64,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)\n",
        "\n",
        "\n",
        "Seguido de SVM.\n",
        "\n",
        "Algo especial a destacar es que podemos ver como modelos simples superar a modelos más robustos y complicados, lo que quiere decir que no siempre un modelo complejo es sinónimo de mejor."
      ],
      "metadata": {
        "id": "sDJMYgMcuG4v"
      }
    },
    {
      "cell_type": "markdown",
      "source": [
        "Hice los modelos con hiperparametros predeterminados, por lo que puede que no sea el mejor resultado para cada modelo respectivamente (incluso sale un warning en la regresión logística) por lo que se podría ajustar algunos y ver si realmente K-Nearest es el mejor modelo."
      ],
      "metadata": {
        "id": "ZEJq56DuuhZ1"
      }
    },
    {
      "cell_type": "markdown",
      "source": [
        "##¿Observas alguna mejora importante al optimizar hiperparámetros? ¿Es el resultado que esperabas? Argumenta tu respuesta.\n"
      ],
      "metadata": {
        "id": "JOX9TpoxtI1D"
      }
    },
    {
      "cell_type": "markdown",
      "source": [
        "Si, se puede observar una mejora significativa cuando se optimizan los hiperparametros, si es el resultado esperado, la selección y ajuste de hiperparametros puede tener un impacto significativo en el rendimiento del modelo."
      ],
      "metadata": {
        "id": "Rjxdb9bvv7AK"
      }
    },
    {
      "cell_type": "markdown",
      "source": [
        "## ¿Qué inconvenientes hay al encontrar hiperparámetros? ¿Por qué?"
      ],
      "metadata": {
        "id": "JbKKJw9stNbS"
      }
    },
    {
      "cell_type": "markdown",
      "source": [
        "Uno de los principales inconvenientes al encontrar los hiperparametros ideales, es el costo computación alto, la búsqueda de estos puede ser costosa en tiempo y recursos computacionales.\n",
        "\n",
        "Otro inconveniente es el sobreajuste, esto sucede por que el modelo puede ajustarse a las peculiaridades del conjunto de validación en lugar de generalizar."
      ],
      "metadata": {
        "id": "YLu0IXbZwx9E"
      }
    }
  ]
}