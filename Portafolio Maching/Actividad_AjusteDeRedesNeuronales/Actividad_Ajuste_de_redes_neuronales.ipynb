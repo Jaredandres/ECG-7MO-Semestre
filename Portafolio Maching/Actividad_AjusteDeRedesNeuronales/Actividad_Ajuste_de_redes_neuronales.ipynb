{
  "nbformat": 4,
  "nbformat_minor": 0,
  "metadata": {
    "colab": {
      "provenance": []
    },
    "kernelspec": {
      "name": "python3",
      "display_name": "Python 3"
    },
    "language_info": {
      "name": "python"
    }
  },
  "cells": [
    {
      "cell_type": "markdown",
      "source": [
        "# Instrucciones\n",
        "Resuelve de manera individual los siguientes ejercicios en un cuaderno de Jupyter Notebook y responde a los planteamientos indicados en cada uno. Los conjuntos de datos con los que trabajarás así como algunos incisos de los ejercicios dependen de tu número de matrícula.\n",
        "\n",
        "## Ejercicio 1 (35 puntos)\n",
        "El conjunto de datos de criminalidad de Estados Unidos publicado en el año 1993 consiste de 51 registros para los que se tienen las siguientes variables:\n",
        "\n",
        "- **VR** = crímenes violentos por cada 100000 habitantes\n",
        "- **MR** = asesinatos por cada 100000 habitantes\n",
        "- **M** = porcentaje de áreas metropolitanas\n",
        "- **W** = porcentaje de gente blanca\n",
        "- **H** = porcentaje de personas con preparatoria terminada\n",
        "- **P** = porcentaje con ingresos por debajo del nivel de pobreza\n",
        "- **S** = porcentaje de familias con solo un miembro adulto como tutor\n",
        "\n",
        "Para este conjunto de datos:\n",
        "\n",
        "1. Evalúa con validación cruzada un modelo perceptrón multicapa para las variables que se te asignaron para este ejercicio.\n",
        "2. Viendo los resultados de regresión, desarrolla una conclusión sobre los siguientes puntos:\n",
        "   - ¿Consideras que el modelo perceptrón multicapa es efectivo para modelar los datos del problema? ¿Por qué?\n",
        "   - ¿Qué modelo es mejor para los datos de criminalidad, el lineal o el perceptrón multicapa? ¿Por qué?\n",
        "\n",
        "**Nota:** Las variables con las que vas a trabajar dependen del último número de tu matrícula de acuerdo a la siguiente lista:\n",
        "\n",
        "- **0** - Variable dependiente VR, variables independientes M, W, H y P\n",
        "- **1** - Variable dependiente VR, variables independientes M, W, H y S\n",
        "- **2** - Variable dependiente VR, variables independientes M, W, S y P\n",
        "- **3** - Variable dependiente VR, variables independientes M, H, S y P\n",
        "- **4** - Variable dependiente MR, variables independientes M, W, H y P\n",
        "- **5** - Variable dependiente MR, variables independientes M, W, H y S\n",
        "- **6** - Variable dependiente MR, variables independientes M, W, S y P\n",
        "- **7** - Variable dependiente MR, variables independientes M, H, S y P\n",
        "- **8** - Variable dependiente VR, variables independientes M, W, H, P y S\n",
        "- **9** - Variable dependiente MR, variables independientes M, W, H, P y S\n",
        "\n"
      ],
      "metadata": {
        "id": "0NUf8yx8f8qc"
      }
    },
    {
      "cell_type": "code",
      "source": [
        "import pandas as pd\n",
        "from sklearn.neural_network import MLPRegressor\n",
        "from sklearn.linear_model import LinearRegression\n",
        "from sklearn.model_selection import KFold\n",
        "from sklearn.metrics import mean_squared_error, r2_score\n",
        "from sklearn.metrics import make_scorer\n",
        "import numpy as np\n",
        "from sklearn.model_selection import GridSearchCV\n",
        "from sklearn.neural_network import MLPClassifier\n",
        "from sklearn.model_selection import cross_val_predict\n",
        "from sklearn.metrics import classification_report\n",
        "from sklearn.model_selection import cross_val_score\n"
      ],
      "metadata": {
        "id": "XUacY8XnnWPm"
      },
      "execution_count": 4,
      "outputs": []
    },
    {
      "cell_type": "code",
      "source": [
        "import pandas as pd\n",
        "\n",
        "df = pd.read_csv('sample_data/crime_data.csv')\n",
        "\n",
        "df.head()\n"
      ],
      "metadata": {
        "colab": {
          "base_uri": "https://localhost:8080/",
          "height": 206
        },
        "id": "zwJCQrttgB5a",
        "outputId": "c4163d0c-836f-4ff2-ddc3-5024a4faf754"
      },
      "execution_count": null,
      "outputs": [
        {
          "output_type": "execute_result",
          "data": {
            "text/plain": [
              "  State    VR    MR     M     W     H     P     S\n",
              "0    AK   761   9.0  41.8  75.2  86.6   9.1  14.3\n",
              "1    AL   780  11.6  67.4  73.5  66.9  17.4  11.5\n",
              "2    AR   593  10.2  44.7  82.9  66.3  20.0  10.7\n",
              "3    AZ   715   8.6  84.7  88.6  78.7  15.4  12.1\n",
              "4    CA  1078  13.1  96.7  79.3  76.2  18.2  12.5"
            ],
            "text/html": [
              "\n",
              "  <div id=\"df-ddbf858d-d5fb-4696-a447-edd56691e070\" class=\"colab-df-container\">\n",
              "    <div>\n",
              "<style scoped>\n",
              "    .dataframe tbody tr th:only-of-type {\n",
              "        vertical-align: middle;\n",
              "    }\n",
              "\n",
              "    .dataframe tbody tr th {\n",
              "        vertical-align: top;\n",
              "    }\n",
              "\n",
              "    .dataframe thead th {\n",
              "        text-align: right;\n",
              "    }\n",
              "</style>\n",
              "<table border=\"1\" class=\"dataframe\">\n",
              "  <thead>\n",
              "    <tr style=\"text-align: right;\">\n",
              "      <th></th>\n",
              "      <th>State</th>\n",
              "      <th>VR</th>\n",
              "      <th>MR</th>\n",
              "      <th>M</th>\n",
              "      <th>W</th>\n",
              "      <th>H</th>\n",
              "      <th>P</th>\n",
              "      <th>S</th>\n",
              "    </tr>\n",
              "  </thead>\n",
              "  <tbody>\n",
              "    <tr>\n",
              "      <th>0</th>\n",
              "      <td>AK</td>\n",
              "      <td>761</td>\n",
              "      <td>9.0</td>\n",
              "      <td>41.8</td>\n",
              "      <td>75.2</td>\n",
              "      <td>86.6</td>\n",
              "      <td>9.1</td>\n",
              "      <td>14.3</td>\n",
              "    </tr>\n",
              "    <tr>\n",
              "      <th>1</th>\n",
              "      <td>AL</td>\n",
              "      <td>780</td>\n",
              "      <td>11.6</td>\n",
              "      <td>67.4</td>\n",
              "      <td>73.5</td>\n",
              "      <td>66.9</td>\n",
              "      <td>17.4</td>\n",
              "      <td>11.5</td>\n",
              "    </tr>\n",
              "    <tr>\n",
              "      <th>2</th>\n",
              "      <td>AR</td>\n",
              "      <td>593</td>\n",
              "      <td>10.2</td>\n",
              "      <td>44.7</td>\n",
              "      <td>82.9</td>\n",
              "      <td>66.3</td>\n",
              "      <td>20.0</td>\n",
              "      <td>10.7</td>\n",
              "    </tr>\n",
              "    <tr>\n",
              "      <th>3</th>\n",
              "      <td>AZ</td>\n",
              "      <td>715</td>\n",
              "      <td>8.6</td>\n",
              "      <td>84.7</td>\n",
              "      <td>88.6</td>\n",
              "      <td>78.7</td>\n",
              "      <td>15.4</td>\n",
              "      <td>12.1</td>\n",
              "    </tr>\n",
              "    <tr>\n",
              "      <th>4</th>\n",
              "      <td>CA</td>\n",
              "      <td>1078</td>\n",
              "      <td>13.1</td>\n",
              "      <td>96.7</td>\n",
              "      <td>79.3</td>\n",
              "      <td>76.2</td>\n",
              "      <td>18.2</td>\n",
              "      <td>12.5</td>\n",
              "    </tr>\n",
              "  </tbody>\n",
              "</table>\n",
              "</div>\n",
              "    <div class=\"colab-df-buttons\">\n",
              "\n",
              "  <div class=\"colab-df-container\">\n",
              "    <button class=\"colab-df-convert\" onclick=\"convertToInteractive('df-ddbf858d-d5fb-4696-a447-edd56691e070')\"\n",
              "            title=\"Convert this dataframe to an interactive table.\"\n",
              "            style=\"display:none;\">\n",
              "\n",
              "  <svg xmlns=\"http://www.w3.org/2000/svg\" height=\"24px\" viewBox=\"0 -960 960 960\">\n",
              "    <path d=\"M120-120v-720h720v720H120Zm60-500h600v-160H180v160Zm220 220h160v-160H400v160Zm0 220h160v-160H400v160ZM180-400h160v-160H180v160Zm440 0h160v-160H620v160ZM180-180h160v-160H180v160Zm440 0h160v-160H620v160Z\"/>\n",
              "  </svg>\n",
              "    </button>\n",
              "\n",
              "  <style>\n",
              "    .colab-df-container {\n",
              "      display:flex;\n",
              "      gap: 12px;\n",
              "    }\n",
              "\n",
              "    .colab-df-convert {\n",
              "      background-color: #E8F0FE;\n",
              "      border: none;\n",
              "      border-radius: 50%;\n",
              "      cursor: pointer;\n",
              "      display: none;\n",
              "      fill: #1967D2;\n",
              "      height: 32px;\n",
              "      padding: 0 0 0 0;\n",
              "      width: 32px;\n",
              "    }\n",
              "\n",
              "    .colab-df-convert:hover {\n",
              "      background-color: #E2EBFA;\n",
              "      box-shadow: 0px 1px 2px rgba(60, 64, 67, 0.3), 0px 1px 3px 1px rgba(60, 64, 67, 0.15);\n",
              "      fill: #174EA6;\n",
              "    }\n",
              "\n",
              "    .colab-df-buttons div {\n",
              "      margin-bottom: 4px;\n",
              "    }\n",
              "\n",
              "    [theme=dark] .colab-df-convert {\n",
              "      background-color: #3B4455;\n",
              "      fill: #D2E3FC;\n",
              "    }\n",
              "\n",
              "    [theme=dark] .colab-df-convert:hover {\n",
              "      background-color: #434B5C;\n",
              "      box-shadow: 0px 1px 3px 1px rgba(0, 0, 0, 0.15);\n",
              "      filter: drop-shadow(0px 1px 2px rgba(0, 0, 0, 0.3));\n",
              "      fill: #FFFFFF;\n",
              "    }\n",
              "  </style>\n",
              "\n",
              "    <script>\n",
              "      const buttonEl =\n",
              "        document.querySelector('#df-ddbf858d-d5fb-4696-a447-edd56691e070 button.colab-df-convert');\n",
              "      buttonEl.style.display =\n",
              "        google.colab.kernel.accessAllowed ? 'block' : 'none';\n",
              "\n",
              "      async function convertToInteractive(key) {\n",
              "        const element = document.querySelector('#df-ddbf858d-d5fb-4696-a447-edd56691e070');\n",
              "        const dataTable =\n",
              "          await google.colab.kernel.invokeFunction('convertToInteractive',\n",
              "                                                    [key], {});\n",
              "        if (!dataTable) return;\n",
              "\n",
              "        const docLinkHtml = 'Like what you see? Visit the ' +\n",
              "          '<a target=\"_blank\" href=https://colab.research.google.com/notebooks/data_table.ipynb>data table notebook</a>'\n",
              "          + ' to learn more about interactive tables.';\n",
              "        element.innerHTML = '';\n",
              "        dataTable['output_type'] = 'display_data';\n",
              "        await google.colab.output.renderOutput(dataTable, element);\n",
              "        const docLink = document.createElement('div');\n",
              "        docLink.innerHTML = docLinkHtml;\n",
              "        element.appendChild(docLink);\n",
              "      }\n",
              "    </script>\n",
              "  </div>\n",
              "\n",
              "\n",
              "<div id=\"df-daf9a901-ea35-4e84-8649-b3940f365f77\">\n",
              "  <button class=\"colab-df-quickchart\" onclick=\"quickchart('df-daf9a901-ea35-4e84-8649-b3940f365f77')\"\n",
              "            title=\"Suggest charts\"\n",
              "            style=\"display:none;\">\n",
              "\n",
              "<svg xmlns=\"http://www.w3.org/2000/svg\" height=\"24px\"viewBox=\"0 0 24 24\"\n",
              "     width=\"24px\">\n",
              "    <g>\n",
              "        <path d=\"M19 3H5c-1.1 0-2 .9-2 2v14c0 1.1.9 2 2 2h14c1.1 0 2-.9 2-2V5c0-1.1-.9-2-2-2zM9 17H7v-7h2v7zm4 0h-2V7h2v10zm4 0h-2v-4h2v4z\"/>\n",
              "    </g>\n",
              "</svg>\n",
              "  </button>\n",
              "\n",
              "<style>\n",
              "  .colab-df-quickchart {\n",
              "      --bg-color: #E8F0FE;\n",
              "      --fill-color: #1967D2;\n",
              "      --hover-bg-color: #E2EBFA;\n",
              "      --hover-fill-color: #174EA6;\n",
              "      --disabled-fill-color: #AAA;\n",
              "      --disabled-bg-color: #DDD;\n",
              "  }\n",
              "\n",
              "  [theme=dark] .colab-df-quickchart {\n",
              "      --bg-color: #3B4455;\n",
              "      --fill-color: #D2E3FC;\n",
              "      --hover-bg-color: #434B5C;\n",
              "      --hover-fill-color: #FFFFFF;\n",
              "      --disabled-bg-color: #3B4455;\n",
              "      --disabled-fill-color: #666;\n",
              "  }\n",
              "\n",
              "  .colab-df-quickchart {\n",
              "    background-color: var(--bg-color);\n",
              "    border: none;\n",
              "    border-radius: 50%;\n",
              "    cursor: pointer;\n",
              "    display: none;\n",
              "    fill: var(--fill-color);\n",
              "    height: 32px;\n",
              "    padding: 0;\n",
              "    width: 32px;\n",
              "  }\n",
              "\n",
              "  .colab-df-quickchart:hover {\n",
              "    background-color: var(--hover-bg-color);\n",
              "    box-shadow: 0 1px 2px rgba(60, 64, 67, 0.3), 0 1px 3px 1px rgba(60, 64, 67, 0.15);\n",
              "    fill: var(--button-hover-fill-color);\n",
              "  }\n",
              "\n",
              "  .colab-df-quickchart-complete:disabled,\n",
              "  .colab-df-quickchart-complete:disabled:hover {\n",
              "    background-color: var(--disabled-bg-color);\n",
              "    fill: var(--disabled-fill-color);\n",
              "    box-shadow: none;\n",
              "  }\n",
              "\n",
              "  .colab-df-spinner {\n",
              "    border: 2px solid var(--fill-color);\n",
              "    border-color: transparent;\n",
              "    border-bottom-color: var(--fill-color);\n",
              "    animation:\n",
              "      spin 1s steps(1) infinite;\n",
              "  }\n",
              "\n",
              "  @keyframes spin {\n",
              "    0% {\n",
              "      border-color: transparent;\n",
              "      border-bottom-color: var(--fill-color);\n",
              "      border-left-color: var(--fill-color);\n",
              "    }\n",
              "    20% {\n",
              "      border-color: transparent;\n",
              "      border-left-color: var(--fill-color);\n",
              "      border-top-color: var(--fill-color);\n",
              "    }\n",
              "    30% {\n",
              "      border-color: transparent;\n",
              "      border-left-color: var(--fill-color);\n",
              "      border-top-color: var(--fill-color);\n",
              "      border-right-color: var(--fill-color);\n",
              "    }\n",
              "    40% {\n",
              "      border-color: transparent;\n",
              "      border-right-color: var(--fill-color);\n",
              "      border-top-color: var(--fill-color);\n",
              "    }\n",
              "    60% {\n",
              "      border-color: transparent;\n",
              "      border-right-color: var(--fill-color);\n",
              "    }\n",
              "    80% {\n",
              "      border-color: transparent;\n",
              "      border-right-color: var(--fill-color);\n",
              "      border-bottom-color: var(--fill-color);\n",
              "    }\n",
              "    90% {\n",
              "      border-color: transparent;\n",
              "      border-bottom-color: var(--fill-color);\n",
              "    }\n",
              "  }\n",
              "</style>\n",
              "\n",
              "  <script>\n",
              "    async function quickchart(key) {\n",
              "      const quickchartButtonEl =\n",
              "        document.querySelector('#' + key + ' button');\n",
              "      quickchartButtonEl.disabled = true;  // To prevent multiple clicks.\n",
              "      quickchartButtonEl.classList.add('colab-df-spinner');\n",
              "      try {\n",
              "        const charts = await google.colab.kernel.invokeFunction(\n",
              "            'suggestCharts', [key], {});\n",
              "      } catch (error) {\n",
              "        console.error('Error during call to suggestCharts:', error);\n",
              "      }\n",
              "      quickchartButtonEl.classList.remove('colab-df-spinner');\n",
              "      quickchartButtonEl.classList.add('colab-df-quickchart-complete');\n",
              "    }\n",
              "    (() => {\n",
              "      let quickchartButtonEl =\n",
              "        document.querySelector('#df-daf9a901-ea35-4e84-8649-b3940f365f77 button');\n",
              "      quickchartButtonEl.style.display =\n",
              "        google.colab.kernel.accessAllowed ? 'block' : 'none';\n",
              "    })();\n",
              "  </script>\n",
              "</div>\n",
              "\n",
              "    </div>\n",
              "  </div>\n"
            ],
            "application/vnd.google.colaboratory.intrinsic+json": {
              "type": "dataframe",
              "variable_name": "df",
              "summary": "{\n  \"name\": \"df\",\n  \"rows\": 51,\n  \"fields\": [\n    {\n      \"column\": \"State\",\n      \"properties\": {\n        \"dtype\": \"string\",\n        \"num_unique_values\": 51,\n        \"samples\": [\n          \"UT\",\n          \"SD\",\n          \"WA\"\n        ],\n        \"semantic_type\": \"\",\n        \"description\": \"\"\n      }\n    },\n    {\n      \"column\": \"VR\",\n      \"properties\": {\n        \"dtype\": \"number\",\n        \"std\": 441,\n        \"min\": 82,\n        \"max\": 2922,\n        \"num_unique_values\": 50,\n        \"samples\": [\n          960,\n          1023,\n          627\n        ],\n        \"semantic_type\": \"\",\n        \"description\": \"\"\n      }\n    },\n    {\n      \"column\": \"MR\",\n      \"properties\": {\n        \"dtype\": \"number\",\n        \"std\": 10.717575816039233,\n        \"min\": 1.6,\n        \"max\": 78.5,\n        \"num_unique_values\": 44,\n        \"samples\": [\n          3.1,\n          3.0,\n          1.7\n        ],\n        \"semantic_type\": \"\",\n        \"description\": \"\"\n      }\n    },\n    {\n      \"column\": \"M\",\n      \"properties\": {\n        \"dtype\": \"number\",\n        \"std\": 21.957133281937885,\n        \"min\": 24.0,\n        \"max\": 100.0,\n        \"num_unique_values\": 45,\n        \"samples\": [\n          83.9,\n          66.3,\n          41.6\n        ],\n        \"semantic_type\": \"\",\n        \"description\": \"\"\n      }\n    },\n    {\n      \"column\": \"W\",\n      \"properties\": {\n        \"dtype\": \"number\",\n        \"std\": 13.25278601860386,\n        \"min\": 31.8,\n        \"max\": 98.5,\n        \"num_unique_values\": 49,\n        \"samples\": [\n          81.0,\n          92.1,\n          95.9\n        ],\n        \"semantic_type\": \"\",\n        \"description\": \"\"\n      }\n    },\n    {\n      \"column\": \"H\",\n      \"properties\": {\n        \"dtype\": \"number\",\n        \"std\": 5.592086846081491,\n        \"min\": 64.3,\n        \"max\": 86.6,\n        \"num_unique_values\": 46,\n        \"samples\": [\n          75.2,\n          76.7,\n          81.8\n        ],\n        \"semantic_type\": \"\",\n        \"description\": \"\"\n      }\n    },\n    {\n      \"column\": \"P\",\n      \"properties\": {\n        \"dtype\": \"number\",\n        \"std\": 4.584241549944253,\n        \"min\": 8.0,\n        \"max\": 26.4,\n        \"num_unique_values\": 40,\n        \"samples\": [\n          11.6,\n          26.4,\n          20.4\n        ],\n        \"semantic_type\": \"\",\n        \"description\": \"\"\n      }\n    },\n    {\n      \"column\": \"S\",\n      \"properties\": {\n        \"dtype\": \"number\",\n        \"std\": 2.12149410908962,\n        \"min\": 8.4,\n        \"max\": 22.1,\n        \"num_unique_values\": 36,\n        \"samples\": [\n          22.1,\n          9.9,\n          11.3\n        ],\n        \"semantic_type\": \"\",\n        \"description\": \"\"\n      }\n    }\n  ]\n}"
            }
          },
          "metadata": {},
          "execution_count": 18
        }
      ]
    },
    {
      "cell_type": "code",
      "source": [
        "df = df.drop(columns=['VR', 'S'])"
      ],
      "metadata": {
        "id": "bz8qzcPqYlar"
      },
      "execution_count": null,
      "outputs": []
    },
    {
      "cell_type": "code",
      "source": [
        "df.head()"
      ],
      "metadata": {
        "colab": {
          "base_uri": "https://localhost:8080/",
          "height": 206
        },
        "id": "1krdHt4fYsQI",
        "outputId": "07c1f425-45c4-4746-8223-6990be1e342e"
      },
      "execution_count": null,
      "outputs": [
        {
          "output_type": "execute_result",
          "data": {
            "text/plain": [
              "  State    MR     M     W     H     P\n",
              "0    AK   9.0  41.8  75.2  86.6   9.1\n",
              "1    AL  11.6  67.4  73.5  66.9  17.4\n",
              "2    AR  10.2  44.7  82.9  66.3  20.0\n",
              "3    AZ   8.6  84.7  88.6  78.7  15.4\n",
              "4    CA  13.1  96.7  79.3  76.2  18.2"
            ],
            "text/html": [
              "\n",
              "  <div id=\"df-16663d06-0a2a-409a-b71d-f4addaa9a7b3\" class=\"colab-df-container\">\n",
              "    <div>\n",
              "<style scoped>\n",
              "    .dataframe tbody tr th:only-of-type {\n",
              "        vertical-align: middle;\n",
              "    }\n",
              "\n",
              "    .dataframe tbody tr th {\n",
              "        vertical-align: top;\n",
              "    }\n",
              "\n",
              "    .dataframe thead th {\n",
              "        text-align: right;\n",
              "    }\n",
              "</style>\n",
              "<table border=\"1\" class=\"dataframe\">\n",
              "  <thead>\n",
              "    <tr style=\"text-align: right;\">\n",
              "      <th></th>\n",
              "      <th>State</th>\n",
              "      <th>MR</th>\n",
              "      <th>M</th>\n",
              "      <th>W</th>\n",
              "      <th>H</th>\n",
              "      <th>P</th>\n",
              "    </tr>\n",
              "  </thead>\n",
              "  <tbody>\n",
              "    <tr>\n",
              "      <th>0</th>\n",
              "      <td>AK</td>\n",
              "      <td>9.0</td>\n",
              "      <td>41.8</td>\n",
              "      <td>75.2</td>\n",
              "      <td>86.6</td>\n",
              "      <td>9.1</td>\n",
              "    </tr>\n",
              "    <tr>\n",
              "      <th>1</th>\n",
              "      <td>AL</td>\n",
              "      <td>11.6</td>\n",
              "      <td>67.4</td>\n",
              "      <td>73.5</td>\n",
              "      <td>66.9</td>\n",
              "      <td>17.4</td>\n",
              "    </tr>\n",
              "    <tr>\n",
              "      <th>2</th>\n",
              "      <td>AR</td>\n",
              "      <td>10.2</td>\n",
              "      <td>44.7</td>\n",
              "      <td>82.9</td>\n",
              "      <td>66.3</td>\n",
              "      <td>20.0</td>\n",
              "    </tr>\n",
              "    <tr>\n",
              "      <th>3</th>\n",
              "      <td>AZ</td>\n",
              "      <td>8.6</td>\n",
              "      <td>84.7</td>\n",
              "      <td>88.6</td>\n",
              "      <td>78.7</td>\n",
              "      <td>15.4</td>\n",
              "    </tr>\n",
              "    <tr>\n",
              "      <th>4</th>\n",
              "      <td>CA</td>\n",
              "      <td>13.1</td>\n",
              "      <td>96.7</td>\n",
              "      <td>79.3</td>\n",
              "      <td>76.2</td>\n",
              "      <td>18.2</td>\n",
              "    </tr>\n",
              "  </tbody>\n",
              "</table>\n",
              "</div>\n",
              "    <div class=\"colab-df-buttons\">\n",
              "\n",
              "  <div class=\"colab-df-container\">\n",
              "    <button class=\"colab-df-convert\" onclick=\"convertToInteractive('df-16663d06-0a2a-409a-b71d-f4addaa9a7b3')\"\n",
              "            title=\"Convert this dataframe to an interactive table.\"\n",
              "            style=\"display:none;\">\n",
              "\n",
              "  <svg xmlns=\"http://www.w3.org/2000/svg\" height=\"24px\" viewBox=\"0 -960 960 960\">\n",
              "    <path d=\"M120-120v-720h720v720H120Zm60-500h600v-160H180v160Zm220 220h160v-160H400v160Zm0 220h160v-160H400v160ZM180-400h160v-160H180v160Zm440 0h160v-160H620v160ZM180-180h160v-160H180v160Zm440 0h160v-160H620v160Z\"/>\n",
              "  </svg>\n",
              "    </button>\n",
              "\n",
              "  <style>\n",
              "    .colab-df-container {\n",
              "      display:flex;\n",
              "      gap: 12px;\n",
              "    }\n",
              "\n",
              "    .colab-df-convert {\n",
              "      background-color: #E8F0FE;\n",
              "      border: none;\n",
              "      border-radius: 50%;\n",
              "      cursor: pointer;\n",
              "      display: none;\n",
              "      fill: #1967D2;\n",
              "      height: 32px;\n",
              "      padding: 0 0 0 0;\n",
              "      width: 32px;\n",
              "    }\n",
              "\n",
              "    .colab-df-convert:hover {\n",
              "      background-color: #E2EBFA;\n",
              "      box-shadow: 0px 1px 2px rgba(60, 64, 67, 0.3), 0px 1px 3px 1px rgba(60, 64, 67, 0.15);\n",
              "      fill: #174EA6;\n",
              "    }\n",
              "\n",
              "    .colab-df-buttons div {\n",
              "      margin-bottom: 4px;\n",
              "    }\n",
              "\n",
              "    [theme=dark] .colab-df-convert {\n",
              "      background-color: #3B4455;\n",
              "      fill: #D2E3FC;\n",
              "    }\n",
              "\n",
              "    [theme=dark] .colab-df-convert:hover {\n",
              "      background-color: #434B5C;\n",
              "      box-shadow: 0px 1px 3px 1px rgba(0, 0, 0, 0.15);\n",
              "      filter: drop-shadow(0px 1px 2px rgba(0, 0, 0, 0.3));\n",
              "      fill: #FFFFFF;\n",
              "    }\n",
              "  </style>\n",
              "\n",
              "    <script>\n",
              "      const buttonEl =\n",
              "        document.querySelector('#df-16663d06-0a2a-409a-b71d-f4addaa9a7b3 button.colab-df-convert');\n",
              "      buttonEl.style.display =\n",
              "        google.colab.kernel.accessAllowed ? 'block' : 'none';\n",
              "\n",
              "      async function convertToInteractive(key) {\n",
              "        const element = document.querySelector('#df-16663d06-0a2a-409a-b71d-f4addaa9a7b3');\n",
              "        const dataTable =\n",
              "          await google.colab.kernel.invokeFunction('convertToInteractive',\n",
              "                                                    [key], {});\n",
              "        if (!dataTable) return;\n",
              "\n",
              "        const docLinkHtml = 'Like what you see? Visit the ' +\n",
              "          '<a target=\"_blank\" href=https://colab.research.google.com/notebooks/data_table.ipynb>data table notebook</a>'\n",
              "          + ' to learn more about interactive tables.';\n",
              "        element.innerHTML = '';\n",
              "        dataTable['output_type'] = 'display_data';\n",
              "        await google.colab.output.renderOutput(dataTable, element);\n",
              "        const docLink = document.createElement('div');\n",
              "        docLink.innerHTML = docLinkHtml;\n",
              "        element.appendChild(docLink);\n",
              "      }\n",
              "    </script>\n",
              "  </div>\n",
              "\n",
              "\n",
              "<div id=\"df-bf9b1e90-e9a6-4d06-8a48-6570f897ed8b\">\n",
              "  <button class=\"colab-df-quickchart\" onclick=\"quickchart('df-bf9b1e90-e9a6-4d06-8a48-6570f897ed8b')\"\n",
              "            title=\"Suggest charts\"\n",
              "            style=\"display:none;\">\n",
              "\n",
              "<svg xmlns=\"http://www.w3.org/2000/svg\" height=\"24px\"viewBox=\"0 0 24 24\"\n",
              "     width=\"24px\">\n",
              "    <g>\n",
              "        <path d=\"M19 3H5c-1.1 0-2 .9-2 2v14c0 1.1.9 2 2 2h14c1.1 0 2-.9 2-2V5c0-1.1-.9-2-2-2zM9 17H7v-7h2v7zm4 0h-2V7h2v10zm4 0h-2v-4h2v4z\"/>\n",
              "    </g>\n",
              "</svg>\n",
              "  </button>\n",
              "\n",
              "<style>\n",
              "  .colab-df-quickchart {\n",
              "      --bg-color: #E8F0FE;\n",
              "      --fill-color: #1967D2;\n",
              "      --hover-bg-color: #E2EBFA;\n",
              "      --hover-fill-color: #174EA6;\n",
              "      --disabled-fill-color: #AAA;\n",
              "      --disabled-bg-color: #DDD;\n",
              "  }\n",
              "\n",
              "  [theme=dark] .colab-df-quickchart {\n",
              "      --bg-color: #3B4455;\n",
              "      --fill-color: #D2E3FC;\n",
              "      --hover-bg-color: #434B5C;\n",
              "      --hover-fill-color: #FFFFFF;\n",
              "      --disabled-bg-color: #3B4455;\n",
              "      --disabled-fill-color: #666;\n",
              "  }\n",
              "\n",
              "  .colab-df-quickchart {\n",
              "    background-color: var(--bg-color);\n",
              "    border: none;\n",
              "    border-radius: 50%;\n",
              "    cursor: pointer;\n",
              "    display: none;\n",
              "    fill: var(--fill-color);\n",
              "    height: 32px;\n",
              "    padding: 0;\n",
              "    width: 32px;\n",
              "  }\n",
              "\n",
              "  .colab-df-quickchart:hover {\n",
              "    background-color: var(--hover-bg-color);\n",
              "    box-shadow: 0 1px 2px rgba(60, 64, 67, 0.3), 0 1px 3px 1px rgba(60, 64, 67, 0.15);\n",
              "    fill: var(--button-hover-fill-color);\n",
              "  }\n",
              "\n",
              "  .colab-df-quickchart-complete:disabled,\n",
              "  .colab-df-quickchart-complete:disabled:hover {\n",
              "    background-color: var(--disabled-bg-color);\n",
              "    fill: var(--disabled-fill-color);\n",
              "    box-shadow: none;\n",
              "  }\n",
              "\n",
              "  .colab-df-spinner {\n",
              "    border: 2px solid var(--fill-color);\n",
              "    border-color: transparent;\n",
              "    border-bottom-color: var(--fill-color);\n",
              "    animation:\n",
              "      spin 1s steps(1) infinite;\n",
              "  }\n",
              "\n",
              "  @keyframes spin {\n",
              "    0% {\n",
              "      border-color: transparent;\n",
              "      border-bottom-color: var(--fill-color);\n",
              "      border-left-color: var(--fill-color);\n",
              "    }\n",
              "    20% {\n",
              "      border-color: transparent;\n",
              "      border-left-color: var(--fill-color);\n",
              "      border-top-color: var(--fill-color);\n",
              "    }\n",
              "    30% {\n",
              "      border-color: transparent;\n",
              "      border-left-color: var(--fill-color);\n",
              "      border-top-color: var(--fill-color);\n",
              "      border-right-color: var(--fill-color);\n",
              "    }\n",
              "    40% {\n",
              "      border-color: transparent;\n",
              "      border-right-color: var(--fill-color);\n",
              "      border-top-color: var(--fill-color);\n",
              "    }\n",
              "    60% {\n",
              "      border-color: transparent;\n",
              "      border-right-color: var(--fill-color);\n",
              "    }\n",
              "    80% {\n",
              "      border-color: transparent;\n",
              "      border-right-color: var(--fill-color);\n",
              "      border-bottom-color: var(--fill-color);\n",
              "    }\n",
              "    90% {\n",
              "      border-color: transparent;\n",
              "      border-bottom-color: var(--fill-color);\n",
              "    }\n",
              "  }\n",
              "</style>\n",
              "\n",
              "  <script>\n",
              "    async function quickchart(key) {\n",
              "      const quickchartButtonEl =\n",
              "        document.querySelector('#' + key + ' button');\n",
              "      quickchartButtonEl.disabled = true;  // To prevent multiple clicks.\n",
              "      quickchartButtonEl.classList.add('colab-df-spinner');\n",
              "      try {\n",
              "        const charts = await google.colab.kernel.invokeFunction(\n",
              "            'suggestCharts', [key], {});\n",
              "      } catch (error) {\n",
              "        console.error('Error during call to suggestCharts:', error);\n",
              "      }\n",
              "      quickchartButtonEl.classList.remove('colab-df-spinner');\n",
              "      quickchartButtonEl.classList.add('colab-df-quickchart-complete');\n",
              "    }\n",
              "    (() => {\n",
              "      let quickchartButtonEl =\n",
              "        document.querySelector('#df-bf9b1e90-e9a6-4d06-8a48-6570f897ed8b button');\n",
              "      quickchartButtonEl.style.display =\n",
              "        google.colab.kernel.accessAllowed ? 'block' : 'none';\n",
              "    })();\n",
              "  </script>\n",
              "</div>\n",
              "\n",
              "    </div>\n",
              "  </div>\n"
            ],
            "application/vnd.google.colaboratory.intrinsic+json": {
              "type": "dataframe",
              "variable_name": "df",
              "summary": "{\n  \"name\": \"df\",\n  \"rows\": 51,\n  \"fields\": [\n    {\n      \"column\": \"State\",\n      \"properties\": {\n        \"dtype\": \"string\",\n        \"num_unique_values\": 51,\n        \"samples\": [\n          \"UT\",\n          \"SD\",\n          \"WA\"\n        ],\n        \"semantic_type\": \"\",\n        \"description\": \"\"\n      }\n    },\n    {\n      \"column\": \"MR\",\n      \"properties\": {\n        \"dtype\": \"number\",\n        \"std\": 10.717575816039233,\n        \"min\": 1.6,\n        \"max\": 78.5,\n        \"num_unique_values\": 44,\n        \"samples\": [\n          3.1,\n          3.0,\n          1.7\n        ],\n        \"semantic_type\": \"\",\n        \"description\": \"\"\n      }\n    },\n    {\n      \"column\": \"M\",\n      \"properties\": {\n        \"dtype\": \"number\",\n        \"std\": 21.957133281937885,\n        \"min\": 24.0,\n        \"max\": 100.0,\n        \"num_unique_values\": 45,\n        \"samples\": [\n          83.9,\n          66.3,\n          41.6\n        ],\n        \"semantic_type\": \"\",\n        \"description\": \"\"\n      }\n    },\n    {\n      \"column\": \"W\",\n      \"properties\": {\n        \"dtype\": \"number\",\n        \"std\": 13.25278601860386,\n        \"min\": 31.8,\n        \"max\": 98.5,\n        \"num_unique_values\": 49,\n        \"samples\": [\n          81.0,\n          92.1,\n          95.9\n        ],\n        \"semantic_type\": \"\",\n        \"description\": \"\"\n      }\n    },\n    {\n      \"column\": \"H\",\n      \"properties\": {\n        \"dtype\": \"number\",\n        \"std\": 5.592086846081491,\n        \"min\": 64.3,\n        \"max\": 86.6,\n        \"num_unique_values\": 46,\n        \"samples\": [\n          75.2,\n          76.7,\n          81.8\n        ],\n        \"semantic_type\": \"\",\n        \"description\": \"\"\n      }\n    },\n    {\n      \"column\": \"P\",\n      \"properties\": {\n        \"dtype\": \"number\",\n        \"std\": 4.584241549944253,\n        \"min\": 8.0,\n        \"max\": 26.4,\n        \"num_unique_values\": 40,\n        \"samples\": [\n          11.6,\n          26.4,\n          20.4\n        ],\n        \"semantic_type\": \"\",\n        \"description\": \"\"\n      }\n    }\n  ]\n}"
            }
          },
          "metadata": {},
          "execution_count": 6
        }
      ]
    },
    {
      "cell_type": "code",
      "source": [
        "print(df[['M', 'W', 'H', 'P', 'MR']].corr())\n"
      ],
      "metadata": {
        "colab": {
          "base_uri": "https://localhost:8080/"
        },
        "id": "itl8OeJ6aVGZ",
        "outputId": "fd1dbd7d-5051-48a4-d9fd-0c772be3abfb"
      },
      "execution_count": null,
      "outputs": [
        {
          "output_type": "stream",
          "name": "stdout",
          "text": [
            "           M         W         H         P        MR\n",
            "M   1.000000 -0.337435 -0.003977 -0.060538  0.316114\n",
            "W  -0.337435  1.000000  0.338121 -0.389135 -0.706259\n",
            "H  -0.003977  0.338121  1.000000 -0.743938 -0.286071\n",
            "P  -0.060538 -0.389135 -0.743938  1.000000  0.565871\n",
            "MR  0.316114 -0.706259 -0.286071  0.565871  1.000000\n"
          ]
        }
      ]
    },
    {
      "cell_type": "markdown",
      "source": [
        "# Perceptrón multicapa"
      ],
      "metadata": {
        "id": "Hw34Klgfa8LX"
      }
    },
    {
      "cell_type": "code",
      "source": [
        "X = df[['M', 'W', 'H', 'P']]\n",
        "y = df['MR']\n",
        "\n",
        "\n",
        "mlp = MLPRegressor(hidden_layer_sizes=(10, 10), max_iter=10000, random_state=42)\n",
        "\n",
        "\n",
        "kf = KFold(n_splits=5, shuffle=True, random_state=42)\n",
        "y_pred = cross_val_predict(mlp, X, y, cv=kf)\n",
        "\n",
        "\n",
        "mse = mean_squared_error(y, y_pred)\n",
        "r2 = r2_score(y, y_pred)\n",
        "\n",
        "\n",
        "print(f'Mean Squared Error: {mse:.2f}')\n",
        "print(f'R^2 Score: {r2:.2f}')\n"
      ],
      "metadata": {
        "colab": {
          "base_uri": "https://localhost:8080/"
        },
        "id": "689xeLrIecic",
        "outputId": "11062d2e-ecb7-4b15-ad1a-f7409244dec9"
      },
      "execution_count": null,
      "outputs": [
        {
          "output_type": "stream",
          "name": "stdout",
          "text": [
            "Mean Squared Error: 87.43\n",
            "R^2 Score: 0.22\n"
          ]
        }
      ]
    },
    {
      "cell_type": "markdown",
      "source": [
        "#Regresión lineal"
      ],
      "metadata": {
        "id": "mdkJ4O1CbAT_"
      }
    },
    {
      "cell_type": "code",
      "source": [
        "X = df[['M', 'W', 'H', 'P']]\n",
        "y = df['MR']\n",
        "\n",
        "\n",
        "lr = LinearRegression()\n",
        "\n",
        "\n",
        "kf = KFold(n_splits=5, shuffle=True, random_state=42)\n",
        "\n",
        "\n",
        "y_pred = cross_val_predict(lr, X, y, cv=kf)\n",
        "\n",
        "\n",
        "mse = mean_squared_error(y, y_pred)\n",
        "r2 = r2_score(y, y_pred)\n",
        "\n",
        "\n",
        "print(f'Mean Squared Error (Regresión Lineal): {mse:.2f}')\n",
        "print(f'R^2 Score (Regresión Lineal): {r2:.2f}')"
      ],
      "metadata": {
        "colab": {
          "base_uri": "https://localhost:8080/"
        },
        "id": "LcH9bSPkgPeS",
        "outputId": "efdf9242-2532-40cc-808c-ed901f2f3f11"
      },
      "execution_count": null,
      "outputs": [
        {
          "output_type": "stream",
          "name": "stdout",
          "text": [
            "Mean Squared Error (Regresión Lineal): 74.77\n",
            "R^2 Score (Regresión Lineal): 0.34\n"
          ]
        }
      ]
    },
    {
      "cell_type": "markdown",
      "source": [
        "#Preguntas"
      ],
      "metadata": {
        "id": "y-qNYkjea5Rw"
      }
    },
    {
      "cell_type": "markdown",
      "source": [
        "## Consideras que el modelo perceptrón multicapa es efectivo para modelar los datos del problema? ¿Por qué?\n"
      ],
      "metadata": {
        "id": "0QqnBwTUa6cC"
      }
    },
    {
      "cell_type": "markdown",
      "source": [
        "No, el modelo perceptrón multicapa no es efectivo para el conjunto de datos dado, nuestro R2 es muy baja, lo que sugiere que nuestro modelo no esta capturando adecuadamente las relaciones que existen entre nuestras variables. Probablemente se deba a que las relaciones entre las variables no son lo suficientemente complejas para que un modelo no lineal como el perceptrón multicapa tenga ventaja."
      ],
      "metadata": {
        "id": "29zPeiFZbK4I"
      }
    },
    {
      "cell_type": "markdown",
      "source": [
        "##¿Qué modelo es mejor para los datos de criminalidad, el lineal o el perceptrón multicapa? ¿Por qué?"
      ],
      "metadata": {
        "id": "icb2YwY1bKNO"
      }
    },
    {
      "cell_type": "markdown",
      "source": [
        "Comparando estos dos modelos, podemos darnos cuenta que el lineal es un poco mejor por la R2 y el MSE que arroja esto sugiere que los datos siguen una relacion \"linea\", sin embargo ninguno de los modelos tiene un buen ajuste. Esto puede deberse a la correlación de las variables, ya que presentan correlación débil."
      ],
      "metadata": {
        "id": "ILo67k9nb_f3"
      }
    },
    {
      "cell_type": "markdown",
      "source": [
        "# Ejercicio 2 (35 puntos)\n",
        "\n",
        "En este ejercicio trabajarás con datos que vienen de un experimento en el que se midió actividad muscular con la técnica de la Electromiografía en el brazo derecho de varios participantes cuando éstos realizaban un movimiento con la mano entre siete posibles: Flexionar hacia arriba, Flexionar hacia abajo, Cerrar la mano, Estirar la mano, Abrir la mano, Coger un objeto, No moverse. Al igual que en el ejercicio anterior, los datos se cargan con la función `loadtxt` de numpy. La primera columna corresponde a la clase (1, 2, 3, 4, 5, 6, y 7), la segunda columna se ignora, y el resto de las columnas indican las variables que se calcularon de la respuesta muscular. El archivo de datos con el que trabajarás depende de tu matrícula.\n",
        "\n",
        "Para este conjunto de datos:\n",
        "\n",
        "1. Evalúa un modelo perceptrón multicapa con validación cruzada utilizando al menos 5 capas de 20 neuronas.\n",
        "2. Evalúa un modelo perceptrón multicapa con validación cruzada, pero encontrando el número óptimo de capas y neuronas de la red.\n",
        "3. Prepara el modelo perceptrón multicapa:\n",
        "   - Obtén los hiperparámetros óptimos de capas y neuronas de la red.\n",
        "   - Con los hiperparámetros óptimos, ajusta el modelo con todos los datos.\n",
        "\n",
        "Contesta lo siguiente:\n",
        "\n",
        "- ¿Observas alguna mejora importante al optimizar el tamaño de la red? ¿Es el resultado que esperabas? Argumenta tu respuesta.\n",
        "- ¿Qué inconvenientes hay al encontrar el tamaño óptimo de la red? ¿Por qué?\n",
        "\n"
      ],
      "metadata": {
        "id": "RjLvruWbdooy"
      }
    },
    {
      "cell_type": "code",
      "source": [
        "from sklearn.neural_network import MLPClassifier\n",
        "from sklearn.model_selection import cross_val_predict\n",
        "from sklearn.metrics import classification_report\n",
        "from sklearn.model_selection import cross_val_score\n",
        "from sklearn.model_selection import GridSearchCV\n",
        "\n",
        "\n",
        "import numpy as np\n"
      ],
      "metadata": {
        "id": "qGsJCLvJx0ia"
      },
      "execution_count": 5,
      "outputs": []
    },
    {
      "cell_type": "code",
      "source": [
        "df = np.loadtxt('sample_data/M_3.txt')"
      ],
      "metadata": {
        "id": "NrhENWzXDgDG"
      },
      "execution_count": 73,
      "outputs": []
    },
    {
      "cell_type": "code",
      "source": [
        "df.shape[1]"
      ],
      "metadata": {
        "colab": {
          "base_uri": "https://localhost:8080/"
        },
        "id": "d5yljIqsDeW_",
        "outputId": "9d1ba605-d2f9-4ac5-ce8c-7e7a9ef686ce"
      },
      "execution_count": 72,
      "outputs": [
        {
          "output_type": "execute_result",
          "data": {
            "text/plain": [
              "631"
            ]
          },
          "metadata": {},
          "execution_count": 72
        }
      ]
    },
    {
      "cell_type": "code",
      "source": [
        "usecols = [0] + list(range(2, 632))\n",
        "\n",
        "\n",
        "df = np.loadtxt('sample_data/M_3.txt', delimiter='\\t',usecols=usecols)\n",
        "\n",
        "\n",
        "y = df[:, 0]\n",
        "X = df[:, 1:]\n"
      ],
      "metadata": {
        "id": "m3RJAyWpda9u"
      },
      "execution_count": 71,
      "outputs": []
    },
    {
      "cell_type": "code",
      "source": [
        "print(X)"
      ],
      "metadata": {
        "colab": {
          "base_uri": "https://localhost:8080/"
        },
        "id": "YepSW4sbkmv7",
        "outputId": "5d7fb1e7-df6a-4699-efd9-17fbc3a2d8b6"
      },
      "execution_count": 74,
      "outputs": [
        {
          "output_type": "stream",
          "name": "stdout",
          "text": [
            "[[-1.55867656  1.10831223  0.36259013 ...  0.29210038 -0.43529413\n",
            "   1.38408176]\n",
            " [-1.97820748  0.05529825 -0.27335023 ...  0.13460537 -0.66363906\n",
            "   1.23454479]\n",
            " [-2.00252079  0.26738123  0.26316986 ...  0.20743235 -0.56334261\n",
            "   1.04644538]\n",
            " ...\n",
            " [-4.94456697 -6.99475503 -5.09065357 ... -1.32610563 -0.60156025\n",
            "  -5.29772693]\n",
            " [-3.65328964 -7.63221775 -4.1068933  ... -1.68888044 -0.2974711\n",
            "  -5.37944   ]\n",
            " [-4.6666576  -7.71443058 -4.91212317 ... -1.74725351 -0.37124767\n",
            "  -5.16867606]]\n"
          ]
        }
      ]
    },
    {
      "cell_type": "markdown",
      "source": [
        "# Modelo con una Red de al menos 5 capas de 20 neouronas"
      ],
      "metadata": {
        "id": "uiJL8XhQlH76"
      }
    },
    {
      "cell_type": "code",
      "source": [
        "model = MLPClassifier(hidden_layer_sizes=(20, 20, 20, 20, 20), max_iter=10000, random_state=42)\n",
        "\n",
        "scores = cross_val_score(model, X, y, cv=5, scoring='accuracy')\n",
        "\n",
        "print(f'Accuracy (5 capas de 20 neuronas): {scores.mean():.2f}')\n"
      ],
      "metadata": {
        "colab": {
          "base_uri": "https://localhost:8080/"
        },
        "id": "xKij5t1slChK",
        "outputId": "10c4056e-3227-45eb-fc91-86bf296b3b40"
      },
      "execution_count": 76,
      "outputs": [
        {
          "output_type": "stream",
          "name": "stdout",
          "text": [
            "Accuracy (5 capas de 20 neuronas): 0.94\n"
          ]
        }
      ]
    },
    {
      "cell_type": "markdown",
      "source": [
        "# Evalúa un modelo perceptrón multicapa con validación cruzada, pero encontrando el número óptimo de capas y neuronas de la red,Obtén los hiperparámetros óptimos de capas y neuronas de la red, y Con los hiperparámetros óptimos, ajusta el modelo con todos los datos."
      ],
      "metadata": {
        "id": "BNs8NhJrrA-5"
      }
    },
    {
      "cell_type": "code",
      "source": [
        "print(\"Training model with two layers of 100\")\n",
        "model = MLPClassifier(hidden_layer_sizes=(100,100), max_iter=10000, random_state=42)\n",
        "model.fit(X, y)\n",
        "\n",
        "y_pred = cross_val_predict(model, X, y, cv=5)\n",
        "print(classification_report(y, y_pred))"
      ],
      "metadata": {
        "colab": {
          "base_uri": "https://localhost:8080/"
        },
        "id": "BfjdiXjWuiHf",
        "outputId": "4267cb08-0b2c-419d-8258-4212c4fcb9d9"
      },
      "execution_count": null,
      "outputs": [
        {
          "output_type": "stream",
          "name": "stdout",
          "text": [
            "Training model with two layers of 100\n",
            "              precision    recall  f1-score   support\n",
            "\n",
            "         1.0       0.99      0.97      0.98        90\n",
            "         2.0       0.93      1.00      0.96        90\n",
            "         3.0       0.93      0.90      0.92        90\n",
            "         4.0       1.00      0.99      0.99        90\n",
            "         5.0       0.99      0.99      0.99        90\n",
            "         6.0       0.90      0.92      0.91        90\n",
            "         7.0       0.93      0.90      0.92        90\n",
            "\n",
            "    accuracy                           0.95       630\n",
            "   macro avg       0.95      0.95      0.95       630\n",
            "weighted avg       0.95      0.95      0.95       630\n",
            "\n"
          ]
        }
      ]
    },
    {
      "cell_type": "code",
      "source": [
        "num_layers = np.arange(1, 20, 5)\n",
        "num_neurons = np.arange(10, 110, 20)\n",
        "\n",
        "\n",
        "layers = []\n",
        "for l in num_layers:\n",
        "    for n in num_neurons:\n",
        "        layers.append(l*[n])\n",
        "\n",
        "\n",
        "grid_search = GridSearchCV(MLPClassifier(max_iter=10000, random_state=42),{'hidden_layer_sizes': layers}, cv=5)\n",
        "grid_search.fit(X, y)\n",
        "print(\"Numero optimo\")\n",
        "print(grid_search.best_estimator_)"
      ],
      "metadata": {
        "colab": {
          "base_uri": "https://localhost:8080/"
        },
        "id": "-ybxDGSNuooq",
        "outputId": "705a50f8-3b88-422e-f173-5b6f074457dd"
      },
      "execution_count": null,
      "outputs": [
        {
          "output_type": "stream",
          "name": "stdout",
          "text": [
            "Numero optimo\n",
            "MLPClassifier(hidden_layer_sizes=[90, 90, 90, 90, 90, 90], max_iter=10000,\n",
            "              random_state=42)\n"
          ]
        }
      ]
    },
    {
      "cell_type": "code",
      "source": [
        "grid_search = GridSearchCV(MLPClassifier(max_iter=10000), {'hidden_layer_sizes': layers}, cv = 5)\n",
        "y_pred = cross_val_predict(grid_search, X, y, cv = 5)\n",
        "print(classification_report(y, y_pred))"
      ],
      "metadata": {
        "colab": {
          "base_uri": "https://localhost:8080/"
        },
        "id": "H1QFBq9Jy1wl",
        "outputId": "50a65b3e-b511-49d6-8fa7-9029dd12be7f"
      },
      "execution_count": null,
      "outputs": [
        {
          "output_type": "stream",
          "name": "stdout",
          "text": [
            "              precision    recall  f1-score   support\n",
            "\n",
            "         1.0       0.93      0.98      0.95        90\n",
            "         2.0       0.96      0.94      0.95        90\n",
            "         3.0       0.82      0.87      0.84        90\n",
            "         4.0       0.99      1.00      0.99        90\n",
            "         5.0       1.00      0.96      0.98        90\n",
            "         6.0       0.89      0.90      0.90        90\n",
            "         7.0       0.93      0.86      0.89        90\n",
            "\n",
            "    accuracy                           0.93       630\n",
            "   macro avg       0.93      0.93      0.93       630\n",
            "weighted avg       0.93      0.93      0.93       630\n",
            "\n"
          ]
        }
      ]
    },
    {
      "cell_type": "markdown",
      "source": [
        "#Preguntas"
      ],
      "metadata": {
        "id": "vnNLAr32vnmd"
      }
    },
    {
      "cell_type": "markdown",
      "source": [
        "## ¿Observas alguna mejora importante al optimizar el tamaño de la red? ¿Es el resultado que esperabas? Argumenta tu respuesta.\n"
      ],
      "metadata": {
        "id": "EdFaSY69vot5"
      }
    },
    {
      "cell_type": "markdown",
      "source": [
        "Si,siento que la optimizacion si ayudo a mejorar el modelo, no tan drasticamente como lo esperaba, pero esto se debe a que desde un inicio con la primer prueba de 5 redes con 20 neuronas ya tuvo un modelo bastante bueno, sin embargo la optimizacion si mejor."
      ],
      "metadata": {
        "id": "p2YNlqxP-jEb"
      }
    },
    {
      "cell_type": "markdown",
      "source": [
        "## ¿Qué inconvenientes hay al encontrar el tamaño óptimo de la red? ¿Por qué?"
      ],
      "metadata": {
        "id": "Urs7XBlVvr_9"
      }
    },
    {
      "cell_type": "markdown",
      "source": [
        "En cuanto a los inconvenientes que podemos encontrar es el tiempo de cómputo, complejidad del modelo y un sobreajuste. Pude darme cuenta de que duro un rato (tampoco muchísimo) pero supongo que tiene que ver con la cantidad de datos y el tipo de libertad que le das en cuento a número de neuronas y redes."
      ],
      "metadata": {
        "id": "sjYPoJ0b_eKF"
      }
    },
    {
      "cell_type": "markdown",
      "source": [
        "# **Ejercicio 3: Modelo Perceptrón Multicapa (30 puntos)**\n",
        "\n",
        "En este ejercicio trabajarás con el conjunto de datos que se te asignó de acuerdo al último número de tu matrícula (ver las notas del ejercicio). En estos archivos se tienen datos procesados de un experimento de psicología en el que se mide la respuesta cerebral cuando un sujeto presta atención a un estímulo visual que aparece de manera repentina y cuando no presta atención a dicho estímulo visual. Los datos están en archivos de texto, los cuales se cargan con la función `loadtxt` de numpy.\n",
        "\n",
        "- La primera columna corresponde a la clase (1 o 2). La clase 1 representa cuando el sujeto está prestando atención, y la clase 2 cuando no lo hace.\n",
        "- La segunda columna se ignora, mientras que el resto de las columnas indican las variables que se calcularon de la respuesta cerebral medida con la técnicas de Electroencefaolografía para cada caso.\n",
        "\n",
        "## Para tu conjunto de datos:\n",
        "\n",
        "1. **Implementa un modelo perceptrón de una neurona entrenado con descenso de gradiente estocástico**, y evalúalo con validación cruzada. Para este caso, es necesario que encuentres la gráfica de Época vs Exactitud.\n",
        "   \n",
        "2. **Repite el paso anterior**, pero utilizando descenso de gradiente por **lote** y de **mini-lote** para entrenar el modelo.\n",
        "\n",
        "3. **Evalúa un modelo perceptrón multicapa** con validación cruzada. Para este caso, puedes utilizar un modelo dado por scikit-learn, Keras o Pytorch.\n",
        "\n",
        "4. **Contesta las siguientes preguntas:**\n",
        "   - ¿El modelo de una neurona es suficiente para modelar el conjunto de datos de este problema?\n",
        "   - ¿Qué inconvenientes hay al encontrar el tamaño óptimo de la red? ¿Por qué?\n",
        "\n",
        "\n",
        "### Notas:\n",
        "\n",
        "- Utiliza las técnicas de validación cruzada para evaluar los modelos en todos los pasos.\n",
        "- Recuerda ajustar correctamente los hiperparámetros como el número de épocas, el tamaño del lote y mini-lote.\n",
        "- Los modelos de perceptrón multicapa pueden ser ajustados en scikit-learn, Keras o Pytorch.\n"
      ],
      "metadata": {
        "id": "x6klNbTLCWy5"
      }
    },
    {
      "cell_type": "code",
      "source": [
        "from sklearn.metrics import accuracy_score\n",
        "from sklearn.model_selection import StratifiedKFold\n",
        "import matplotlib.pyplot as plt\n",
        "from collections import Counter"
      ],
      "metadata": {
        "id": "2E_9HlPJg4he"
      },
      "execution_count": 58,
      "outputs": []
    },
    {
      "cell_type": "code",
      "source": [
        "import numpy as np\n",
        "from sklearn.neural_network import MLPClassifier\n",
        "from sklearn.metrics import confusion_matrix, classification_report\n",
        "from sklearn.model_selection import KFold, cross_val_predict\n",
        "from imblearn.under_sampling import RandomUnderSampler"
      ],
      "metadata": {
        "id": "FdSpo6BinhxY"
      },
      "execution_count": 43,
      "outputs": []
    },
    {
      "cell_type": "code",
      "source": [
        "df = np.loadtxt('sample_data/P1_3.txt')"
      ],
      "metadata": {
        "id": "to40ZQfaDGcE"
      },
      "execution_count": 44,
      "outputs": []
    },
    {
      "cell_type": "code",
      "source": [
        "df.shape[1]"
      ],
      "metadata": {
        "colab": {
          "base_uri": "https://localhost:8080/"
        },
        "id": "jP-Z-GZaDKi6",
        "outputId": "62af0de5-cffc-4f4c-c9f7-c05e2911e7c1"
      },
      "execution_count": 49,
      "outputs": [
        {
          "output_type": "execute_result",
          "data": {
            "text/plain": [
              "154"
            ]
          },
          "metadata": {},
          "execution_count": 49
        }
      ]
    },
    {
      "cell_type": "code",
      "source": [
        "usecols = [0] + list(range(2, 155))\n",
        "\n",
        "\n",
        "df = np.loadtxt('sample_data/P1_3.txt', delimiter='\\t',usecols=usecols)\n",
        "\n",
        "\n",
        "y = df[:, 0]\n",
        "X = df[:, 1:]\n"
      ],
      "metadata": {
        "id": "yPmgBJ8KCZl7"
      },
      "execution_count": 64,
      "outputs": []
    },
    {
      "cell_type": "code",
      "source": [
        "print(X)"
      ],
      "metadata": {
        "colab": {
          "base_uri": "https://localhost:8080/"
        },
        "id": "JIvnUwu8DVlU",
        "outputId": "f8a9f95f-cd3c-4538-81cf-cfc2ad0b092c"
      },
      "execution_count": 50,
      "outputs": [
        {
          "output_type": "stream",
          "name": "stdout",
          "text": [
            "[[ 0.3925073   0.67657019  0.60180412 ...  1.24975793  1.03738802\n",
            "   1.05531121]\n",
            " [-1.31487611 -0.73287418  0.41422541 ... -0.61989557 -1.05137325\n",
            "  -1.19338103]\n",
            " [-1.09345032 -0.68931183  0.07082691 ... -0.29226011 -0.2000579\n",
            "   0.28090627]\n",
            " ...\n",
            " [-0.72853565 -0.78422092  0.02350863 ... -0.00920863  0.12140923\n",
            "   0.39523656]\n",
            " [ 1.77147543  0.83735529  0.18184615 ... -0.45705499 -1.52412392\n",
            "  -1.73872657]\n",
            " [ 0.47996947 -0.54432989 -0.75249618 ... -0.18374824 -0.69901401\n",
            "  -1.41618733]]\n"
          ]
        }
      ]
    },
    {
      "cell_type": "markdown",
      "source": [
        "## Implementa un modelo perceptrón de una neurona entrenado con descenso de gradiente estocástico, y evalúalo con validación cruzada. Para este caso, es necesario que encuentres la gráfica de Época vs Exactitud."
      ],
      "metadata": {
        "id": "u8IMqX9fDpU9"
      }
    },
    {
      "cell_type": "code",
      "source": [
        "n = X.shape[0]\n",
        "nf = X.shape[1] + 1\n",
        "\n",
        "X = np.hstack((X, np.ones((n, 1))))\n",
        "y[y == 1] = -1\n",
        "y[y == 2] = 1\n",
        "\n",
        "\n",
        "def perceptron(X, w):\n",
        "    ws = np.sum(X * w)\n",
        "    return -1 if ws < 0 else 1\n",
        "\n",
        "\n",
        "def perceptron_mult(X, w):\n",
        "    return np.array([perceptron(xi, w) for xi in X])\n",
        "\n",
        "\n",
        "def train_perceptron_sg(X, y, X_test=None, y_test=None, n_epochs=20, alpha=0.001):\n",
        "    n = X.shape[0]\n",
        "    n_features = X.shape[1]\n",
        "    w = 2 * np.random.rand(n_features) - 1\n",
        "    epoch_acc = []\n",
        "\n",
        "    for epoch in range(n_epochs):\n",
        "        indices = np.random.permutation(n)\n",
        "        for index in indices:\n",
        "            yp = perceptron(X[index, :], w)\n",
        "            w += alpha * (y[index] - yp) * X[index, :]\n",
        "\n",
        "        if X_test is not None and y_test is not None:\n",
        "            y_test_pred = perceptron_mult(X_test, w)\n",
        "            acc = accuracy_score(y_test, y_test_pred)\n",
        "            epoch_acc.append(acc)\n",
        "\n",
        "    if X_test is not None and y_test is not None:\n",
        "        epoch_acc = np.array(epoch_acc)\n",
        "        return {'w': w, 'acc': epoch_acc[-1], 'epoch_acc': epoch_acc}\n",
        "    return {'w': w}\n",
        "\n",
        "\n",
        "n_epochs = 40\n",
        "alpha = 0.001\n",
        "\n",
        "model = train_perceptron_sg(X, y, X_test=X, y_test=y, n_epochs=n_epochs, alpha=alpha)\n",
        "print(model)\n",
        "\n",
        "plt.plot(np.arange(1, n_epochs+1, 1), model['epoch_acc'])\n",
        "plt.xlabel(\"Epoch\")\n",
        "plt.ylabel(\"Accuracy\")\n",
        "plt.title(\"Stochastic Gradient Descent\")\n",
        "plt.show()\n",
        "\n",
        "\n",
        "nk = 10\n",
        "kf = StratifiedKFold(n_splits=nk, shuffle=True)\n",
        "acc = 0\n",
        "epoch_acc = np.zeros(n_epochs)\n",
        "\n",
        "for train_index, test_index in kf.split(X, y):\n",
        "    X_train, X_test = X[train_index, :], X[test_index, :]\n",
        "    y_train, y_test = y[train_index], y[test_index]\n",
        "\n",
        "    model = train_perceptron_sg(X_train, y_train, X_test=X_test, y_test=y_test, n_epochs=n_epochs, alpha=alpha)\n",
        "    acc += model['acc']\n",
        "    epoch_acc += model['epoch_acc']\n",
        "\n",
        "acc /= nk\n",
        "epoch_acc /= nk\n",
        "print(\"Cross-Validated Accuracy (SGD):\", acc)\n",
        "\n",
        "plt.plot(np.arange(1, n_epochs+1, 1), epoch_acc)\n",
        "plt.xlabel(\"Epoch\")\n",
        "plt.ylabel(\"Accuracy\")\n",
        "plt.title(\"Stochastic Gradient Descent (Cross-Validated)\")\n",
        "plt.show()"
      ],
      "metadata": {
        "colab": {
          "base_uri": "https://localhost:8080/",
          "height": 1000
        },
        "id": "PJsMl1MLf0wr",
        "outputId": "83e1c06a-90b9-43b4-e02d-ce9d2ada6815"
      },
      "execution_count": 70,
      "outputs": [
        {
          "output_type": "stream",
          "name": "stdout",
          "text": [
            "{'w': array([ 0.4873273 , -0.48517195, -0.21791816, -0.33837987,  0.47322275,\n",
            "       -0.85919062, -0.1489616 ,  0.49559595, -0.43889595,  0.60636907,\n",
            "       -0.43491609, -0.35393436,  0.82705828, -0.75306357, -0.41349917,\n",
            "       -0.3472814 , -0.22688386,  0.32331305,  0.03102185, -0.58806848,\n",
            "        0.74006299, -0.72975993, -0.25149558,  0.43225025, -0.86201282,\n",
            "        0.18575097,  0.55579068, -0.52976854, -0.35311832,  0.43448129,\n",
            "        0.34841943, -0.48573985, -0.75937849,  0.57729253, -0.23978226,\n",
            "        0.1037121 , -0.306495  ,  0.26852966, -0.29008213, -0.12636352,\n",
            "       -0.38592482, -0.29980609,  0.71078247, -0.29024682, -0.40748964,\n",
            "       -0.55658191,  0.94763556,  0.0141024 , -0.53109311,  0.03104743,\n",
            "        0.06384465, -0.46552314,  0.0148448 ,  0.38773272, -0.67399304,\n",
            "        1.03449736, -0.31408171,  0.08324109, -0.01739386, -0.19319616,\n",
            "       -0.45913148,  0.06506698, -0.64776745,  0.44390185,  0.69788845,\n",
            "        0.49008513, -0.76670874,  0.62777442, -0.3363373 , -0.50671127,\n",
            "       -0.20692731,  0.37352538, -0.82514303,  0.50899051,  0.23008121,\n",
            "        0.14904498,  0.03063815, -0.61923342,  0.35884603, -0.8807732 ,\n",
            "        0.6724297 , -0.32820279, -0.50071096, -0.08305981,  0.8386801 ,\n",
            "       -0.09433718, -0.31483328, -0.40219636,  0.59811659,  0.01112962,\n",
            "       -1.08714139,  0.33637299, -0.19458728, -0.5088016 ,  0.95781771,\n",
            "        0.20376596, -0.24172085, -0.36864797, -0.30191952,  0.75342303,\n",
            "       -0.78319234, -0.54806284, -0.30883856, -0.30153057,  0.50190348,\n",
            "       -0.51702582, -0.30335759,  0.34370403, -0.29780807, -0.4105376 ,\n",
            "        0.58184203, -0.56386448, -0.16559984,  0.14107857, -0.00498597,\n",
            "       -0.06791164,  0.49615502, -0.67814403, -0.02243289, -0.44047269,\n",
            "        0.33513983, -0.16423167,  0.00591497,  0.16701144, -0.19570727,\n",
            "       -0.08822412,  0.10444107, -0.08911915, -0.10566726, -0.47582507,\n",
            "       -0.21943931,  0.1047892 , -0.05562532, -0.41579057, -0.06130495,\n",
            "       -0.02584897, -0.14189996, -0.15973879, -0.10986278,  0.08330738,\n",
            "       -0.51496936, -0.19959078,  0.73232021, -0.65360888,  0.03333595,\n",
            "       -0.06692791, -0.3130582 , -0.19915723, -0.56070184,  0.54139405,\n",
            "        0.00351637, -0.65595577,  0.43812154, -1.97522418, -2.6318322 ]), 'acc': 1.0, 'epoch_acc': array([0.80992196, 0.91750279, 0.96042363, 0.97881828, 0.98439242,\n",
            "       0.98885173, 0.99052397, 0.99386845, 0.99554069, 0.99665552,\n",
            "       0.99777035, 0.99832776, 0.99832776, 0.99944259, 0.99944259,\n",
            "       0.99944259, 1.        , 1.        , 1.        , 1.        ,\n",
            "       1.        , 1.        , 1.        , 1.        , 1.        ,\n",
            "       1.        , 1.        , 1.        , 1.        , 1.        ,\n",
            "       1.        , 1.        , 1.        , 1.        , 1.        ,\n",
            "       1.        , 1.        , 1.        , 1.        , 1.        ])}\n"
          ]
        },
        {
          "output_type": "display_data",
          "data": {
            "text/plain": [
              "<Figure size 640x480 with 1 Axes>"
            ],
            "image/png": "[encoded data removed]"
          },
          "metadata": {}
        },
        {
          "output_type": "stream",
          "name": "stdout",
          "text": [
            "Cross-Validated Accuracy (SGD): 0.986064556176288\n"
          ]
        },
        {
          "output_type": "display_data",
          "data": {
            "text/plain": [
              "<Figure size 640x480 with 1 Axes>"
            ],
            "image/png": "[encoded data removed]"
          },
          "metadata": {}
        }
      ]
    },
    {
      "cell_type": "markdown",
      "source": [
        "## Repite el paso anterior, pero utilizando descenso de gradiente por lote y de mini-lote para entrenar el modelo."
      ],
      "metadata": {
        "id": "oc37xeEKDtPD"
      }
    },
    {
      "cell_type": "code",
      "source": [
        "def train_perceptron_batch(X, y, X_test=None, y_test=None, n_epochs=20, alpha=0.001):\n",
        "    n = X.shape[0]\n",
        "    n_features = X.shape[1]\n",
        "    w = 2 * np.random.rand(n_features) - 1\n",
        "    epoch_acc = []\n",
        "\n",
        "    for epoch in range(n_epochs):\n",
        "        grad = np.zeros(n_features)\n",
        "        for i in range(n):\n",
        "            yp = perceptron(X[i, :], w)\n",
        "            grad += (y[i] - yp) * X[i, :]\n",
        "        w += alpha * grad\n",
        "\n",
        "        if X_test is not None and y_test is not None:\n",
        "            y_test_pred = perceptron_mult(X_test, w)\n",
        "            acc = accuracy_score(y_test, y_test_pred)\n",
        "            epoch_acc.append(acc)\n",
        "\n",
        "    if X_test is not None and y_test is not None:\n",
        "        epoch_acc = np.array(epoch_acc)\n",
        "        return {'w': w, 'acc': epoch_acc[-1], 'epoch_acc': epoch_acc}\n",
        "    return {'w': w}\n",
        "\n",
        "\n",
        "n_epochs = 40\n",
        "alpha = 0.001\n",
        "\n",
        "model = train_perceptron_batch(X, y, X_test=X, y_test=y, n_epochs=n_epochs, alpha=alpha)\n",
        "print(model)\n",
        "\n",
        "plt.plot(np.arange(1, n_epochs+1, 1), model['epoch_acc'])\n",
        "plt.xlabel(\"Epoch\")\n",
        "plt.ylabel(\"Accuracy\")\n",
        "plt.title(\"Batch\")\n",
        "plt.show()\n",
        "\n",
        "\n",
        "nk = 10\n",
        "kf = StratifiedKFold(n_splits=nk, shuffle=True)\n",
        "acc = 0\n",
        "epoch_acc = np.zeros(n_epochs)\n",
        "\n",
        "for train_index, test_index in kf.split(X, y):\n",
        "    X_train, X_test = X[train_index, :], X[test_index, :]\n",
        "    y_train, y_test = y[train_index], y[test_index]\n",
        "\n",
        "    model = train_perceptron_batch(X_train, y_train, X_test=X_test, y_test=y_test, n_epochs=n_epochs, alpha=alpha)\n",
        "    acc += model['acc']\n",
        "    epoch_acc += model['epoch_acc']\n",
        "\n",
        "acc /= nk\n",
        "epoch_acc /= nk\n",
        "print(\"Cross-Validated Accuracy (Batch):\", acc)\n",
        "\n",
        "plt.plot(np.arange(1, n_epochs+1, 1), epoch_acc)\n",
        "plt.xlabel(\"Epoch\")\n",
        "plt.ylabel(\"Accuracy\")\n",
        "plt.title(\"Batch  (Cross-Validated)\")\n",
        "plt.show()\n"
      ],
      "metadata": {
        "colab": {
          "base_uri": "https://localhost:8080/",
          "height": 1000
        },
        "id": "TEY11JDug9hB",
        "outputId": "c4c5e284-94dd-4afe-84ba-29685328ed45"
      },
      "execution_count": 21,
      "outputs": [
        {
          "output_type": "stream",
          "name": "stdout",
          "text": [
            "{'w': array([-4.90223421e-01,  6.00981519e-01, -3.83948422e-01, -7.52092518e-01,\n",
            "       -3.71587480e-01,  4.19121939e-01,  6.33463771e-01, -7.01208959e-01,\n",
            "       -8.31375957e-02, -6.47566143e-01,  6.86656927e-01, -3.20153196e-01,\n",
            "       -3.64514444e-01, -3.21868506e-01,  3.93402478e-01, -3.33462985e-01,\n",
            "       -1.43045502e-01,  6.46494418e-01, -1.75636711e-01, -2.79511523e-01,\n",
            "       -6.34748702e-01,  5.14645274e-02,  4.13404177e-01, -2.66238719e-01,\n",
            "        3.11646755e-01,  6.18580470e-01, -7.04442225e-01,  8.38728244e-01,\n",
            "       -5.09232330e-01, -2.31222155e-01, -2.89897010e-01, -6.19096169e-01,\n",
            "        7.03360642e-01,  1.96876758e-01, -5.01816544e-01, -5.19827952e-01,\n",
            "        1.87940356e-01,  6.55808045e-01, -9.38985361e-01,  2.91634630e-01,\n",
            "        4.95527416e-01,  4.78459695e-01, -4.77911990e-01, -7.60919113e-01,\n",
            "        1.07959028e+00, -6.24770825e-01, -1.37501137e-01,  5.42852992e-01,\n",
            "       -5.40404954e-01,  7.70622680e-01,  1.05467526e-01, -7.37039379e-01,\n",
            "       -1.62299961e-01, -3.80622672e-01, -6.25650857e-01,  1.04820232e+00,\n",
            "       -8.39161033e-01,  7.35759965e-01,  4.96590544e-01, -7.10264241e-04,\n",
            "       -6.75796145e-01, -8.63532746e-01,  5.54751298e-01, -3.93818904e-01,\n",
            "       -4.12962952e-01,  3.33475010e-01,  2.26231089e-01, -7.52333219e-01,\n",
            "        1.04045728e+00, -8.26777772e-01, -9.29340127e-01,  2.07670870e-01,\n",
            "        6.53993015e-01, -3.54427843e-01, -4.01754913e-01,  1.02769629e+00,\n",
            "       -5.33339474e-01,  5.34025561e-01, -4.12963569e-01, -7.30391214e-01,\n",
            "       -6.94217365e-01, -6.13081312e-01, -1.63286326e-01,  2.38501766e-01,\n",
            "        7.15135768e-01,  4.24658844e-01, -5.53751328e-01, -3.42637236e-01,\n",
            "        5.02967524e-01, -1.05163268e+00, -8.14573041e-01, -6.08376158e-01,\n",
            "        6.74779914e-01, -5.04510155e-01,  3.19157723e-02, -2.13496555e-01,\n",
            "        7.98304892e-01, -1.98291938e-01,  2.81124096e-01, -6.59559650e-02,\n",
            "       -1.96033779e-01, -5.98710296e-01, -3.06137804e-01,  3.75935106e-01,\n",
            "       -5.97782659e-02, -5.70958162e-01, -3.07370800e-01,  2.06545413e-01,\n",
            "       -2.37070554e-01,  4.10007532e-01, -2.03666710e-01, -4.10242136e-01,\n",
            "        6.40834268e-01, -1.50336922e-01,  5.21391636e-01,  6.47797498e-02,\n",
            "       -1.52993659e-01, -3.78867166e-01,  8.37888926e-01, -1.04409198e+00,\n",
            "        5.30781746e-01, -5.60093476e-01,  2.42306600e-01, -5.39532935e-01,\n",
            "       -1.13152933e-01, -1.92241425e-01,  7.30489998e-02, -4.23923594e-01,\n",
            "        1.04138923e-01, -1.30494368e-01,  6.07961267e-02,  7.56682270e-02,\n",
            "        6.55354621e-02, -1.23095207e-01, -3.59891588e-01,  1.00523667e-01,\n",
            "        3.68098830e-06, -8.54563444e-01,  6.91721238e-01, -6.64181029e-01,\n",
            "       -4.50463242e-01,  6.59856446e-01,  6.89025274e-01, -8.69928051e-02,\n",
            "        5.69236521e-01, -5.00098692e-01, -1.41453411e-01, -3.14300280e-01,\n",
            "       -6.10304475e-01,  2.89648829e-03, -2.50575710e-03,  7.50103447e-01,\n",
            "        3.34502025e-01, -1.81606460e+00, -3.99096329e-01, -2.21688398e+00,\n",
            "       -1.91144902e+00, -2.16901676e+00, -2.31359885e+00]), 'acc': 1.0, 'epoch_acc': array([0.9960981 , 0.99832776, 0.99888517, 0.99832776, 0.99888517,\n",
            "       0.99888517, 0.99944259, 1.        , 1.        , 1.        ,\n",
            "       1.        , 1.        , 1.        , 1.        , 1.        ,\n",
            "       1.        , 1.        , 1.        , 1.        , 1.        ,\n",
            "       1.        , 1.        , 1.        , 1.        , 1.        ,\n",
            "       1.        , 1.        , 1.        , 1.        , 1.        ,\n",
            "       1.        , 1.        , 1.        , 1.        , 1.        ,\n",
            "       1.        , 1.        , 1.        , 1.        , 1.        ])}\n"
          ]
        },
        {
          "output_type": "display_data",
          "data": {
            "text/plain": [
              "<Figure size 640x480 with 1 Axes>"
            ],
            "image/png": "[encoded data removed]"
          },
          "metadata": {}
        },
        {
          "output_type": "stream",
          "name": "stdout",
          "text": [
            "Cross-Validated Accuracy (Batch): 0.9955400372439479\n"
          ]
        },
        {
          "output_type": "display_data",
          "data": {
            "text/plain": [
              "<Figure size 640x480 with 1 Axes>"
            ],
            "image/png": "[encoded data removed]"
          },
          "metadata": {}
        }
      ]
    },
    {
      "cell_type": "code",
      "source": [
        "def train_perceptron_mini_batch(X, y, X_test=None, y_test=None, n_epochs=20, alpha=0.001, batch_size=5):\n",
        "    n = X.shape[0]\n",
        "    n_features = X.shape[1]\n",
        "    w = 2 * np.random.rand(n_features) - 1\n",
        "    n_updates = n // batch_size + int(n % batch_size > 0)\n",
        "    epoch_acc = []\n",
        "\n",
        "    for epoch in range(n_epochs):\n",
        "        indices = np.random.permutation(n)\n",
        "        j = 0\n",
        "        for i in range(n_updates):\n",
        "            grad = np.zeros(n_features)\n",
        "            counter = 0\n",
        "            for b in range(batch_size):\n",
        "                if j >= n:\n",
        "                    continue\n",
        "                yp = perceptron(X[indices[j], :], w)\n",
        "                grad += (y[indices[j]] - yp) * X[indices[j], :]\n",
        "                counter += 1\n",
        "                j += 1\n",
        "            w += alpha * grad\n",
        "\n",
        "        if X_test is not None and y_test is not None:\n",
        "            y_test_pred = perceptron_mult(X_test, w)\n",
        "            acc = accuracy_score(y_test, y_test_pred)\n",
        "            epoch_acc.append(acc)\n",
        "\n",
        "    if X_test is not None and y_test is not None:\n",
        "        epoch_acc = np.array(epoch_acc)\n",
        "        return {'w': w, 'acc': epoch_acc[-1], 'epoch_acc': epoch_acc}\n",
        "    return {'w': w}\n",
        "\n",
        "\n",
        "n_epochs = 40\n",
        "alpha = 0.001\n",
        "batch_size = 5\n",
        "\n",
        "model = train_perceptron_mini_batch(X, y, X_test=X, y_test=y, n_epochs=n_epochs, alpha=alpha, batch_size=batch_size)\n",
        "print(model)\n",
        "\n",
        "plt.plot(np.arange(1, n_epochs+1, 1), model['epoch_acc'])\n",
        "plt.xlabel(\"Epoch\")\n",
        "plt.ylabel(\"Accuracy\")\n",
        "plt.title(\"Mini-Batch \")\n",
        "plt.show()\n",
        "\n",
        "\n",
        "nk = 10\n",
        "kf = StratifiedKFold(n_splits=nk, shuffle=True)\n",
        "acc = 0\n",
        "epoch_acc = np.zeros(n_epochs)\n",
        "\n",
        "for train_index, test_index in kf.split(X, y):\n",
        "    X_train, X_test = X[train_index, :], X[test_index, :]\n",
        "    y_train, y_test = y[train_index], y[test_index]\n",
        "\n",
        "    model = train_perceptron_mini_batch(X_train, y_train, X_test=X_test, y_test=y_test, n_epochs=n_epochs, alpha=alpha, batch_size=batch_size)\n",
        "    acc += model['acc']\n",
        "    epoch_acc += model['epoch_acc']\n",
        "\n",
        "acc /= nk\n",
        "epoch_acc /= nk\n",
        "print(\"Cross-Validated Accuracy (Mini-Batch):\", acc)\n",
        "\n",
        "plt.plot(np.arange(1, n_epochs+1, 1), epoch_acc)\n",
        "plt.xlabel(\"Epoch\")\n",
        "plt.ylabel(\"Accuracy\")\n",
        "plt.title(\"Mini-Batch (Cross-Validated)\")\n",
        "plt.show()\n"
      ],
      "metadata": {
        "colab": {
          "base_uri": "https://localhost:8080/",
          "height": 1000
        },
        "id": "NiBL8sFHhLTl",
        "outputId": "6b86ce45-a141-4a25-8a8d-b4eab4f74175"
      },
      "execution_count": 22,
      "outputs": [
        {
          "output_type": "stream",
          "name": "stdout",
          "text": [
            "{'w': array([ 3.50100518e-01,  6.91508269e-01, -1.69590317e-01, -4.56690158e-01,\n",
            "        2.87051836e-01, -7.68233171e-01,  1.33059184e-02,  3.03231840e-02,\n",
            "       -2.57865369e-02, -5.32974788e-01,  6.79691769e-01,  6.14541820e-01,\n",
            "       -4.53714174e-01,  2.58616976e-01, -5.19462826e-01,  1.05435834e-01,\n",
            "        5.96143183e-01, -1.03988086e-01, -5.75413249e-01,  1.50602298e-02,\n",
            "        3.05693405e-01, -3.15229079e-02,  9.69607232e-02, -5.19645494e-01,\n",
            "        9.33052345e-01, -5.59335040e-01, -3.42159479e-01,  5.50723866e-01,\n",
            "       -2.33347070e-01,  7.11378006e-01, -1.69149754e-01, -4.90640529e-02,\n",
            "       -1.64355826e-01, -3.21395919e-01, -4.46882630e-01, -3.78363765e-01,\n",
            "        2.45533676e-01,  1.46687351e-01,  7.52358713e-01, -5.26379961e-01,\n",
            "        8.67667324e-02, -2.52022672e-01, -1.39695060e-01,  3.80688988e-01,\n",
            "        4.37278519e-01, -7.27786969e-01,  1.96727977e-01, -3.27213713e-01,\n",
            "        5.85593093e-01,  1.86655231e-01, -5.30372226e-01, -2.63031022e-01,\n",
            "       -3.46218619e-01, -4.47252363e-01,  8.60493464e-01, -6.98528989e-01,\n",
            "        6.35009321e-01, -1.21528021e-02,  3.22092322e-02, -5.72155164e-01,\n",
            "       -2.76592148e-01,  7.85828223e-02,  2.99648099e-01,  3.21909681e-02,\n",
            "        4.47890323e-01, -3.69748923e-01,  3.92825629e-01,  3.56733084e-01,\n",
            "       -6.50248911e-01, -3.29351379e-01,  8.84109521e-03,  1.37387002e-02,\n",
            "       -3.82643940e-01,  2.66914246e-01, -2.99131451e-02,  5.13240489e-01,\n",
            "        4.39248571e-01, -6.59770366e-01,  6.87701058e-01, -7.03479013e-01,\n",
            "       -6.87059019e-01,  2.78246722e-01,  4.61633051e-01, -6.31032936e-02,\n",
            "        8.73814001e-03,  5.34816123e-01, -2.73922753e-01, -4.45634344e-01,\n",
            "        6.12760979e-01, -4.82115651e-01,  1.36548068e-01, -6.30567443e-01,\n",
            "        2.45818295e-01, -4.20014372e-01,  3.48614508e-01,  4.66713521e-01,\n",
            "        2.16024110e-01, -9.11350086e-02, -6.51035319e-01, -5.68972909e-01,\n",
            "        3.91585330e-01,  4.05392649e-01,  3.14789019e-01,  3.79752271e-02,\n",
            "        4.50768466e-01,  1.30818148e-01, -5.53352432e-01,  7.29989900e-01,\n",
            "        5.68120268e-02,  2.74833891e-01, -8.12569813e-01, -5.22374484e-01,\n",
            "        8.02292398e-01,  1.99375670e-01,  1.12014998e-01,  4.56142786e-01,\n",
            "        1.76733468e-01, -5.13703445e-01,  6.68246193e-01, -4.36558527e-01,\n",
            "        6.84443838e-01,  1.40676044e-01, -7.42526052e-02, -1.63263214e-01,\n",
            "       -1.01808850e-01,  2.83124569e-01,  3.74515745e-01, -2.61157417e-01,\n",
            "        3.49787944e-01,  4.08234813e-02,  5.40373852e-01,  8.83947860e-02,\n",
            "        4.66589152e-02, -2.07489291e-01, -2.74869299e-01, -1.96307496e-01,\n",
            "        3.26651218e-01, -5.32658241e-01,  2.82997709e-01,  4.83416335e-01,\n",
            "       -9.03409857e-01,  2.69523414e-01,  6.35258541e-01, -3.77744226e-02,\n",
            "       -1.68107615e-03,  7.53651655e-02,  3.95600690e-01,  1.71978061e-01,\n",
            "       -6.71732782e-01,  8.49837159e-03, -2.85909283e-02,  5.47225759e-02,\n",
            "        1.80377199e-01, -6.40524928e-01, -1.14539628e+00, -4.63692566e-01,\n",
            "       -1.93053924e+00, -1.99786806e+00, -1.06946428e+00]), 'acc': 1.0, 'epoch_acc': array([0.89632107, 0.96098105, 0.98272018, 0.98885173, 0.99331104,\n",
            "       0.99665552, 0.99665552, 0.99777035, 0.99777035, 0.99832776,\n",
            "       0.99888517, 0.99888517, 0.99888517, 0.99944259, 0.99944259,\n",
            "       0.99944259, 1.        , 1.        , 1.        , 1.        ,\n",
            "       1.        , 1.        , 1.        , 1.        , 1.        ,\n",
            "       1.        , 1.        , 1.        , 1.        , 1.        ,\n",
            "       1.        , 1.        , 1.        , 1.        , 1.        ,\n",
            "       1.        , 1.        , 1.        , 1.        , 1.        ])}\n"
          ]
        },
        {
          "output_type": "display_data",
          "data": {
            "text/plain": [
              "<Figure size 640x480 with 1 Axes>"
            ],
            "image/png": "[encoded data removed]"
          },
          "metadata": {}
        },
        {
          "output_type": "stream",
          "name": "stdout",
          "text": [
            "Cross-Validated Accuracy (Mini-Batch): 0.9838237119801365\n"
          ]
        },
        {
          "output_type": "display_data",
          "data": {
            "text/plain": [
              "<Figure size 640x480 with 1 Axes>"
            ],
            "image/png": "[encoded data removed]"
          },
          "metadata": {}
        }
      ]
    },
    {
      "cell_type": "markdown",
      "source": [
        "## Evalúa un modelo perceptrón multicapa con validación cruzada. Para este caso, puedes utilizar un modelo dado por scikit-learn, Keras o Pytorch. y Blanceo"
      ],
      "metadata": {
        "id": "p_di8tW9Dw9r"
      }
    },
    {
      "cell_type": "code",
      "source": [
        "model = MLPClassifier(hidden_layer_sizes=(100, 100), max_iter=1000, random_state=42)\n",
        "\n",
        "\n",
        "kf = KFold(n_splits=5, shuffle=True, random_state=42)\n",
        "\n",
        "\n",
        "y_pred = np.zeros_like(y)\n",
        "\n",
        "\n",
        "for train_index, test_index in kf.split(X):\n",
        "    X_train, X_test = X[train_index], X[test_index]\n",
        "    y_train, y_test = y[train_index], y[test_index]\n",
        "\n",
        "\n",
        "    undersample = RandomUnderSampler(sampling_strategy={2: 298}, random_state=42)\n",
        "    X_res, y_res = undersample.fit_resample(X_train, y_train)\n",
        "\n",
        "    class_counts_resampled = Counter(y_res)\n",
        "    print(f\"Balance de clases después del submuestreo en el pliegue actual:\")\n",
        "    print(class_counts_resampled)\n",
        "\n",
        "    model.fit(X_res, y_res)\n",
        "\n",
        "\n",
        "    y_pred[test_index] = model.predict(X_test)\n",
        "\n",
        "\n",
        "matriz_confusion = confusion_matrix(y, y_pred)\n",
        "print(\"Matriz de Confusión:\")\n",
        "print(matriz_confusion)\n",
        "\n",
        "print(\"\\nReporte de Clasificación:\")\n",
        "print(classification_report(y, y_pred))"
      ],
      "metadata": {
        "colab": {
          "base_uri": "https://localhost:8080/"
        },
        "id": "sn0UFKL7DwwO",
        "outputId": "568737e8-1016-483f-a337-7fc6523a543f"
      },
      "execution_count": 57,
      "outputs": [
        {
          "output_type": "stream",
          "name": "stdout",
          "text": [
            "Balance de clases después del submuestreo en el pliegue actual:\n",
            "Counter({2.0: 298, 1.0: 246})\n",
            "Balance de clases después del submuestreo en el pliegue actual:\n",
            "Counter({2.0: 298, 1.0: 239})\n",
            "Balance de clases después del submuestreo en el pliegue actual:\n",
            "Counter({2.0: 298, 1.0: 219})\n",
            "Balance de clases después del submuestreo en el pliegue actual:\n",
            "Counter({2.0: 298, 1.0: 247})\n",
            "Balance de clases después del submuestreo en el pliegue actual:\n",
            "Counter({2.0: 298, 1.0: 241})\n",
            "Matriz de Confusión:\n",
            "[[ 239   59]\n",
            " [ 220 1276]]\n",
            "\n",
            "Reporte de Clasificación:\n",
            "              precision    recall  f1-score   support\n",
            "\n",
            "         1.0       0.52      0.80      0.63       298\n",
            "         2.0       0.96      0.85      0.90      1496\n",
            "\n",
            "    accuracy                           0.84      1794\n",
            "   macro avg       0.74      0.83      0.77      1794\n",
            "weighted avg       0.88      0.84      0.86      1794\n",
            "\n"
          ]
        }
      ]
    },
    {
      "cell_type": "markdown",
      "source": [
        "#Preguntas"
      ],
      "metadata": {
        "id": "IIdQ3XRfDzkk"
      }
    },
    {
      "cell_type": "markdown",
      "source": [
        "## ¿El modelo de una neurona es suficiente para modelar el conjunto de datos de este problema?\n"
      ],
      "metadata": {
        "id": "BJ4orLnRD1IO"
      }
    },
    {
      "cell_type": "markdown",
      "source": [
        "Por lo general un modelo de una neouran es suficiente para problmeas de clasificacion linealmente seprabales. Pero si el conjkunto de datos presenta una complejidad mayor, como la prresncia de relaciones no lineales entre las caracaterisitcas y las etiquetas, este podria no ser suficiente."
      ],
      "metadata": {
        "id": "7YmjEIaoun19"
      }
    },
    {
      "cell_type": "markdown",
      "source": [
        "## ¿Qué inconvenientes hay al encontrar el tamaño óptimo de la red? ¿Por qué?"
      ],
      "metadata": {
        "id": "ycv7iANWD4D7"
      }
    },
    {
      "cell_type": "markdown",
      "source": [
        "Dentro de los inconvenientes a presentarlo por encuentra un tamaño óptimo, yo creo que los más a considerar son, el sobre ajuste, ya que el modelo puede aprender demasiado bien los detalles específicos del conjunto de entrenamiento, incluyendo el ruido, esto lleva  aún rendimiento deficiente en datos no vistos.\n",
        "\n",
        "\n",
        "también el costo computacional."
      ],
      "metadata": {
        "id": "mbn4MrF0vVAA"
      }
    }
  ]
}