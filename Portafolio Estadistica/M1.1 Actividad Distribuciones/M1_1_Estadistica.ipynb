{
  "nbformat": 4,
  "nbformat_minor": 0,
  "metadata": {
    "colab": {
      "provenance": []
    },
    "kernelspec": {
      "name": "python3",
      "display_name": "Python 3"
    },
    "language_info": {
      "name": "python"
    }
  },
  "cells": [
    {
      "cell_type": "code",
      "source": [
        "from scipy.stats import norm\n",
        "from scipy.stats import binom"
      ],
      "metadata": {
        "id": "GgFu3tozXZPk"
      },
      "execution_count": 7,
      "outputs": []
    },
    {
      "cell_type": "markdown",
      "source": [
        "# Ejercicio 1C\n"
      ],
      "metadata": {
        "id": "79O2ra-VXgdn"
      }
    },
    {
      "cell_type": "code",
      "source": [
        "mu = 6\n",
        "sigma = 2.683\n",
        "\n",
        "\n",
        "z_value_superior = (8 - mu) / sigma\n",
        "z_value_inferior = (4 - mu) / sigma\n",
        "\n",
        "\n",
        "probability_superior = norm.sf(z_value_superior)\n",
        "probability_inferior = norm.cdf(z_value_inferior)\n",
        "\n",
        "\n",
        "result = probability_superior + probability_inferior\n",
        "\n",
        "\n",
        "porcentaje = 100 * result\n",
        "\n",
        "print(porcentaje)"
      ],
      "metadata": {
        "colab": {
          "base_uri": "https://localhost:8080/"
        },
        "id": "PZuFMouFXbIw",
        "outputId": "51b7a6bd-d5e5-4939-8a4d-11adfd8cf8bd"
      },
      "execution_count": 2,
      "outputs": [
        {
          "output_type": "stream",
          "name": "stdout",
          "text": [
            "45.60092660569306\n"
          ]
        }
      ]
    },
    {
      "cell_type": "markdown",
      "source": [
        "# Ejercicio 3A"
      ],
      "metadata": {
        "id": "fyvbDPYFXnth"
      }
    },
    {
      "cell_type": "code",
      "source": [
        "z_value = -1.375\n",
        "\n",
        "probability = norm.sf(z_value)\n",
        "\n",
        "\n",
        "porcentaje = 100 * probability\n",
        "\n",
        "print(porcentaje)"
      ],
      "metadata": {
        "colab": {
          "base_uri": "https://localhost:8080/"
        },
        "id": "Xi-1lhaCXnjZ",
        "outputId": "2bf106be-c8d3-41a9-e868-4d1dd95aee67"
      },
      "execution_count": 3,
      "outputs": [
        {
          "output_type": "stream",
          "name": "stdout",
          "text": [
            "91.54342776486644\n"
          ]
        }
      ]
    },
    {
      "cell_type": "markdown",
      "source": [
        "# Ejercicio 3B"
      ],
      "metadata": {
        "id": "MQvPHoohXrQZ"
      }
    },
    {
      "cell_type": "code",
      "source": [
        "mu = 137.2\n",
        "\n",
        "p5 = 0.05\n",
        "\n",
        "z_value = norm.ppf(p5)\n",
        "\n",
        "\n",
        "contenido_declarado = 135\n",
        "\n",
        "\n",
        "sigma = (contenido_declarado - mu) / z_value\n",
        "\n",
        "print(f\"La desviación estándar necesaria es: {sigma:.4f}\")\n"
      ],
      "metadata": {
        "colab": {
          "base_uri": "https://localhost:8080/"
        },
        "id": "ZcohamvxXmJd",
        "outputId": "d8023fb6-1797-43cf-d5dd-f28202de3e41"
      },
      "execution_count": 5,
      "outputs": [
        {
          "output_type": "stream",
          "name": "stdout",
          "text": [
            "La desviación estándar necesaria es: 1.3375\n"
          ]
        }
      ]
    },
    {
      "cell_type": "markdown",
      "source": [
        "# Ejercicio 3C"
      ],
      "metadata": {
        "id": "e8wvUecJX5t_"
      }
    },
    {
      "cell_type": "code",
      "source": [
        "n = 10\n",
        "\n",
        "\n",
        "p = 0.9143\n",
        "\n",
        "# Probabilidad de que al menos 8 frascos contengan más que el contenido declarado\n",
        "prob8 = binom.sf(7, n, p)\n",
        "\n",
        "\n",
        "porcentaje = 100 * prob8\n",
        "\n",
        "print(f\"La probabilidad de que al menos 8 de los 10 frascos contengan más que el contenido declarado es: {porcentaje:.2f}%\")\n"
      ],
      "metadata": {
        "colab": {
          "base_uri": "https://localhost:8080/"
        },
        "id": "TLjelWwbXzGO",
        "outputId": "6c1456d8-502c-4021-c0c2-b8cc173cf343"
      },
      "execution_count": 8,
      "outputs": [
        {
          "output_type": "stream",
          "name": "stdout",
          "text": [
            "La probabilidad de que al menos 8 de los 10 frascos contengan más que el contenido declarado es: 95.22%\n"
          ]
        }
      ]
    },
    {
      "cell_type": "markdown",
      "source": [
        "# Ejercicio 4A"
      ],
      "metadata": {
        "id": "G_VHKZ4ZYHLr"
      }
    },
    {
      "cell_type": "code",
      "source": [
        "z_value = 0.28571\n",
        "\n",
        "\n",
        "probability = norm.sf(z_value)\n",
        "\n",
        "\n",
        "porcentaje = 100 * probability\n",
        "\n",
        "print(f\"La probabilidad de que el tamaño de grano exceda de 100 es: {porcentaje:.2f}%\")\n"
      ],
      "metadata": {
        "colab": {
          "base_uri": "https://localhost:8080/"
        },
        "id": "ZfZ5yC9gYLDC",
        "outputId": "031a0211-4e00-4850-8788-00c442e17527"
      },
      "execution_count": 9,
      "outputs": [
        {
          "output_type": "stream",
          "name": "stdout",
          "text": [
            "La probabilidad de que el tamaño de grano exceda de 100 es: 38.76%\n"
          ]
        }
      ]
    },
    {
      "cell_type": "markdown",
      "source": [
        "# Ejercicio 4B"
      ],
      "metadata": {
        "id": "Hdyh_J4JYOxW"
      }
    },
    {
      "cell_type": "code",
      "source": [
        "z_value_50 = (50 - 96) / 14\n",
        "z_value_80 = (80 - 96) / 14\n",
        "\n",
        "\n",
        "probability_50 = norm.cdf(z_value_50)\n",
        "probability_80 = norm.cdf(z_value_80)\n",
        "\n",
        "\n",
        "probability = probability_80 - probability_50\n",
        "\n",
        "\n",
        "porcentaje = 100 * probability\n",
        "\n",
        "print(f\"La probabilidad de que el tamaño de grano esté entre 50 y 80 es: {porcentaje:.2f}%\")\n"
      ],
      "metadata": {
        "colab": {
          "base_uri": "https://localhost:8080/"
        },
        "id": "TpAfJKPQYSx2",
        "outputId": "943cc0b5-1525-40e6-e01b-755d0641967e"
      },
      "execution_count": 12,
      "outputs": [
        {
          "output_type": "stream",
          "name": "stdout",
          "text": [
            "La probabilidad de que el tamaño de grano esté entre 50 y 80 es: 12.60%\n"
          ]
        }
      ]
    },
    {
      "cell_type": "markdown",
      "source": [
        "# Ejercicio 4C"
      ],
      "metadata": {
        "id": "WfVeFtQaYZed"
      }
    },
    {
      "cell_type": "code",
      "source": [
        "z_value_5 = norm.ppf(0.05)\n",
        "z_value_95 = norm.ppf(0.95)\n",
        "\n",
        "\n",
        "a = 96 + z_value_5 * 14\n",
        "b = 96 + z_value_95 * 14\n",
        "\n",
        "print(f\"El intervalo que incluye el 90% central de los tamaños de grano es: ({a:.2f}, {b:.2f})\")\n"
      ],
      "metadata": {
        "colab": {
          "base_uri": "https://localhost:8080/"
        },
        "id": "tlVbCtSMYcZc",
        "outputId": "b674f04e-2bc3-4f84-c5a4-d6345c4bbf23"
      },
      "execution_count": 13,
      "outputs": [
        {
          "output_type": "stream",
          "name": "stdout",
          "text": [
            "El intervalo que incluye el 90% central de los tamaños de grano es: (72.97, 119.03)\n"
          ]
        }
      ]
    }
  ]
}